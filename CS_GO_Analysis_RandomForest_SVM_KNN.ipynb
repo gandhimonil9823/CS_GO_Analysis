{
  "nbformat": 4,
  "nbformat_minor": 0,
  "metadata": {
    "colab": {
      "name": "CS_GO_Analysis_RandomForest-SVM-KNN.ipynb",
      "provenance": [],
      "collapsed_sections": [],
      "toc_visible": true,
      "include_colab_link": true
    },
    "kernelspec": {
      "name": "python3",
      "display_name": "Python 3"
    }
  },
  "cells": [
    {
      "cell_type": "markdown",
      "metadata": {
        "id": "view-in-github",
        "colab_type": "text"
      },
      "source": [
        "<a href=\"https://colab.research.google.com/github/gandhimonil9823/CS_GO_Analysis/blob/main/CS_GO_Analysis_RandomForest_SVM_KNN.ipynb\" target=\"_parent\"><img src=\"https://colab.research.google.com/assets/colab-badge.svg\" alt=\"Open In Colab\"/></a>"
      ]
    },
    {
      "cell_type": "code",
      "metadata": {
        "id": "XwCtK_5ZitDV"
      },
      "source": [
        "import pandas as pd\n",
        "import os"
      ],
      "execution_count": 1,
      "outputs": []
    },
    {
      "cell_type": "code",
      "metadata": {
        "id": "PWUAYaEVisXp",
        "colab": {
          "base_uri": "https://localhost:8080/"
        },
        "outputId": "9a3688c8-0297-4241-dd8c-576e3343b0a3"
      },
      "source": [
        "from google.colab import drive\n",
        "drive.mount('/content/drive')\n"
      ],
      "execution_count": 2,
      "outputs": [
        {
          "output_type": "stream",
          "text": [
            "Mounted at /content/drive\n"
          ],
          "name": "stdout"
        }
      ]
    },
    {
      "cell_type": "code",
      "metadata": {
        "id": "p2Uhw8N_mnhS",
        "colab": {
          "base_uri": "https://localhost:8080/"
        },
        "outputId": "c084dbd4-a362-4046-ad37-9b57e17f4eb5"
      },
      "source": [
        "ls"
      ],
      "execution_count": 3,
      "outputs": [
        {
          "output_type": "stream",
          "text": [
            "\u001b[0m\u001b[01;34mdrive\u001b[0m/  \u001b[01;34msample_data\u001b[0m/\n"
          ],
          "name": "stdout"
        }
      ]
    },
    {
      "cell_type": "code",
      "metadata": {
        "id": "xXrHTfR4nvZg",
        "colab": {
          "base_uri": "https://localhost:8080/"
        },
        "outputId": "4d5d18af-08ce-4fc3-85c2-26f671841c2a"
      },
      "source": [
        "cd 'drive/Shared drives/CS_GO_Data/processed_data'"
      ],
      "execution_count": 4,
      "outputs": [
        {
          "output_type": "stream",
          "text": [
            "/content/drive/Shared drives/CS_GO_Data/processed_data\n"
          ],
          "name": "stdout"
        }
      ]
    },
    {
      "cell_type": "code",
      "metadata": {
        "id": "UlbwqAo_oHuQ",
        "colab": {
          "base_uri": "https://localhost:8080/"
        },
        "outputId": "fa0ae7b2-6687-48db-e811-d126ed24ba49"
      },
      "source": [
        "ls"
      ],
      "execution_count": 5,
      "outputs": [
        {
          "output_type": "stream",
          "text": [
            "filtered_master_dmg_demos.csv       filtered_master_kills_demos.csv\n",
            "filtered_master_grenades_demos.csv  filtered_meta_demos.csv\n"
          ],
          "name": "stdout"
        }
      ]
    },
    {
      "cell_type": "code",
      "metadata": {
        "id": "k8pfMLk14TQc"
      },
      "source": [
        "# Function to combine the dataframes and return a single dataframe\n",
        "def combine_dataframes(df1,df2):\n",
        "  df_to_return = df1.append(df2)\n",
        "  df_to_return = df_to_return.reset_index(drop=True)\n",
        "  return df_to_return"
      ],
      "execution_count": 6,
      "outputs": []
    },
    {
      "cell_type": "markdown",
      "metadata": {
        "id": "j5dDR1Ml2M_t"
      },
      "source": [
        "# Code for Preprocessing the esea_meta_demos dataset"
      ]
    },
    {
      "cell_type": "code",
      "metadata": {
        "id": "U70s8DQejz2P"
      },
      "source": [
        "def load_esea_meta_demos():\n",
        "  df_esea_meta_demos = pd.read_csv(\"filtered_meta_demos.csv\", index_col=[0])\n",
        "  df_esea_meta_demos = df_esea_meta_demos.reset_index(drop=True)\n",
        "  return df_esea_meta_demos\n",
        "\n",
        "# Function to preprocess the combined esea_meta_demos dataset\n",
        "def preprocess_esea_meta_demos():\n",
        "  \n",
        "  # load the esea_meta_demos_filtered file\n",
        "  df_esea_meta_demos = load_esea_meta_demos()\n",
        "\n",
        "  return df_esea_meta_demos"
      ],
      "execution_count": 7,
      "outputs": []
    },
    {
      "cell_type": "code",
      "metadata": {
        "id": "5Xr-pWedJpMf",
        "colab": {
          "base_uri": "https://localhost:8080/",
          "height": 292
        },
        "outputId": "3e7725e7-62ee-415d-9a35-db6e972cc817"
      },
      "source": [
        "# function call to load and preprocess the esea_meta_demos\n",
        "df_esea_meta_demos = preprocess_esea_meta_demos()\n",
        "\n",
        "df_esea_meta_demos.head()"
      ],
      "execution_count": 8,
      "outputs": [
        {
          "output_type": "execute_result",
          "data": {
            "text/html": [
              "<div>\n",
              "<style scoped>\n",
              "    .dataframe tbody tr th:only-of-type {\n",
              "        vertical-align: middle;\n",
              "    }\n",
              "\n",
              "    .dataframe tbody tr th {\n",
              "        vertical-align: top;\n",
              "    }\n",
              "\n",
              "    .dataframe thead th {\n",
              "        text-align: right;\n",
              "    }\n",
              "</style>\n",
              "<table border=\"1\" class=\"dataframe\">\n",
              "  <thead>\n",
              "    <tr style=\"text-align: right;\">\n",
              "      <th></th>\n",
              "      <th>file</th>\n",
              "      <th>map</th>\n",
              "      <th>round</th>\n",
              "      <th>start_seconds</th>\n",
              "      <th>end_seconds</th>\n",
              "      <th>winner_team</th>\n",
              "      <th>winner_side</th>\n",
              "      <th>round_type</th>\n",
              "      <th>ct_eq_val</th>\n",
              "      <th>t_eq_val</th>\n",
              "    </tr>\n",
              "  </thead>\n",
              "  <tbody>\n",
              "    <tr>\n",
              "      <th>0</th>\n",
              "      <td>esea_match_13770997.dem</td>\n",
              "      <td>de_overpass</td>\n",
              "      <td>1</td>\n",
              "      <td>94.30782</td>\n",
              "      <td>160.9591</td>\n",
              "      <td>Hentai Hooligans</td>\n",
              "      <td>Terrorist</td>\n",
              "      <td>PISTOL_ROUND</td>\n",
              "      <td>4300</td>\n",
              "      <td>4250</td>\n",
              "    </tr>\n",
              "    <tr>\n",
              "      <th>1</th>\n",
              "      <td>esea_match_13770997.dem</td>\n",
              "      <td>de_overpass</td>\n",
              "      <td>2</td>\n",
              "      <td>160.95910</td>\n",
              "      <td>279.3998</td>\n",
              "      <td>Hentai Hooligans</td>\n",
              "      <td>Terrorist</td>\n",
              "      <td>ECO</td>\n",
              "      <td>6300</td>\n",
              "      <td>19400</td>\n",
              "    </tr>\n",
              "    <tr>\n",
              "      <th>2</th>\n",
              "      <td>esea_match_13770997.dem</td>\n",
              "      <td>de_overpass</td>\n",
              "      <td>3</td>\n",
              "      <td>279.39980</td>\n",
              "      <td>341.0084</td>\n",
              "      <td>Hentai Hooligans</td>\n",
              "      <td>Terrorist</td>\n",
              "      <td>SEMI_ECO</td>\n",
              "      <td>7650</td>\n",
              "      <td>19250</td>\n",
              "    </tr>\n",
              "    <tr>\n",
              "      <th>3</th>\n",
              "      <td>esea_match_13770997.dem</td>\n",
              "      <td>de_overpass</td>\n",
              "      <td>4</td>\n",
              "      <td>341.00840</td>\n",
              "      <td>435.4259</td>\n",
              "      <td>Hentai Hooligans</td>\n",
              "      <td>Terrorist</td>\n",
              "      <td>NORMAL</td>\n",
              "      <td>24900</td>\n",
              "      <td>23400</td>\n",
              "    </tr>\n",
              "    <tr>\n",
              "      <th>4</th>\n",
              "      <td>esea_match_13770997.dem</td>\n",
              "      <td>de_overpass</td>\n",
              "      <td>5</td>\n",
              "      <td>435.42590</td>\n",
              "      <td>484.2398</td>\n",
              "      <td>Animal Style</td>\n",
              "      <td>CounterTerrorist</td>\n",
              "      <td>ECO</td>\n",
              "      <td>5400</td>\n",
              "      <td>20550</td>\n",
              "    </tr>\n",
              "  </tbody>\n",
              "</table>\n",
              "</div>"
            ],
            "text/plain": [
              "                      file          map  ...  ct_eq_val  t_eq_val\n",
              "0  esea_match_13770997.dem  de_overpass  ...       4300      4250\n",
              "1  esea_match_13770997.dem  de_overpass  ...       6300     19400\n",
              "2  esea_match_13770997.dem  de_overpass  ...       7650     19250\n",
              "3  esea_match_13770997.dem  de_overpass  ...      24900     23400\n",
              "4  esea_match_13770997.dem  de_overpass  ...       5400     20550\n",
              "\n",
              "[5 rows x 10 columns]"
            ]
          },
          "metadata": {
            "tags": []
          },
          "execution_count": 8
        }
      ]
    },
    {
      "cell_type": "markdown",
      "metadata": {
        "id": "8BLxCH2jJ9U4"
      },
      "source": [
        "# Code for Preprocessing the esea_master_dmg_demos dataset"
      ]
    },
    {
      "cell_type": "code",
      "metadata": {
        "id": "uKvw-u7HKXqe"
      },
      "source": [
        "def load_esea_master_dmg_demos():\n",
        "  df_esea_master_dmg_demos = pd.read_csv(\"filtered_master_dmg_demos.csv\")\n",
        "  df_esea_master_dmg_demos.drop('Unnamed: 0', axis=1, inplace=True)\n",
        "  df_esea_master_dmg_demos = df_esea_master_dmg_demos.reset_index(drop=True)\n",
        "  return df_esea_master_dmg_demos\n",
        "\n",
        "def delete_world_damage(df_esea_master_dmg_demos):\n",
        "  df_esea_master_dmg_demos_cleanedup = df_esea_master_dmg_demos[df_esea_master_dmg_demos.att_side != 'None']\n",
        "  df_esea_master_dmg_demos_cleanedup = df_esea_master_dmg_demos_cleanedup[df_esea_master_dmg_demos_cleanedup.att_side != df_esea_master_dmg_demos_cleanedup.vic_side]\n",
        "  df_esea_master_dmg_demos_cleanedup = df_esea_master_dmg_demos_cleanedup.reset_index(drop=True)\n",
        "  return df_esea_master_dmg_demos_cleanedup\n",
        "\n",
        "# Function to preprocess the combined esea_meta_demos dataset\n",
        "def preprocess_esea_master_dmg_demos():\n",
        "\n",
        "  # load the esea_meta_demos_filtered file\n",
        "  df_esea_master_dmg_demos = load_esea_master_dmg_demos()\n",
        "\n",
        "  #delete world damage (non player damage sustained)\n",
        "  df_esea_master_dmg_demos = delete_world_damage(df_esea_master_dmg_demos)\n",
        "\n",
        "  return df_esea_master_dmg_demos"
      ],
      "execution_count": 9,
      "outputs": []
    },
    {
      "cell_type": "code",
      "metadata": {
        "id": "dsDdnreTLuKY",
        "colab": {
          "base_uri": "https://localhost:8080/",
          "height": 309
        },
        "outputId": "1d12ca0b-fe3b-4ba0-ccd9-8bfbc19e8340"
      },
      "source": [
        "df_esea_master_dmg_demos = preprocess_esea_master_dmg_demos()\n",
        "\n",
        "df_esea_master_dmg_demos.head()"
      ],
      "execution_count": 10,
      "outputs": [
        {
          "output_type": "execute_result",
          "data": {
            "text/html": [
              "<div>\n",
              "<style scoped>\n",
              "    .dataframe tbody tr th:only-of-type {\n",
              "        vertical-align: middle;\n",
              "    }\n",
              "\n",
              "    .dataframe tbody tr th {\n",
              "        vertical-align: top;\n",
              "    }\n",
              "\n",
              "    .dataframe thead th {\n",
              "        text-align: right;\n",
              "    }\n",
              "</style>\n",
              "<table border=\"1\" class=\"dataframe\">\n",
              "  <thead>\n",
              "    <tr style=\"text-align: right;\">\n",
              "      <th></th>\n",
              "      <th>file</th>\n",
              "      <th>round</th>\n",
              "      <th>tick</th>\n",
              "      <th>seconds</th>\n",
              "      <th>att_team</th>\n",
              "      <th>vic_team</th>\n",
              "      <th>att_side</th>\n",
              "      <th>vic_side</th>\n",
              "      <th>hp_dmg</th>\n",
              "      <th>arm_dmg</th>\n",
              "      <th>is_bomb_planted</th>\n",
              "      <th>bomb_site</th>\n",
              "      <th>hitbox</th>\n",
              "      <th>wp</th>\n",
              "      <th>wp_type</th>\n",
              "      <th>att_id</th>\n",
              "      <th>att_rank</th>\n",
              "      <th>vic_id</th>\n",
              "      <th>vic_rank</th>\n",
              "      <th>att_pos_x</th>\n",
              "      <th>att_pos_y</th>\n",
              "      <th>vic_pos_x</th>\n",
              "      <th>vic_pos_y</th>\n",
              "    </tr>\n",
              "  </thead>\n",
              "  <tbody>\n",
              "    <tr>\n",
              "      <th>0</th>\n",
              "      <td>esea_match_13770997.dem</td>\n",
              "      <td>1</td>\n",
              "      <td>15972</td>\n",
              "      <td>124.3761</td>\n",
              "      <td>Animal Style</td>\n",
              "      <td>Hentai Hooligans</td>\n",
              "      <td>CounterTerrorist</td>\n",
              "      <td>Terrorist</td>\n",
              "      <td>18</td>\n",
              "      <td>9</td>\n",
              "      <td>False</td>\n",
              "      <td>NaN</td>\n",
              "      <td>Stomach</td>\n",
              "      <td>USP</td>\n",
              "      <td>Pistol</td>\n",
              "      <td>76561198048742997</td>\n",
              "      <td>0</td>\n",
              "      <td>76561198082200410</td>\n",
              "      <td>0</td>\n",
              "      <td>-1499.6900</td>\n",
              "      <td>63.33829</td>\n",
              "      <td>-669.5558</td>\n",
              "      <td>-79.769570</td>\n",
              "    </tr>\n",
              "    <tr>\n",
              "      <th>1</th>\n",
              "      <td>esea_match_13770997.dem</td>\n",
              "      <td>1</td>\n",
              "      <td>16058</td>\n",
              "      <td>125.0495</td>\n",
              "      <td>Animal Style</td>\n",
              "      <td>Hentai Hooligans</td>\n",
              "      <td>CounterTerrorist</td>\n",
              "      <td>Terrorist</td>\n",
              "      <td>100</td>\n",
              "      <td>0</td>\n",
              "      <td>False</td>\n",
              "      <td>NaN</td>\n",
              "      <td>Head</td>\n",
              "      <td>USP</td>\n",
              "      <td>Pistol</td>\n",
              "      <td>76561198055054795</td>\n",
              "      <td>0</td>\n",
              "      <td>76561197961009213</td>\n",
              "      <td>0</td>\n",
              "      <td>-1066.8740</td>\n",
              "      <td>3.44563</td>\n",
              "      <td>-614.1868</td>\n",
              "      <td>-91.707770</td>\n",
              "    </tr>\n",
              "    <tr>\n",
              "      <th>2</th>\n",
              "      <td>esea_match_13770997.dem</td>\n",
              "      <td>1</td>\n",
              "      <td>16066</td>\n",
              "      <td>125.1121</td>\n",
              "      <td>Hentai Hooligans</td>\n",
              "      <td>Animal Style</td>\n",
              "      <td>Terrorist</td>\n",
              "      <td>CounterTerrorist</td>\n",
              "      <td>12</td>\n",
              "      <td>7</td>\n",
              "      <td>False</td>\n",
              "      <td>NaN</td>\n",
              "      <td>RightArm</td>\n",
              "      <td>Glock</td>\n",
              "      <td>Pistol</td>\n",
              "      <td>76561198082200410</td>\n",
              "      <td>0</td>\n",
              "      <td>76561198055054795</td>\n",
              "      <td>0</td>\n",
              "      <td>-747.3146</td>\n",
              "      <td>-49.32681</td>\n",
              "      <td>-1065.5560</td>\n",
              "      <td>9.381622</td>\n",
              "    </tr>\n",
              "    <tr>\n",
              "      <th>3</th>\n",
              "      <td>esea_match_13770997.dem</td>\n",
              "      <td>1</td>\n",
              "      <td>16108</td>\n",
              "      <td>125.4410</td>\n",
              "      <td>Animal Style</td>\n",
              "      <td>Hentai Hooligans</td>\n",
              "      <td>CounterTerrorist</td>\n",
              "      <td>Terrorist</td>\n",
              "      <td>15</td>\n",
              "      <td>7</td>\n",
              "      <td>False</td>\n",
              "      <td>NaN</td>\n",
              "      <td>Chest</td>\n",
              "      <td>USP</td>\n",
              "      <td>Pistol</td>\n",
              "      <td>76561198048742997</td>\n",
              "      <td>0</td>\n",
              "      <td>76561198082200410</td>\n",
              "      <td>0</td>\n",
              "      <td>-1501.8610</td>\n",
              "      <td>49.19798</td>\n",
              "      <td>-748.4188</td>\n",
              "      <td>-53.469220</td>\n",
              "    </tr>\n",
              "    <tr>\n",
              "      <th>4</th>\n",
              "      <td>esea_match_13770997.dem</td>\n",
              "      <td>1</td>\n",
              "      <td>16188</td>\n",
              "      <td>126.0674</td>\n",
              "      <td>Hentai Hooligans</td>\n",
              "      <td>Animal Style</td>\n",
              "      <td>Terrorist</td>\n",
              "      <td>CounterTerrorist</td>\n",
              "      <td>94</td>\n",
              "      <td>0</td>\n",
              "      <td>False</td>\n",
              "      <td>NaN</td>\n",
              "      <td>Head</td>\n",
              "      <td>Glock</td>\n",
              "      <td>Pistol</td>\n",
              "      <td>76561198082200410</td>\n",
              "      <td>0</td>\n",
              "      <td>76561198048742997</td>\n",
              "      <td>0</td>\n",
              "      <td>-756.2186</td>\n",
              "      <td>-80.94859</td>\n",
              "      <td>-1500.0780</td>\n",
              "      <td>60.658150</td>\n",
              "    </tr>\n",
              "  </tbody>\n",
              "</table>\n",
              "</div>"
            ],
            "text/plain": [
              "                      file  round   tick  ...  att_pos_y  vic_pos_x  vic_pos_y\n",
              "0  esea_match_13770997.dem      1  15972  ...   63.33829  -669.5558 -79.769570\n",
              "1  esea_match_13770997.dem      1  16058  ...    3.44563  -614.1868 -91.707770\n",
              "2  esea_match_13770997.dem      1  16066  ...  -49.32681 -1065.5560   9.381622\n",
              "3  esea_match_13770997.dem      1  16108  ...   49.19798  -748.4188 -53.469220\n",
              "4  esea_match_13770997.dem      1  16188  ...  -80.94859 -1500.0780  60.658150\n",
              "\n",
              "[5 rows x 23 columns]"
            ]
          },
          "metadata": {
            "tags": []
          },
          "execution_count": 10
        }
      ]
    },
    {
      "cell_type": "code",
      "metadata": {
        "id": "Wk-3bEXapn4u",
        "colab": {
          "base_uri": "https://localhost:8080/",
          "height": 487
        },
        "outputId": "bd5b9b05-0b51-4194-c317-c42b7a474a5e"
      },
      "source": [
        "grouped = df_esea_master_dmg_demos.groupby('file').first()\n",
        "grouped\n",
        "#the first rounds of all matches"
      ],
      "execution_count": 11,
      "outputs": [
        {
          "output_type": "execute_result",
          "data": {
            "text/html": [
              "<div>\n",
              "<style scoped>\n",
              "    .dataframe tbody tr th:only-of-type {\n",
              "        vertical-align: middle;\n",
              "    }\n",
              "\n",
              "    .dataframe tbody tr th {\n",
              "        vertical-align: top;\n",
              "    }\n",
              "\n",
              "    .dataframe thead th {\n",
              "        text-align: right;\n",
              "    }\n",
              "</style>\n",
              "<table border=\"1\" class=\"dataframe\">\n",
              "  <thead>\n",
              "    <tr style=\"text-align: right;\">\n",
              "      <th></th>\n",
              "      <th>round</th>\n",
              "      <th>tick</th>\n",
              "      <th>seconds</th>\n",
              "      <th>att_team</th>\n",
              "      <th>vic_team</th>\n",
              "      <th>att_side</th>\n",
              "      <th>vic_side</th>\n",
              "      <th>hp_dmg</th>\n",
              "      <th>arm_dmg</th>\n",
              "      <th>is_bomb_planted</th>\n",
              "      <th>bomb_site</th>\n",
              "      <th>hitbox</th>\n",
              "      <th>wp</th>\n",
              "      <th>wp_type</th>\n",
              "      <th>att_id</th>\n",
              "      <th>att_rank</th>\n",
              "      <th>vic_id</th>\n",
              "      <th>vic_rank</th>\n",
              "      <th>att_pos_x</th>\n",
              "      <th>att_pos_y</th>\n",
              "      <th>vic_pos_x</th>\n",
              "      <th>vic_pos_y</th>\n",
              "    </tr>\n",
              "    <tr>\n",
              "      <th>file</th>\n",
              "      <th></th>\n",
              "      <th></th>\n",
              "      <th></th>\n",
              "      <th></th>\n",
              "      <th></th>\n",
              "      <th></th>\n",
              "      <th></th>\n",
              "      <th></th>\n",
              "      <th></th>\n",
              "      <th></th>\n",
              "      <th></th>\n",
              "      <th></th>\n",
              "      <th></th>\n",
              "      <th></th>\n",
              "      <th></th>\n",
              "      <th></th>\n",
              "      <th></th>\n",
              "      <th></th>\n",
              "      <th></th>\n",
              "      <th></th>\n",
              "      <th></th>\n",
              "      <th></th>\n",
              "    </tr>\n",
              "  </thead>\n",
              "  <tbody>\n",
              "    <tr>\n",
              "      <th>esea_match_13770997.dem</th>\n",
              "      <td>1</td>\n",
              "      <td>15972</td>\n",
              "      <td>124.3761</td>\n",
              "      <td>Animal Style</td>\n",
              "      <td>Hentai Hooligans</td>\n",
              "      <td>CounterTerrorist</td>\n",
              "      <td>Terrorist</td>\n",
              "      <td>18</td>\n",
              "      <td>9</td>\n",
              "      <td>False</td>\n",
              "      <td>B</td>\n",
              "      <td>Stomach</td>\n",
              "      <td>USP</td>\n",
              "      <td>Pistol</td>\n",
              "      <td>76561198048742997</td>\n",
              "      <td>0</td>\n",
              "      <td>76561198082200410</td>\n",
              "      <td>0</td>\n",
              "      <td>-1499.69000</td>\n",
              "      <td>63.33829</td>\n",
              "      <td>-669.55580</td>\n",
              "      <td>-79.76957</td>\n",
              "    </tr>\n",
              "    <tr>\n",
              "      <th>esea_match_13779704.dem</th>\n",
              "      <td>1</td>\n",
              "      <td>20759</td>\n",
              "      <td>161.8639</td>\n",
              "      <td>Team 1</td>\n",
              "      <td>Team 2</td>\n",
              "      <td>CounterTerrorist</td>\n",
              "      <td>Terrorist</td>\n",
              "      <td>15</td>\n",
              "      <td>7</td>\n",
              "      <td>False</td>\n",
              "      <td>B</td>\n",
              "      <td>Chest</td>\n",
              "      <td>USP</td>\n",
              "      <td>Pistol</td>\n",
              "      <td>76561198078736000</td>\n",
              "      <td>0</td>\n",
              "      <td>76561198371993258</td>\n",
              "      <td>0</td>\n",
              "      <td>-170.91130</td>\n",
              "      <td>2002.93500</td>\n",
              "      <td>511.55050</td>\n",
              "      <td>1678.62100</td>\n",
              "    </tr>\n",
              "    <tr>\n",
              "      <th>esea_match_13779770.dem</th>\n",
              "      <td>1</td>\n",
              "      <td>22108</td>\n",
              "      <td>172.7360</td>\n",
              "      <td>Team 2</td>\n",
              "      <td>Team 1</td>\n",
              "      <td>Terrorist</td>\n",
              "      <td>CounterTerrorist</td>\n",
              "      <td>89</td>\n",
              "      <td>0</td>\n",
              "      <td>False</td>\n",
              "      <td>A</td>\n",
              "      <td>Head</td>\n",
              "      <td>Glock</td>\n",
              "      <td>Pistol</td>\n",
              "      <td>76561197988840549</td>\n",
              "      <td>0</td>\n",
              "      <td>76561197961301740</td>\n",
              "      <td>0</td>\n",
              "      <td>-1183.93800</td>\n",
              "      <td>777.64410</td>\n",
              "      <td>-2115.65300</td>\n",
              "      <td>775.35620</td>\n",
              "    </tr>\n",
              "    <tr>\n",
              "      <th>esea_match_13779775.dem</th>\n",
              "      <td>1</td>\n",
              "      <td>20528</td>\n",
              "      <td>159.9996</td>\n",
              "      <td>Team 2</td>\n",
              "      <td>Team 1</td>\n",
              "      <td>Terrorist</td>\n",
              "      <td>CounterTerrorist</td>\n",
              "      <td>46</td>\n",
              "      <td>15</td>\n",
              "      <td>False</td>\n",
              "      <td>A</td>\n",
              "      <td>Generic</td>\n",
              "      <td>HE</td>\n",
              "      <td>Grenade</td>\n",
              "      <td>76561198285314675</td>\n",
              "      <td>0</td>\n",
              "      <td>76561198075161204</td>\n",
              "      <td>0</td>\n",
              "      <td>257.46990</td>\n",
              "      <td>1719.66500</td>\n",
              "      <td>929.84270</td>\n",
              "      <td>1948.40800</td>\n",
              "    </tr>\n",
              "    <tr>\n",
              "      <th>esea_match_13779780.dem</th>\n",
              "      <td>1</td>\n",
              "      <td>20156</td>\n",
              "      <td>157.2749</td>\n",
              "      <td>Team 1</td>\n",
              "      <td>Team 2</td>\n",
              "      <td>CounterTerrorist</td>\n",
              "      <td>Terrorist</td>\n",
              "      <td>20</td>\n",
              "      <td>6</td>\n",
              "      <td>False</td>\n",
              "      <td>A</td>\n",
              "      <td>Generic</td>\n",
              "      <td>HE</td>\n",
              "      <td>Grenade</td>\n",
              "      <td>76561197961276586</td>\n",
              "      <td>0</td>\n",
              "      <td>76561198272541571</td>\n",
              "      <td>0</td>\n",
              "      <td>875.96880</td>\n",
              "      <td>2417.23200</td>\n",
              "      <td>82.23686</td>\n",
              "      <td>973.50820</td>\n",
              "    </tr>\n",
              "    <tr>\n",
              "      <th>...</th>\n",
              "      <td>...</td>\n",
              "      <td>...</td>\n",
              "      <td>...</td>\n",
              "      <td>...</td>\n",
              "      <td>...</td>\n",
              "      <td>...</td>\n",
              "      <td>...</td>\n",
              "      <td>...</td>\n",
              "      <td>...</td>\n",
              "      <td>...</td>\n",
              "      <td>...</td>\n",
              "      <td>...</td>\n",
              "      <td>...</td>\n",
              "      <td>...</td>\n",
              "      <td>...</td>\n",
              "      <td>...</td>\n",
              "      <td>...</td>\n",
              "      <td>...</td>\n",
              "      <td>...</td>\n",
              "      <td>...</td>\n",
              "      <td>...</td>\n",
              "      <td>...</td>\n",
              "    </tr>\n",
              "    <tr>\n",
              "      <th>esea_match_13829155.dem</th>\n",
              "      <td>1</td>\n",
              "      <td>20872</td>\n",
              "      <td>162.9502</td>\n",
              "      <td>Team 2</td>\n",
              "      <td>Team 1</td>\n",
              "      <td>Terrorist</td>\n",
              "      <td>CounterTerrorist</td>\n",
              "      <td>100</td>\n",
              "      <td>0</td>\n",
              "      <td>False</td>\n",
              "      <td>A</td>\n",
              "      <td>Head</td>\n",
              "      <td>Glock</td>\n",
              "      <td>Pistol</td>\n",
              "      <td>76561198821543565</td>\n",
              "      <td>0</td>\n",
              "      <td>76561198434695593</td>\n",
              "      <td>0</td>\n",
              "      <td>87.94901</td>\n",
              "      <td>1821.54200</td>\n",
              "      <td>78.41760</td>\n",
              "      <td>2244.16400</td>\n",
              "    </tr>\n",
              "    <tr>\n",
              "      <th>esea_match_13829165.dem</th>\n",
              "      <td>1</td>\n",
              "      <td>19701</td>\n",
              "      <td>153.8882</td>\n",
              "      <td>Team 2</td>\n",
              "      <td>Team 1</td>\n",
              "      <td>Terrorist</td>\n",
              "      <td>CounterTerrorist</td>\n",
              "      <td>7</td>\n",
              "      <td>4</td>\n",
              "      <td>False</td>\n",
              "      <td>A</td>\n",
              "      <td>Stomach</td>\n",
              "      <td>Glock</td>\n",
              "      <td>Pistol</td>\n",
              "      <td>76561198007445998</td>\n",
              "      <td>0</td>\n",
              "      <td>76561198004158144</td>\n",
              "      <td>0</td>\n",
              "      <td>-465.49230</td>\n",
              "      <td>-671.70810</td>\n",
              "      <td>-431.63100</td>\n",
              "      <td>1897.77500</td>\n",
              "    </tr>\n",
              "    <tr>\n",
              "      <th>esea_match_13829169.dem</th>\n",
              "      <td>1</td>\n",
              "      <td>20843</td>\n",
              "      <td>162.7616</td>\n",
              "      <td>Team 2</td>\n",
              "      <td>Team 1</td>\n",
              "      <td>Terrorist</td>\n",
              "      <td>CounterTerrorist</td>\n",
              "      <td>8</td>\n",
              "      <td>4</td>\n",
              "      <td>False</td>\n",
              "      <td>B</td>\n",
              "      <td>Chest</td>\n",
              "      <td>Glock</td>\n",
              "      <td>Pistol</td>\n",
              "      <td>76561198045404066</td>\n",
              "      <td>0</td>\n",
              "      <td>76561198155685591</td>\n",
              "      <td>0</td>\n",
              "      <td>57.18853</td>\n",
              "      <td>-1427.15700</td>\n",
              "      <td>-948.27840</td>\n",
              "      <td>-2525.95100</td>\n",
              "    </tr>\n",
              "    <tr>\n",
              "      <th>esea_match_13829171.dem</th>\n",
              "      <td>1</td>\n",
              "      <td>20449</td>\n",
              "      <td>159.2188</td>\n",
              "      <td>Team 2</td>\n",
              "      <td>Team 1</td>\n",
              "      <td>Terrorist</td>\n",
              "      <td>CounterTerrorist</td>\n",
              "      <td>11</td>\n",
              "      <td>6</td>\n",
              "      <td>False</td>\n",
              "      <td>A</td>\n",
              "      <td>Chest</td>\n",
              "      <td>Glock</td>\n",
              "      <td>Pistol</td>\n",
              "      <td>76561198197876609</td>\n",
              "      <td>0</td>\n",
              "      <td>76561198035534153</td>\n",
              "      <td>0</td>\n",
              "      <td>-965.23130</td>\n",
              "      <td>-872.41010</td>\n",
              "      <td>-487.60380</td>\n",
              "      <td>-915.24200</td>\n",
              "    </tr>\n",
              "    <tr>\n",
              "      <th>esea_match_13829173.dem</th>\n",
              "      <td>1</td>\n",
              "      <td>22078</td>\n",
              "      <td>172.2003</td>\n",
              "      <td>Team 2</td>\n",
              "      <td>Team 1</td>\n",
              "      <td>Terrorist</td>\n",
              "      <td>CounterTerrorist</td>\n",
              "      <td>9</td>\n",
              "      <td>5</td>\n",
              "      <td>False</td>\n",
              "      <td>A</td>\n",
              "      <td>Chest</td>\n",
              "      <td>Glock</td>\n",
              "      <td>Pistol</td>\n",
              "      <td>76561198044245571</td>\n",
              "      <td>0</td>\n",
              "      <td>76561198103856560</td>\n",
              "      <td>0</td>\n",
              "      <td>55.35038</td>\n",
              "      <td>-2135.96500</td>\n",
              "      <td>-1026.39500</td>\n",
              "      <td>-1404.95700</td>\n",
              "    </tr>\n",
              "  </tbody>\n",
              "</table>\n",
              "<p>13466 rows × 22 columns</p>\n",
              "</div>"
            ],
            "text/plain": [
              "                         round   tick  ...   vic_pos_x   vic_pos_y\n",
              "file                                   ...                        \n",
              "esea_match_13770997.dem      1  15972  ...  -669.55580   -79.76957\n",
              "esea_match_13779704.dem      1  20759  ...   511.55050  1678.62100\n",
              "esea_match_13779770.dem      1  22108  ... -2115.65300   775.35620\n",
              "esea_match_13779775.dem      1  20528  ...   929.84270  1948.40800\n",
              "esea_match_13779780.dem      1  20156  ...    82.23686   973.50820\n",
              "...                        ...    ...  ...         ...         ...\n",
              "esea_match_13829155.dem      1  20872  ...    78.41760  2244.16400\n",
              "esea_match_13829165.dem      1  19701  ...  -431.63100  1897.77500\n",
              "esea_match_13829169.dem      1  20843  ...  -948.27840 -2525.95100\n",
              "esea_match_13829171.dem      1  20449  ...  -487.60380  -915.24200\n",
              "esea_match_13829173.dem      1  22078  ... -1026.39500 -1404.95700\n",
              "\n",
              "[13466 rows x 22 columns]"
            ]
          },
          "metadata": {
            "tags": []
          },
          "execution_count": 11
        }
      ]
    },
    {
      "cell_type": "code",
      "metadata": {
        "id": "5m5oCxRZpt5V"
      },
      "source": [
        "rename_dict = grouped[['att_team', 'vic_team','att_side','vic_side']].copy()\n",
        "rename_dict = rename_dict[((rename_dict.att_team != 'Team 1') & (rename_dict.att_team != 'Team 2')) | ((rename_dict.vic_team != 'Team 1') & (rename_dict.vic_team != 'Team 2'))]\n",
        "#only consider games where the team names aren't standard. Check both columns just in case\n",
        "rename_dict.reset_index(inplace=True)"
      ],
      "execution_count": 12,
      "outputs": []
    },
    {
      "cell_type": "code",
      "metadata": {
        "id": "UcZLqCYAy55R"
      },
      "source": [
        "rename_dict['Team 1'] = None\n",
        "rename_dict['Team 2'] = None"
      ],
      "execution_count": 13,
      "outputs": []
    },
    {
      "cell_type": "code",
      "metadata": {
        "id": "wI0iH_dyz3q9",
        "colab": {
          "base_uri": "https://localhost:8080/",
          "height": 1000
        },
        "outputId": "6b71e848-41ab-49a9-f441-1409d23fc313"
      },
      "source": [
        "for index,row in rename_dict.iterrows():\n",
        "  if row['att_side'] == 'CounterTerrorist':\n",
        "    row['Team 1'] = row['att_team']\n",
        "    row['Team 2'] = row['vic_team']\n",
        "  else:\n",
        "    row['Team 1'] = row['vic_team']\n",
        "    row['Team 2'] = row['att_team']\n",
        "  \n",
        "rename_dict"
      ],
      "execution_count": 14,
      "outputs": [
        {
          "output_type": "execute_result",
          "data": {
            "text/html": [
              "<div>\n",
              "<style scoped>\n",
              "    .dataframe tbody tr th:only-of-type {\n",
              "        vertical-align: middle;\n",
              "    }\n",
              "\n",
              "    .dataframe tbody tr th {\n",
              "        vertical-align: top;\n",
              "    }\n",
              "\n",
              "    .dataframe thead th {\n",
              "        text-align: right;\n",
              "    }\n",
              "</style>\n",
              "<table border=\"1\" class=\"dataframe\">\n",
              "  <thead>\n",
              "    <tr style=\"text-align: right;\">\n",
              "      <th></th>\n",
              "      <th>file</th>\n",
              "      <th>att_team</th>\n",
              "      <th>vic_team</th>\n",
              "      <th>att_side</th>\n",
              "      <th>vic_side</th>\n",
              "      <th>Team 1</th>\n",
              "      <th>Team 2</th>\n",
              "    </tr>\n",
              "  </thead>\n",
              "  <tbody>\n",
              "    <tr>\n",
              "      <th>0</th>\n",
              "      <td>esea_match_13770997.dem</td>\n",
              "      <td>Animal Style</td>\n",
              "      <td>Hentai Hooligans</td>\n",
              "      <td>CounterTerrorist</td>\n",
              "      <td>Terrorist</td>\n",
              "      <td>Animal Style</td>\n",
              "      <td>Hentai Hooligans</td>\n",
              "    </tr>\n",
              "    <tr>\n",
              "      <th>1</th>\n",
              "      <td>esea_match_13782025.dem</td>\n",
              "      <td>fish123</td>\n",
              "      <td>Endpoint</td>\n",
              "      <td>CounterTerrorist</td>\n",
              "      <td>Terrorist</td>\n",
              "      <td>fish123</td>\n",
              "      <td>Endpoint</td>\n",
              "    </tr>\n",
              "    <tr>\n",
              "      <th>2</th>\n",
              "      <td>esea_match_13782192.dem</td>\n",
              "      <td>Izako Boars</td>\n",
              "      <td>PACT</td>\n",
              "      <td>CounterTerrorist</td>\n",
              "      <td>Terrorist</td>\n",
              "      <td>Izako Boars</td>\n",
              "      <td>PACT</td>\n",
              "    </tr>\n",
              "    <tr>\n",
              "      <th>3</th>\n",
              "      <td>esea_match_13782504.dem</td>\n",
              "      <td>fish123</td>\n",
              "      <td>Endpoint</td>\n",
              "      <td>CounterTerrorist</td>\n",
              "      <td>Terrorist</td>\n",
              "      <td>fish123</td>\n",
              "      <td>Endpoint</td>\n",
              "    </tr>\n",
              "    <tr>\n",
              "      <th>4</th>\n",
              "      <td>esea_match_13782538.dem</td>\n",
              "      <td>Izako Boars</td>\n",
              "      <td>PACT</td>\n",
              "      <td>Terrorist</td>\n",
              "      <td>CounterTerrorist</td>\n",
              "      <td>PACT</td>\n",
              "      <td>Izako Boars</td>\n",
              "    </tr>\n",
              "    <tr>\n",
              "      <th>5</th>\n",
              "      <td>esea_match_13783103.dem</td>\n",
              "      <td>ONCA Gaming</td>\n",
              "      <td>Team Kinguin</td>\n",
              "      <td>CounterTerrorist</td>\n",
              "      <td>Terrorist</td>\n",
              "      <td>ONCA Gaming</td>\n",
              "      <td>Team Kinguin</td>\n",
              "    </tr>\n",
              "    <tr>\n",
              "      <th>6</th>\n",
              "      <td>esea_match_13787024.dem</td>\n",
              "      <td>Team Kinguin</td>\n",
              "      <td>PRiDE</td>\n",
              "      <td>CounterTerrorist</td>\n",
              "      <td>Terrorist</td>\n",
              "      <td>Team Kinguin</td>\n",
              "      <td>PRiDE</td>\n",
              "    </tr>\n",
              "    <tr>\n",
              "      <th>7</th>\n",
              "      <td>esea_match_13787180.dem</td>\n",
              "      <td>EURONICS Gaming</td>\n",
              "      <td>--to be determined--</td>\n",
              "      <td>CounterTerrorist</td>\n",
              "      <td>Terrorist</td>\n",
              "      <td>EURONICS Gaming</td>\n",
              "      <td>--to be determined--</td>\n",
              "    </tr>\n",
              "    <tr>\n",
              "      <th>8</th>\n",
              "      <td>esea_match_13787183.dem</td>\n",
              "      <td>ALTERNATE aTTaX</td>\n",
              "      <td>Sprout</td>\n",
              "      <td>CounterTerrorist</td>\n",
              "      <td>Terrorist</td>\n",
              "      <td>ALTERNATE aTTaX</td>\n",
              "      <td>Sprout</td>\n",
              "    </tr>\n",
              "    <tr>\n",
              "      <th>9</th>\n",
              "      <td>esea_match_13787381.dem</td>\n",
              "      <td>PRiDE</td>\n",
              "      <td>Team Kinguin</td>\n",
              "      <td>CounterTerrorist</td>\n",
              "      <td>Terrorist</td>\n",
              "      <td>PRiDE</td>\n",
              "      <td>Team Kinguin</td>\n",
              "    </tr>\n",
              "    <tr>\n",
              "      <th>10</th>\n",
              "      <td>esea_match_13787432.dem</td>\n",
              "      <td>ALTERNATE aTTaX</td>\n",
              "      <td>Sprout</td>\n",
              "      <td>CounterTerrorist</td>\n",
              "      <td>Terrorist</td>\n",
              "      <td>ALTERNATE aTTaX</td>\n",
              "      <td>Sprout</td>\n",
              "    </tr>\n",
              "    <tr>\n",
              "      <th>11</th>\n",
              "      <td>esea_match_13787530.dem</td>\n",
              "      <td>EURONICS Gaming</td>\n",
              "      <td>--to be determined--</td>\n",
              "      <td>Terrorist</td>\n",
              "      <td>CounterTerrorist</td>\n",
              "      <td>--to be determined--</td>\n",
              "      <td>EURONICS Gaming</td>\n",
              "    </tr>\n",
              "    <tr>\n",
              "      <th>12</th>\n",
              "      <td>esea_match_13787562.dem</td>\n",
              "      <td>PRiDE</td>\n",
              "      <td>AGO Esports</td>\n",
              "      <td>Terrorist</td>\n",
              "      <td>CounterTerrorist</td>\n",
              "      <td>AGO Esports</td>\n",
              "      <td>PRiDE</td>\n",
              "    </tr>\n",
              "    <tr>\n",
              "      <th>13</th>\n",
              "      <td>esea_match_13787926.dem</td>\n",
              "      <td>AGO Esports</td>\n",
              "      <td>PRiDE</td>\n",
              "      <td>Terrorist</td>\n",
              "      <td>CounterTerrorist</td>\n",
              "      <td>PRiDE</td>\n",
              "      <td>AGO Esports</td>\n",
              "    </tr>\n",
              "    <tr>\n",
              "      <th>14</th>\n",
              "      <td>esea_match_13788156.dem</td>\n",
              "      <td>Izako Boars</td>\n",
              "      <td>Team Kinguin</td>\n",
              "      <td>Terrorist</td>\n",
              "      <td>CounterTerrorist</td>\n",
              "      <td>Team Kinguin</td>\n",
              "      <td>Izako Boars</td>\n",
              "    </tr>\n",
              "    <tr>\n",
              "      <th>15</th>\n",
              "      <td>esea_match_13788402.dem</td>\n",
              "      <td>Team Kinguin</td>\n",
              "      <td>Izako Boars</td>\n",
              "      <td>CounterTerrorist</td>\n",
              "      <td>Terrorist</td>\n",
              "      <td>Team Kinguin</td>\n",
              "      <td>Izako Boars</td>\n",
              "    </tr>\n",
              "    <tr>\n",
              "      <th>16</th>\n",
              "      <td>esea_match_13818792.dem</td>\n",
              "      <td>PRiDE</td>\n",
              "      <td>x-kom Team</td>\n",
              "      <td>CounterTerrorist</td>\n",
              "      <td>Terrorist</td>\n",
              "      <td>PRiDE</td>\n",
              "      <td>x-kom Team</td>\n",
              "    </tr>\n",
              "    <tr>\n",
              "      <th>17</th>\n",
              "      <td>esea_match_13821486.dem</td>\n",
              "      <td>MVP PK</td>\n",
              "      <td>SZ Absolute</td>\n",
              "      <td>Terrorist</td>\n",
              "      <td>CounterTerrorist</td>\n",
              "      <td>SZ Absolute</td>\n",
              "      <td>MVP PK</td>\n",
              "    </tr>\n",
              "    <tr>\n",
              "      <th>18</th>\n",
              "      <td>esea_match_13821631.dem</td>\n",
              "      <td>FlashGaming</td>\n",
              "      <td>MVP PK</td>\n",
              "      <td>CounterTerrorist</td>\n",
              "      <td>Terrorist</td>\n",
              "      <td>FlashGaming</td>\n",
              "      <td>MVP PK</td>\n",
              "    </tr>\n",
              "    <tr>\n",
              "      <th>19</th>\n",
              "      <td>esea_match_13821882.dem</td>\n",
              "      <td>MVP PK</td>\n",
              "      <td>FlashGaming</td>\n",
              "      <td>Terrorist</td>\n",
              "      <td>CounterTerrorist</td>\n",
              "      <td>FlashGaming</td>\n",
              "      <td>MVP PK</td>\n",
              "    </tr>\n",
              "    <tr>\n",
              "      <th>20</th>\n",
              "      <td>esea_match_13822598.dem</td>\n",
              "      <td>ALTERNATE aTTaX</td>\n",
              "      <td>--to be determined--</td>\n",
              "      <td>CounterTerrorist</td>\n",
              "      <td>Terrorist</td>\n",
              "      <td>ALTERNATE aTTaX</td>\n",
              "      <td>--to be determined--</td>\n",
              "    </tr>\n",
              "    <tr>\n",
              "      <th>21</th>\n",
              "      <td>esea_match_13825654.dem</td>\n",
              "      <td>Chiefs</td>\n",
              "      <td>Dynasty</td>\n",
              "      <td>CounterTerrorist</td>\n",
              "      <td>Terrorist</td>\n",
              "      <td>Chiefs</td>\n",
              "      <td>Dynasty</td>\n",
              "    </tr>\n",
              "    <tr>\n",
              "      <th>22</th>\n",
              "      <td>esea_match_13825656.dem</td>\n",
              "      <td>SYF</td>\n",
              "      <td>Ground Zero</td>\n",
              "      <td>CounterTerrorist</td>\n",
              "      <td>Terrorist</td>\n",
              "      <td>SYF</td>\n",
              "      <td>Ground Zero</td>\n",
              "    </tr>\n",
              "    <tr>\n",
              "      <th>23</th>\n",
              "      <td>esea_match_13825747.dem</td>\n",
              "      <td>Dynasty</td>\n",
              "      <td>Chiefs</td>\n",
              "      <td>CounterTerrorist</td>\n",
              "      <td>Terrorist</td>\n",
              "      <td>Dynasty</td>\n",
              "      <td>Chiefs</td>\n",
              "    </tr>\n",
              "    <tr>\n",
              "      <th>24</th>\n",
              "      <td>esea_match_13825750.dem</td>\n",
              "      <td>SYF</td>\n",
              "      <td>Ground Zero</td>\n",
              "      <td>CounterTerrorist</td>\n",
              "      <td>Terrorist</td>\n",
              "      <td>SYF</td>\n",
              "      <td>Ground Zero</td>\n",
              "    </tr>\n",
              "    <tr>\n",
              "      <th>25</th>\n",
              "      <td>esea_match_13825830.dem</td>\n",
              "      <td>Grayhound</td>\n",
              "      <td>Taboo</td>\n",
              "      <td>Terrorist</td>\n",
              "      <td>CounterTerrorist</td>\n",
              "      <td>Taboo</td>\n",
              "      <td>Grayhound</td>\n",
              "    </tr>\n",
              "    <tr>\n",
              "      <th>26</th>\n",
              "      <td>esea_match_13825928.dem</td>\n",
              "      <td>Taboo</td>\n",
              "      <td>Grayhound</td>\n",
              "      <td>Terrorist</td>\n",
              "      <td>CounterTerrorist</td>\n",
              "      <td>Grayhound</td>\n",
              "      <td>Taboo</td>\n",
              "    </tr>\n",
              "    <tr>\n",
              "      <th>27</th>\n",
              "      <td>esea_match_13825968.dem</td>\n",
              "      <td>Legacy</td>\n",
              "      <td>anime savants</td>\n",
              "      <td>Terrorist</td>\n",
              "      <td>CounterTerrorist</td>\n",
              "      <td>anime savants</td>\n",
              "      <td>Legacy</td>\n",
              "    </tr>\n",
              "    <tr>\n",
              "      <th>28</th>\n",
              "      <td>esea_match_13828788.dem</td>\n",
              "      <td>Cerus eSports</td>\n",
              "      <td>Guerrilla Tactics</td>\n",
              "      <td>CounterTerrorist</td>\n",
              "      <td>Terrorist</td>\n",
              "      <td>Cerus eSports</td>\n",
              "      <td>Guerrilla Tactics</td>\n",
              "    </tr>\n",
              "  </tbody>\n",
              "</table>\n",
              "</div>"
            ],
            "text/plain": [
              "                       file  ...                Team 2\n",
              "0   esea_match_13770997.dem  ...      Hentai Hooligans\n",
              "1   esea_match_13782025.dem  ...              Endpoint\n",
              "2   esea_match_13782192.dem  ...                  PACT\n",
              "3   esea_match_13782504.dem  ...              Endpoint\n",
              "4   esea_match_13782538.dem  ...           Izako Boars\n",
              "5   esea_match_13783103.dem  ...          Team Kinguin\n",
              "6   esea_match_13787024.dem  ...                 PRiDE\n",
              "7   esea_match_13787180.dem  ...  --to be determined--\n",
              "8   esea_match_13787183.dem  ...                Sprout\n",
              "9   esea_match_13787381.dem  ...          Team Kinguin\n",
              "10  esea_match_13787432.dem  ...                Sprout\n",
              "11  esea_match_13787530.dem  ...       EURONICS Gaming\n",
              "12  esea_match_13787562.dem  ...                 PRiDE\n",
              "13  esea_match_13787926.dem  ...           AGO Esports\n",
              "14  esea_match_13788156.dem  ...           Izako Boars\n",
              "15  esea_match_13788402.dem  ...           Izako Boars\n",
              "16  esea_match_13818792.dem  ...            x-kom Team\n",
              "17  esea_match_13821486.dem  ...                MVP PK\n",
              "18  esea_match_13821631.dem  ...                MVP PK\n",
              "19  esea_match_13821882.dem  ...                MVP PK\n",
              "20  esea_match_13822598.dem  ...  --to be determined--\n",
              "21  esea_match_13825654.dem  ...               Dynasty\n",
              "22  esea_match_13825656.dem  ...           Ground Zero\n",
              "23  esea_match_13825747.dem  ...                Chiefs\n",
              "24  esea_match_13825750.dem  ...           Ground Zero\n",
              "25  esea_match_13825830.dem  ...             Grayhound\n",
              "26  esea_match_13825928.dem  ...                 Taboo\n",
              "27  esea_match_13825968.dem  ...                Legacy\n",
              "28  esea_match_13828788.dem  ...     Guerrilla Tactics\n",
              "\n",
              "[29 rows x 7 columns]"
            ]
          },
          "metadata": {
            "tags": []
          },
          "execution_count": 14
        }
      ]
    },
    {
      "cell_type": "code",
      "metadata": {
        "id": "7PiBDruK1EBj",
        "colab": {
          "base_uri": "https://localhost:8080/",
          "height": 948
        },
        "outputId": "f601e5e9-16ca-4116-9f32-30e69b0fb71c"
      },
      "source": [
        "rename_dict.drop(columns=['att_team','vic_team','att_side','vic_side'], inplace=True)\n",
        "rename_dict"
      ],
      "execution_count": 15,
      "outputs": [
        {
          "output_type": "execute_result",
          "data": {
            "text/html": [
              "<div>\n",
              "<style scoped>\n",
              "    .dataframe tbody tr th:only-of-type {\n",
              "        vertical-align: middle;\n",
              "    }\n",
              "\n",
              "    .dataframe tbody tr th {\n",
              "        vertical-align: top;\n",
              "    }\n",
              "\n",
              "    .dataframe thead th {\n",
              "        text-align: right;\n",
              "    }\n",
              "</style>\n",
              "<table border=\"1\" class=\"dataframe\">\n",
              "  <thead>\n",
              "    <tr style=\"text-align: right;\">\n",
              "      <th></th>\n",
              "      <th>file</th>\n",
              "      <th>Team 1</th>\n",
              "      <th>Team 2</th>\n",
              "    </tr>\n",
              "  </thead>\n",
              "  <tbody>\n",
              "    <tr>\n",
              "      <th>0</th>\n",
              "      <td>esea_match_13770997.dem</td>\n",
              "      <td>Animal Style</td>\n",
              "      <td>Hentai Hooligans</td>\n",
              "    </tr>\n",
              "    <tr>\n",
              "      <th>1</th>\n",
              "      <td>esea_match_13782025.dem</td>\n",
              "      <td>fish123</td>\n",
              "      <td>Endpoint</td>\n",
              "    </tr>\n",
              "    <tr>\n",
              "      <th>2</th>\n",
              "      <td>esea_match_13782192.dem</td>\n",
              "      <td>Izako Boars</td>\n",
              "      <td>PACT</td>\n",
              "    </tr>\n",
              "    <tr>\n",
              "      <th>3</th>\n",
              "      <td>esea_match_13782504.dem</td>\n",
              "      <td>fish123</td>\n",
              "      <td>Endpoint</td>\n",
              "    </tr>\n",
              "    <tr>\n",
              "      <th>4</th>\n",
              "      <td>esea_match_13782538.dem</td>\n",
              "      <td>PACT</td>\n",
              "      <td>Izako Boars</td>\n",
              "    </tr>\n",
              "    <tr>\n",
              "      <th>5</th>\n",
              "      <td>esea_match_13783103.dem</td>\n",
              "      <td>ONCA Gaming</td>\n",
              "      <td>Team Kinguin</td>\n",
              "    </tr>\n",
              "    <tr>\n",
              "      <th>6</th>\n",
              "      <td>esea_match_13787024.dem</td>\n",
              "      <td>Team Kinguin</td>\n",
              "      <td>PRiDE</td>\n",
              "    </tr>\n",
              "    <tr>\n",
              "      <th>7</th>\n",
              "      <td>esea_match_13787180.dem</td>\n",
              "      <td>EURONICS Gaming</td>\n",
              "      <td>--to be determined--</td>\n",
              "    </tr>\n",
              "    <tr>\n",
              "      <th>8</th>\n",
              "      <td>esea_match_13787183.dem</td>\n",
              "      <td>ALTERNATE aTTaX</td>\n",
              "      <td>Sprout</td>\n",
              "    </tr>\n",
              "    <tr>\n",
              "      <th>9</th>\n",
              "      <td>esea_match_13787381.dem</td>\n",
              "      <td>PRiDE</td>\n",
              "      <td>Team Kinguin</td>\n",
              "    </tr>\n",
              "    <tr>\n",
              "      <th>10</th>\n",
              "      <td>esea_match_13787432.dem</td>\n",
              "      <td>ALTERNATE aTTaX</td>\n",
              "      <td>Sprout</td>\n",
              "    </tr>\n",
              "    <tr>\n",
              "      <th>11</th>\n",
              "      <td>esea_match_13787530.dem</td>\n",
              "      <td>--to be determined--</td>\n",
              "      <td>EURONICS Gaming</td>\n",
              "    </tr>\n",
              "    <tr>\n",
              "      <th>12</th>\n",
              "      <td>esea_match_13787562.dem</td>\n",
              "      <td>AGO Esports</td>\n",
              "      <td>PRiDE</td>\n",
              "    </tr>\n",
              "    <tr>\n",
              "      <th>13</th>\n",
              "      <td>esea_match_13787926.dem</td>\n",
              "      <td>PRiDE</td>\n",
              "      <td>AGO Esports</td>\n",
              "    </tr>\n",
              "    <tr>\n",
              "      <th>14</th>\n",
              "      <td>esea_match_13788156.dem</td>\n",
              "      <td>Team Kinguin</td>\n",
              "      <td>Izako Boars</td>\n",
              "    </tr>\n",
              "    <tr>\n",
              "      <th>15</th>\n",
              "      <td>esea_match_13788402.dem</td>\n",
              "      <td>Team Kinguin</td>\n",
              "      <td>Izako Boars</td>\n",
              "    </tr>\n",
              "    <tr>\n",
              "      <th>16</th>\n",
              "      <td>esea_match_13818792.dem</td>\n",
              "      <td>PRiDE</td>\n",
              "      <td>x-kom Team</td>\n",
              "    </tr>\n",
              "    <tr>\n",
              "      <th>17</th>\n",
              "      <td>esea_match_13821486.dem</td>\n",
              "      <td>SZ Absolute</td>\n",
              "      <td>MVP PK</td>\n",
              "    </tr>\n",
              "    <tr>\n",
              "      <th>18</th>\n",
              "      <td>esea_match_13821631.dem</td>\n",
              "      <td>FlashGaming</td>\n",
              "      <td>MVP PK</td>\n",
              "    </tr>\n",
              "    <tr>\n",
              "      <th>19</th>\n",
              "      <td>esea_match_13821882.dem</td>\n",
              "      <td>FlashGaming</td>\n",
              "      <td>MVP PK</td>\n",
              "    </tr>\n",
              "    <tr>\n",
              "      <th>20</th>\n",
              "      <td>esea_match_13822598.dem</td>\n",
              "      <td>ALTERNATE aTTaX</td>\n",
              "      <td>--to be determined--</td>\n",
              "    </tr>\n",
              "    <tr>\n",
              "      <th>21</th>\n",
              "      <td>esea_match_13825654.dem</td>\n",
              "      <td>Chiefs</td>\n",
              "      <td>Dynasty</td>\n",
              "    </tr>\n",
              "    <tr>\n",
              "      <th>22</th>\n",
              "      <td>esea_match_13825656.dem</td>\n",
              "      <td>SYF</td>\n",
              "      <td>Ground Zero</td>\n",
              "    </tr>\n",
              "    <tr>\n",
              "      <th>23</th>\n",
              "      <td>esea_match_13825747.dem</td>\n",
              "      <td>Dynasty</td>\n",
              "      <td>Chiefs</td>\n",
              "    </tr>\n",
              "    <tr>\n",
              "      <th>24</th>\n",
              "      <td>esea_match_13825750.dem</td>\n",
              "      <td>SYF</td>\n",
              "      <td>Ground Zero</td>\n",
              "    </tr>\n",
              "    <tr>\n",
              "      <th>25</th>\n",
              "      <td>esea_match_13825830.dem</td>\n",
              "      <td>Taboo</td>\n",
              "      <td>Grayhound</td>\n",
              "    </tr>\n",
              "    <tr>\n",
              "      <th>26</th>\n",
              "      <td>esea_match_13825928.dem</td>\n",
              "      <td>Grayhound</td>\n",
              "      <td>Taboo</td>\n",
              "    </tr>\n",
              "    <tr>\n",
              "      <th>27</th>\n",
              "      <td>esea_match_13825968.dem</td>\n",
              "      <td>anime savants</td>\n",
              "      <td>Legacy</td>\n",
              "    </tr>\n",
              "    <tr>\n",
              "      <th>28</th>\n",
              "      <td>esea_match_13828788.dem</td>\n",
              "      <td>Cerus eSports</td>\n",
              "      <td>Guerrilla Tactics</td>\n",
              "    </tr>\n",
              "  </tbody>\n",
              "</table>\n",
              "</div>"
            ],
            "text/plain": [
              "                       file                Team 1                Team 2\n",
              "0   esea_match_13770997.dem          Animal Style      Hentai Hooligans\n",
              "1   esea_match_13782025.dem               fish123              Endpoint\n",
              "2   esea_match_13782192.dem           Izako Boars                  PACT\n",
              "3   esea_match_13782504.dem               fish123              Endpoint\n",
              "4   esea_match_13782538.dem                  PACT           Izako Boars\n",
              "5   esea_match_13783103.dem           ONCA Gaming          Team Kinguin\n",
              "6   esea_match_13787024.dem          Team Kinguin                 PRiDE\n",
              "7   esea_match_13787180.dem       EURONICS Gaming  --to be determined--\n",
              "8   esea_match_13787183.dem       ALTERNATE aTTaX                Sprout\n",
              "9   esea_match_13787381.dem                 PRiDE          Team Kinguin\n",
              "10  esea_match_13787432.dem       ALTERNATE aTTaX                Sprout\n",
              "11  esea_match_13787530.dem  --to be determined--       EURONICS Gaming\n",
              "12  esea_match_13787562.dem           AGO Esports                 PRiDE\n",
              "13  esea_match_13787926.dem                 PRiDE           AGO Esports\n",
              "14  esea_match_13788156.dem          Team Kinguin           Izako Boars\n",
              "15  esea_match_13788402.dem          Team Kinguin           Izako Boars\n",
              "16  esea_match_13818792.dem                 PRiDE            x-kom Team\n",
              "17  esea_match_13821486.dem           SZ Absolute                MVP PK\n",
              "18  esea_match_13821631.dem           FlashGaming                MVP PK\n",
              "19  esea_match_13821882.dem           FlashGaming                MVP PK\n",
              "20  esea_match_13822598.dem       ALTERNATE aTTaX  --to be determined--\n",
              "21  esea_match_13825654.dem                Chiefs               Dynasty\n",
              "22  esea_match_13825656.dem                   SYF           Ground Zero\n",
              "23  esea_match_13825747.dem               Dynasty                Chiefs\n",
              "24  esea_match_13825750.dem                   SYF           Ground Zero\n",
              "25  esea_match_13825830.dem                 Taboo             Grayhound\n",
              "26  esea_match_13825928.dem             Grayhound                 Taboo\n",
              "27  esea_match_13825968.dem         anime savants                Legacy\n",
              "28  esea_match_13828788.dem         Cerus eSports     Guerrilla Tactics"
            ]
          },
          "metadata": {
            "tags": []
          },
          "execution_count": 15
        }
      ]
    },
    {
      "cell_type": "code",
      "metadata": {
        "id": "5Dp4teTOtRUY"
      },
      "source": [
        "df = pd.DataFrame(df_esea_master_dmg_demos.copy())\n",
        "\n",
        "\n",
        "for index,dict_row in rename_dict.iterrows():\n",
        "  mask = (df['file'] == dict_row['file'])\n",
        "  df.loc[mask, 'att_team'] = df[mask]['att_team'].apply(lambda x: 'Team 1' if x == dict_row['Team 1'] else 'Team 2')\n",
        "  df.loc[mask, 'vic_team'] = df[mask]['vic_team'].apply(lambda x: 'Team 1' if x == dict_row['Team 1'] else 'Team 2')\n",
        "\n",
        "\n",
        "df_esea_master_dmg_demos_renamed = df"
      ],
      "execution_count": 16,
      "outputs": []
    },
    {
      "cell_type": "code",
      "metadata": {
        "id": "w66u350ba3kz"
      },
      "source": [
        ""
      ],
      "execution_count": 16,
      "outputs": []
    },
    {
      "cell_type": "markdown",
      "metadata": {
        "id": "fMDbgMM-yK5F"
      },
      "source": [
        "# Data Preprocess for Data Mining Algorithms"
      ]
    },
    {
      "cell_type": "code",
      "metadata": {
        "colab": {
          "base_uri": "https://localhost:8080/"
        },
        "id": "7HIfTUSE4nI0",
        "outputId": "c33b45bd-1dc0-4b44-f8f5-4fe60f43a7e6"
      },
      "source": [
        "# function call to load and preprocess the esea_meta_demos\n",
        "df_esea_meta_demos = preprocess_esea_meta_demos()\n",
        "\n",
        "df_esea_meta_demos.head()\n",
        "\n",
        "print(len(df_esea_meta_demos))"
      ],
      "execution_count": 17,
      "outputs": [
        {
          "output_type": "stream",
          "text": [
            "340333\n"
          ],
          "name": "stdout"
        }
      ]
    },
    {
      "cell_type": "code",
      "metadata": {
        "id": "gUOa_PPrykGG"
      },
      "source": [
        "def terrorist_counterT_win(series_shifted_winner_side):\n",
        "  terrorist_win = series_shifted_winner_side.apply(lambda x: 1 if x=='Terrorist' else 0)\n",
        "  terrorist_win = terrorist_win.iloc[:-1]\n",
        "  terrorist_win = terrorist_win.reset_index(drop=True)\n",
        "\n",
        "  counterterrorist_win = series_shifted_winner_side.apply(lambda x: 1 if x=='CounterTerrorist' else 0)\n",
        "  counterterrorist_win = counterterrorist_win.iloc[:-1]\n",
        "  counterterrorist_win = counterterrorist_win.reset_index(drop=True)\n",
        "\n",
        "  return terrorist_win, counterterrorist_win\n",
        "\n",
        "def preprocess_meta_demos_algo(df_esea_meta_demos):\n",
        "\n",
        "  df_original_preprocessed = df_esea_meta_demos[['round','ct_eq_val','t_eq_val']]\n",
        "\n",
        "  unique_maps = df_esea_meta_demos[\"map\"].unique()\n",
        "\n",
        "  map_dataframe = pd.DataFrame()\n",
        "\n",
        "  for map_cs_go in unique_maps:\n",
        "    map_dataframe[map_cs_go] = df_esea_meta_demos[\"map\"].apply(lambda x: 1 if x == map_cs_go else 0)\n",
        "\n",
        "  series_one_element = pd.Series([0])\n",
        "\n",
        "  binary_values_first_round = df_esea_meta_demos[\"round\"].apply(lambda x : 0 if x == 1 else 1)\n",
        "\n",
        "  binary_values_first_round = binary_values_first_round.rename(\"not_First_Round\").reset_index(drop=True)\n",
        "\n",
        "  series_shifted_winner_side = series_one_element.append(df_esea_meta_demos[\"winner_side\"])\n",
        "\n",
        "  terrorist_win, counterterrorist_win = terrorist_counterT_win(series_shifted_winner_side)\n",
        "\n",
        "  terrorist_win = (terrorist_win * binary_values_first_round).rename('terrorist_win')\n",
        "\n",
        "  counterterrorist_win = (counterterrorist_win * binary_values_first_round).rename('counterterrorist_win')\n",
        "\n",
        "  previous_win_df = pd.concat([terrorist_win, counterterrorist_win])\n",
        "\n",
        "  data_to_predict_T_CT = df_esea_meta_demos['winner_side'].apply(lambda x: 1 if x=='Terrorist' else 0)\n",
        "\n",
        "  column_names = [df_original_preprocessed, map_dataframe, terrorist_win, counterterrorist_win, data_to_predict_T_CT]\n",
        "\n",
        "  return pd.concat(column_names, axis = 'columns', join = 'inner')"
      ],
      "execution_count": 18,
      "outputs": []
    },
    {
      "cell_type": "code",
      "metadata": {
        "id": "CD5KlKiB394W",
        "colab": {
          "base_uri": "https://localhost:8080/",
          "height": 439
        },
        "outputId": "de87a47f-e8a7-4b8d-9c71-3f152a11d5e3"
      },
      "source": [
        "df_preprocessed = preprocess_meta_demos_algo(df_esea_meta_demos)\n",
        "\n",
        "df_preprocessed"
      ],
      "execution_count": 19,
      "outputs": [
        {
          "output_type": "execute_result",
          "data": {
            "text/html": [
              "<div>\n",
              "<style scoped>\n",
              "    .dataframe tbody tr th:only-of-type {\n",
              "        vertical-align: middle;\n",
              "    }\n",
              "\n",
              "    .dataframe tbody tr th {\n",
              "        vertical-align: top;\n",
              "    }\n",
              "\n",
              "    .dataframe thead th {\n",
              "        text-align: right;\n",
              "    }\n",
              "</style>\n",
              "<table border=\"1\" class=\"dataframe\">\n",
              "  <thead>\n",
              "    <tr style=\"text-align: right;\">\n",
              "      <th></th>\n",
              "      <th>round</th>\n",
              "      <th>ct_eq_val</th>\n",
              "      <th>t_eq_val</th>\n",
              "      <th>de_overpass</th>\n",
              "      <th>de_cache</th>\n",
              "      <th>de_mirage</th>\n",
              "      <th>de_inferno</th>\n",
              "      <th>de_train</th>\n",
              "      <th>de_dust2</th>\n",
              "      <th>de_cbble</th>\n",
              "      <th>de_nuke</th>\n",
              "      <th>terrorist_win</th>\n",
              "      <th>counterterrorist_win</th>\n",
              "      <th>winner_side</th>\n",
              "    </tr>\n",
              "  </thead>\n",
              "  <tbody>\n",
              "    <tr>\n",
              "      <th>0</th>\n",
              "      <td>1</td>\n",
              "      <td>4300</td>\n",
              "      <td>4250</td>\n",
              "      <td>1</td>\n",
              "      <td>0</td>\n",
              "      <td>0</td>\n",
              "      <td>0</td>\n",
              "      <td>0</td>\n",
              "      <td>0</td>\n",
              "      <td>0</td>\n",
              "      <td>0</td>\n",
              "      <td>0</td>\n",
              "      <td>0</td>\n",
              "      <td>1</td>\n",
              "    </tr>\n",
              "    <tr>\n",
              "      <th>1</th>\n",
              "      <td>2</td>\n",
              "      <td>6300</td>\n",
              "      <td>19400</td>\n",
              "      <td>1</td>\n",
              "      <td>0</td>\n",
              "      <td>0</td>\n",
              "      <td>0</td>\n",
              "      <td>0</td>\n",
              "      <td>0</td>\n",
              "      <td>0</td>\n",
              "      <td>0</td>\n",
              "      <td>1</td>\n",
              "      <td>0</td>\n",
              "      <td>1</td>\n",
              "    </tr>\n",
              "    <tr>\n",
              "      <th>2</th>\n",
              "      <td>3</td>\n",
              "      <td>7650</td>\n",
              "      <td>19250</td>\n",
              "      <td>1</td>\n",
              "      <td>0</td>\n",
              "      <td>0</td>\n",
              "      <td>0</td>\n",
              "      <td>0</td>\n",
              "      <td>0</td>\n",
              "      <td>0</td>\n",
              "      <td>0</td>\n",
              "      <td>1</td>\n",
              "      <td>0</td>\n",
              "      <td>1</td>\n",
              "    </tr>\n",
              "    <tr>\n",
              "      <th>3</th>\n",
              "      <td>4</td>\n",
              "      <td>24900</td>\n",
              "      <td>23400</td>\n",
              "      <td>1</td>\n",
              "      <td>0</td>\n",
              "      <td>0</td>\n",
              "      <td>0</td>\n",
              "      <td>0</td>\n",
              "      <td>0</td>\n",
              "      <td>0</td>\n",
              "      <td>0</td>\n",
              "      <td>1</td>\n",
              "      <td>0</td>\n",
              "      <td>1</td>\n",
              "    </tr>\n",
              "    <tr>\n",
              "      <th>4</th>\n",
              "      <td>5</td>\n",
              "      <td>5400</td>\n",
              "      <td>20550</td>\n",
              "      <td>1</td>\n",
              "      <td>0</td>\n",
              "      <td>0</td>\n",
              "      <td>0</td>\n",
              "      <td>0</td>\n",
              "      <td>0</td>\n",
              "      <td>0</td>\n",
              "      <td>0</td>\n",
              "      <td>1</td>\n",
              "      <td>0</td>\n",
              "      <td>0</td>\n",
              "    </tr>\n",
              "    <tr>\n",
              "      <th>...</th>\n",
              "      <td>...</td>\n",
              "      <td>...</td>\n",
              "      <td>...</td>\n",
              "      <td>...</td>\n",
              "      <td>...</td>\n",
              "      <td>...</td>\n",
              "      <td>...</td>\n",
              "      <td>...</td>\n",
              "      <td>...</td>\n",
              "      <td>...</td>\n",
              "      <td>...</td>\n",
              "      <td>...</td>\n",
              "      <td>...</td>\n",
              "      <td>...</td>\n",
              "    </tr>\n",
              "    <tr>\n",
              "      <th>340328</th>\n",
              "      <td>18</td>\n",
              "      <td>4500</td>\n",
              "      <td>21950</td>\n",
              "      <td>0</td>\n",
              "      <td>0</td>\n",
              "      <td>1</td>\n",
              "      <td>0</td>\n",
              "      <td>0</td>\n",
              "      <td>0</td>\n",
              "      <td>0</td>\n",
              "      <td>0</td>\n",
              "      <td>1</td>\n",
              "      <td>0</td>\n",
              "      <td>1</td>\n",
              "    </tr>\n",
              "    <tr>\n",
              "      <th>340329</th>\n",
              "      <td>19</td>\n",
              "      <td>16400</td>\n",
              "      <td>26100</td>\n",
              "      <td>0</td>\n",
              "      <td>0</td>\n",
              "      <td>1</td>\n",
              "      <td>0</td>\n",
              "      <td>0</td>\n",
              "      <td>0</td>\n",
              "      <td>0</td>\n",
              "      <td>0</td>\n",
              "      <td>1</td>\n",
              "      <td>0</td>\n",
              "      <td>1</td>\n",
              "    </tr>\n",
              "    <tr>\n",
              "      <th>340330</th>\n",
              "      <td>20</td>\n",
              "      <td>15100</td>\n",
              "      <td>26000</td>\n",
              "      <td>0</td>\n",
              "      <td>0</td>\n",
              "      <td>1</td>\n",
              "      <td>0</td>\n",
              "      <td>0</td>\n",
              "      <td>0</td>\n",
              "      <td>0</td>\n",
              "      <td>0</td>\n",
              "      <td>1</td>\n",
              "      <td>0</td>\n",
              "      <td>1</td>\n",
              "    </tr>\n",
              "    <tr>\n",
              "      <th>340331</th>\n",
              "      <td>21</td>\n",
              "      <td>17550</td>\n",
              "      <td>25500</td>\n",
              "      <td>0</td>\n",
              "      <td>0</td>\n",
              "      <td>1</td>\n",
              "      <td>0</td>\n",
              "      <td>0</td>\n",
              "      <td>0</td>\n",
              "      <td>0</td>\n",
              "      <td>0</td>\n",
              "      <td>1</td>\n",
              "      <td>0</td>\n",
              "      <td>1</td>\n",
              "    </tr>\n",
              "    <tr>\n",
              "      <th>340332</th>\n",
              "      <td>22</td>\n",
              "      <td>21150</td>\n",
              "      <td>26550</td>\n",
              "      <td>0</td>\n",
              "      <td>0</td>\n",
              "      <td>1</td>\n",
              "      <td>0</td>\n",
              "      <td>0</td>\n",
              "      <td>0</td>\n",
              "      <td>0</td>\n",
              "      <td>0</td>\n",
              "      <td>1</td>\n",
              "      <td>0</td>\n",
              "      <td>1</td>\n",
              "    </tr>\n",
              "  </tbody>\n",
              "</table>\n",
              "<p>340333 rows × 14 columns</p>\n",
              "</div>"
            ],
            "text/plain": [
              "        round  ct_eq_val  ...  counterterrorist_win  winner_side\n",
              "0           1       4300  ...                     0            1\n",
              "1           2       6300  ...                     0            1\n",
              "2           3       7650  ...                     0            1\n",
              "3           4      24900  ...                     0            1\n",
              "4           5       5400  ...                     0            0\n",
              "...       ...        ...  ...                   ...          ...\n",
              "340328     18       4500  ...                     0            1\n",
              "340329     19      16400  ...                     0            1\n",
              "340330     20      15100  ...                     0            1\n",
              "340331     21      17550  ...                     0            1\n",
              "340332     22      21150  ...                     0            1\n",
              "\n",
              "[340333 rows x 14 columns]"
            ]
          },
          "metadata": {
            "tags": []
          },
          "execution_count": 19
        }
      ]
    },
    {
      "cell_type": "code",
      "metadata": {
        "id": "L3n3K9u60vXY"
      },
      "source": [
        "from sklearn import svm\n",
        "from sklearn.model_selection import train_test_split\n",
        "from sklearn.preprocessing import MinMaxScaler, StandardScaler\n",
        "from sklearn.ensemble import RandomForestClassifier, GradientBoostingClassifier\n",
        "from sklearn.model_selection import train_test_split, cross_val_score, GridSearchCV, RandomizedSearchCV\n",
        "from sklearn.neighbors import KNeighborsClassifier"
      ],
      "execution_count": 47,
      "outputs": []
    },
    {
      "cell_type": "code",
      "metadata": {
        "id": "gsvW1CfO7-Me"
      },
      "source": [
        "sampled = df_preprocessed.sample(n=5000, random_state=0)\n",
        "X = sampled.drop('winner_side', axis=1)\n",
        "y = sampled['winner_side']"
      ],
      "execution_count": 21,
      "outputs": []
    },
    {
      "cell_type": "code",
      "metadata": {
        "id": "O03Pka5i72ss"
      },
      "source": [
        "standard_scaler = StandardScaler()\n",
        "X = standard_scaler.fit_transform(X)"
      ],
      "execution_count": 22,
      "outputs": []
    },
    {
      "cell_type": "code",
      "metadata": {
        "id": "QrjKItnM04zo"
      },
      "source": [
        "X_train, X_test, y_train, y_test = train_test_split(X, y, test_size=0.2, random_state=0)"
      ],
      "execution_count": 23,
      "outputs": []
    },
    {
      "cell_type": "code",
      "metadata": {
        "colab": {
          "base_uri": "https://localhost:8080/"
        },
        "id": "9oEhEx9B9KCT",
        "outputId": "ebd5adbe-a18c-4151-e7de-86125e96568b"
      },
      "source": [
        "# clf = RandomForestClassifier(random_state=0)\n",
        "clf = RandomForestClassifier(max_depth=2, random_state=0)\n",
        "clf.fit(X_train, y_train)\n",
        "clf.score(X_test, y_test)"
      ],
      "execution_count": 24,
      "outputs": [
        {
          "output_type": "execute_result",
          "data": {
            "text/plain": [
              "0.678"
            ]
          },
          "metadata": {
            "tags": []
          },
          "execution_count": 24
        }
      ]
    },
    {
      "cell_type": "code",
      "metadata": {
        "colab": {
          "base_uri": "https://localhost:8080/"
        },
        "id": "XBh2tlNADFHE",
        "outputId": "2bf81e57-b615-4af5-80a6-c8fbccca3703"
      },
      "source": [
        "clf.get_params()"
      ],
      "execution_count": 26,
      "outputs": [
        {
          "output_type": "execute_result",
          "data": {
            "text/plain": [
              "{'bootstrap': True,\n",
              " 'ccp_alpha': 0.0,\n",
              " 'class_weight': None,\n",
              " 'criterion': 'gini',\n",
              " 'max_depth': 2,\n",
              " 'max_features': 'auto',\n",
              " 'max_leaf_nodes': None,\n",
              " 'max_samples': None,\n",
              " 'min_impurity_decrease': 0.0,\n",
              " 'min_impurity_split': None,\n",
              " 'min_samples_leaf': 1,\n",
              " 'min_samples_split': 2,\n",
              " 'min_weight_fraction_leaf': 0.0,\n",
              " 'n_estimators': 100,\n",
              " 'n_jobs': None,\n",
              " 'oob_score': False,\n",
              " 'random_state': 0,\n",
              " 'verbose': 0,\n",
              " 'warm_start': False}"
            ]
          },
          "metadata": {
            "tags": []
          },
          "execution_count": 26
        }
      ]
    },
    {
      "cell_type": "code",
      "metadata": {
        "id": "q2v7bm_GDILR"
      },
      "source": [
        "parameters = {\n",
        "    'bootstrap': [True, False],\n",
        "    'max_depth': [1,2,3],\n",
        "    'n_estimators': [10, 50, 100, 200, 500],\n",
        "    'max_features': [1,2,3,4,5,6,7,8]\n",
        "}"
      ],
      "execution_count": 41,
      "outputs": []
    },
    {
      "cell_type": "code",
      "metadata": {
        "colab": {
          "base_uri": "https://localhost:8080/"
        },
        "id": "WxFs66nXDA62",
        "outputId": "d71f1492-5a37-443e-ee8a-7cf88ce70a22"
      },
      "source": [
        "scores = ['precision', 'recall', 'f1']\n",
        "for score in scores:\n",
        "    gs = GridSearchCV(clf, parameters, scoring='%s_macro' % score)\n",
        "    gs.fit(X, y)\n",
        "    print(gs.best_params_)"
      ],
      "execution_count": 42,
      "outputs": [
        {
          "output_type": "stream",
          "text": [
            "{'bootstrap': False, 'max_depth': 1, 'max_features': 7, 'n_estimators': 100}\n",
            "{'bootstrap': False, 'max_depth': 3, 'max_features': 8, 'n_estimators': 100}\n",
            "{'bootstrap': False, 'max_depth': 3, 'max_features': 8, 'n_estimators': 100}\n"
          ],
          "name": "stdout"
        }
      ]
    },
    {
      "cell_type": "code",
      "metadata": {
        "colab": {
          "base_uri": "https://localhost:8080/"
        },
        "id": "-40Fqcl6D7Ir",
        "outputId": "dc77e95b-87c0-417a-a78e-dd47cf2c4b6d"
      },
      "source": [
        "# clf = RandomForestClassifier(random_state=0)\n",
        "clf = RandomForestClassifier(bootstrap=False, max_depth=3, random_state=0)\n",
        "clf.fit(X_train, y_train)\n",
        "clf.score(X_test, y_test)"
      ],
      "execution_count": 43,
      "outputs": [
        {
          "output_type": "execute_result",
          "data": {
            "text/plain": [
              "0.678"
            ]
          },
          "metadata": {
            "tags": []
          },
          "execution_count": 43
        }
      ]
    },
    {
      "cell_type": "code",
      "metadata": {
        "colab": {
          "base_uri": "https://localhost:8080/"
        },
        "id": "meOA1O6sGygE",
        "outputId": "2aea17d9-565a-406d-9502-fdd3e5c0be91"
      },
      "source": [
        "neigh = KNeighborsClassifier(n_neighbors=10)\n",
        "neigh.fit(X_train, y_train)\n",
        "neigh.score(X_test, y_test)"
      ],
      "execution_count": 53,
      "outputs": [
        {
          "output_type": "execute_result",
          "data": {
            "text/plain": [
              "0.645"
            ]
          },
          "metadata": {
            "tags": []
          },
          "execution_count": 53
        }
      ]
    },
    {
      "cell_type": "code",
      "metadata": {
        "colab": {
          "base_uri": "https://localhost:8080/"
        },
        "id": "-koULJg2Naq1",
        "outputId": "eab3154c-6f04-42ce-81f9-97e776535121"
      },
      "source": [
        "neigh.get_params()"
      ],
      "execution_count": 54,
      "outputs": [
        {
          "output_type": "execute_result",
          "data": {
            "text/plain": [
              "{'algorithm': 'auto',\n",
              " 'leaf_size': 30,\n",
              " 'metric': 'minkowski',\n",
              " 'metric_params': None,\n",
              " 'n_jobs': None,\n",
              " 'n_neighbors': 10,\n",
              " 'p': 2,\n",
              " 'weights': 'uniform'}"
            ]
          },
          "metadata": {
            "tags": []
          },
          "execution_count": 54
        }
      ]
    },
    {
      "cell_type": "code",
      "metadata": {
        "id": "_i_PYMufNd_9"
      },
      "source": [
        "parameters = {\n",
        "    'weights': ['uniform','distance'],\n",
        "    'algorithm': ['auto','ball_tree','kd_tree','brute'],\n",
        "    'n_neighbors': [1,2,3,4,5,6,7,8, 9, 10, 11, 12]\n",
        "}"
      ],
      "execution_count": 56,
      "outputs": []
    },
    {
      "cell_type": "code",
      "metadata": {
        "colab": {
          "base_uri": "https://localhost:8080/"
        },
        "id": "FQWQM1aVN6UD",
        "outputId": "1789e3de-ceac-4265-ae07-21af3a9a3072"
      },
      "source": [
        "neigh = KNeighborsClassifier()\n",
        "scores = ['precision', 'recall', 'f1']\n",
        "for score in scores:\n",
        "    gs = GridSearchCV(neigh, parameters, scoring='%s_macro' % score)\n",
        "    gs.fit(X, y)\n",
        "    print(gs.best_params_)"
      ],
      "execution_count": 57,
      "outputs": [
        {
          "output_type": "stream",
          "text": [
            "{'algorithm': 'auto', 'n_neighbors': 8, 'weights': 'uniform'}\n",
            "{'algorithm': 'auto', 'n_neighbors': 9, 'weights': 'uniform'}\n",
            "{'algorithm': 'auto', 'n_neighbors': 9, 'weights': 'uniform'}\n"
          ],
          "name": "stdout"
        }
      ]
    },
    {
      "cell_type": "code",
      "metadata": {
        "colab": {
          "base_uri": "https://localhost:8080/"
        },
        "id": "kEUf9IX9QqGV",
        "outputId": "22ddb845-e819-49fb-d1eb-e92c78d4b681"
      },
      "source": [
        "neigh = KNeighborsClassifier(n_neighbors=8)\n",
        "neigh.fit(X_train, y_train)\n",
        "neigh.score(X_test, y_test)"
      ],
      "execution_count": 59,
      "outputs": [
        {
          "output_type": "execute_result",
          "data": {
            "text/plain": [
              "0.634"
            ]
          },
          "metadata": {
            "tags": []
          },
          "execution_count": 59
        }
      ]
    },
    {
      "cell_type": "code",
      "metadata": {
        "colab": {
          "base_uri": "https://localhost:8080/"
        },
        "id": "deYDHWnnQ-ve",
        "outputId": "2955c3ee-a418-439e-b956-aad73c936729"
      },
      "source": [
        "linear_svc = svm.SVC(kernel='linear')\n",
        "linear_svc.get_params()"
      ],
      "execution_count": 60,
      "outputs": [
        {
          "output_type": "execute_result",
          "data": {
            "text/plain": [
              "{'C': 1.0,\n",
              " 'break_ties': False,\n",
              " 'cache_size': 200,\n",
              " 'class_weight': None,\n",
              " 'coef0': 0.0,\n",
              " 'decision_function_shape': 'ovr',\n",
              " 'degree': 3,\n",
              " 'gamma': 'scale',\n",
              " 'kernel': 'linear',\n",
              " 'max_iter': -1,\n",
              " 'probability': False,\n",
              " 'random_state': None,\n",
              " 'shrinking': True,\n",
              " 'tol': 0.001,\n",
              " 'verbose': False}"
            ]
          },
          "metadata": {
            "tags": []
          },
          "execution_count": 60
        }
      ]
    },
    {
      "cell_type": "code",
      "metadata": {
        "id": "mD1wf8XkRU_3"
      },
      "source": [
        "parameters = {'C': [0.2, 0.4, 0.6, 0.8, 1.0]}"
      ],
      "execution_count": 64,
      "outputs": []
    },
    {
      "cell_type": "code",
      "metadata": {
        "colab": {
          "base_uri": "https://localhost:8080/"
        },
        "id": "QJdmHnNERV1Y",
        "outputId": "457c5705-153e-4b30-efe9-aab0e4fabab3"
      },
      "source": [
        "linear_svc = svm.SVC(kernel='linear')\n",
        "scores = ['precision', 'recall', 'f1']\n",
        "for score in scores:\n",
        "    gs = GridSearchCV(linear_svc, parameters, scoring='%s_macro' % score)\n",
        "    gs.fit(X, y)\n",
        "    print(gs.best_params_)"
      ],
      "execution_count": 65,
      "outputs": [
        {
          "output_type": "stream",
          "text": [
            "{'C': 0.2}\n",
            "{'C': 0.2}\n",
            "{'C': 0.2}\n"
          ],
          "name": "stdout"
        }
      ]
    },
    {
      "cell_type": "code",
      "metadata": {
        "id": "zkOTSEkp0kLE",
        "colab": {
          "base_uri": "https://localhost:8080/"
        },
        "outputId": "99bdd61f-0d5c-4771-ea83-339209ad8a95"
      },
      "source": [
        "linear_svc = svm.SVC(kernel='linear', C=0.2)\n",
        "linear_svc.fit(X_train, y_train)\n",
        "linear_svc.score(X_test, y_test)"
      ],
      "execution_count": 66,
      "outputs": [
        {
          "output_type": "execute_result",
          "data": {
            "text/plain": [
              "0.677"
            ]
          },
          "metadata": {
            "tags": []
          },
          "execution_count": 66
        }
      ]
    }
  ]
}