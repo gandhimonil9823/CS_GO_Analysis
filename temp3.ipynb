{
  "nbformat": 4,
  "nbformat_minor": 0,
  "metadata": {
    "colab": {
      "name": "CS_GO_filter_data.ipynb",
      "provenance": [],
      "collapsed_sections": [],
      "include_colab_link": true
    },
    "kernelspec": {
      "name": "python3",
      "display_name": "Python 3"
    }
  },
  "cells": [
    {
      "cell_type": "markdown",
      "metadata": {
        "id": "view-in-github",
        "colab_type": "text"
      },
      "source": [
        "<a href=\"https://colab.research.google.com/github/gandhimonil9823/CS_GO_Analysis/blob/main/temp3.ipynb\" target=\"_parent\"><img src=\"https://colab.research.google.com/assets/colab-badge.svg\" alt=\"Open In Colab\"/></a>"
      ]
    },
    {
      "cell_type": "code",
      "metadata": {
        "id": "XwCtK_5ZitDV"
      },
      "source": [
        "import pandas as pd\n",
        "import numpy as np\n",
        "import os"
      ],
      "execution_count": 47,
      "outputs": []
    },
    {
      "cell_type": "markdown",
      "metadata": {
        "id": "yFTcyP0Ny-Oj"
      },
      "source": [
        "### Mount data from Google Drive"
      ]
    },
    {
      "cell_type": "code",
      "metadata": {
        "id": "PWUAYaEVisXp",
        "colab": {
          "base_uri": "https://localhost:8080/"
        },
        "outputId": "812c8381-2906-4119-8f44-af68a84f12cc"
      },
      "source": [
        "#mount data folder from google drive\n",
        "from google.colab import drive\n",
        "drive.mount('/content/drive')"
      ],
      "execution_count": 48,
      "outputs": [
        {
          "output_type": "stream",
          "text": [
            "Drive already mounted at /content/drive; to attempt to forcibly remount, call drive.mount(\"/content/drive\", force_remount=True).\n"
          ],
          "name": "stdout"
        }
      ]
    },
    {
      "cell_type": "markdown",
      "metadata": {
        "id": "K--JKyXbt8kZ"
      },
      "source": [
        "change dir and check contents"
      ]
    },
    {
      "cell_type": "code",
      "metadata": {
        "id": "xXrHTfR4nvZg",
        "colab": {
          "base_uri": "https://localhost:8080/"
        },
        "outputId": "5e44049a-273b-4831-f373-631156caab4b"
      },
      "source": [
        "cd '/content/drive/Shared drives/CS_GO_Data'\n"
      ],
      "execution_count": 49,
      "outputs": [
        {
          "output_type": "stream",
          "text": [
            "/content/drive/Shared drives/CS_GO_Data\n"
          ],
          "name": "stdout"
        }
      ]
    },
    {
      "cell_type": "code",
      "metadata": {
        "colab": {
          "base_uri": "https://localhost:8080/"
        },
        "id": "s3QpRkZ9pxmB",
        "outputId": "31865ec0-3c6d-4b82-910a-d80e495c8a75"
      },
      "source": [
        "ls"
      ],
      "execution_count": 50,
      "outputs": [
        {
          "output_type": "stream",
          "text": [
            "'Application Alogrithm.gdoc'   de_train.png\n",
            " cs_cruise.png                 de_tulip.png\n",
            "'data preprocessing.txt'       \u001b[0m\u001b[01;34mdont_use\u001b[0m/\n",
            " de_cache.png                  esea_master_dmg_demos.part1.csv\n",
            " de_cbble.png                  esea_master_dmg_demos.part2.csv\n",
            " de_coast.png                  esea_master_grenades_demos.part1.csv\n",
            " de_dust2.png                  esea_master_grenades_demos.part2.csv\n",
            " de_empire.png                 esea_master_kills_demos.part1.csv\n",
            " de_inferno.png                esea_master_kills_demos.part2.csv\n",
            " de_mikla.png                  esea_meta_demos.part1.csv\n",
            " de_mirage.png                 esea_meta_demos.part2.csv\n",
            " de_new_nuke.png              \u001b[01;34m'final_processed data'\u001b[0m/\n",
            " de_nuke.png                   map_data.csv\n",
            " de_overpass.png               \u001b[01;34mmaps\u001b[0m/\n",
            " de_royal.png                  \u001b[01;34mprocessed_data\u001b[0m/\n",
            " de_santorini.png              Updated_CS_GO_Analysis.ipynb\n",
            " de_season.png\n"
          ],
          "name": "stdout"
        }
      ]
    },
    {
      "cell_type": "markdown",
      "metadata": {
        "id": "howQKq4sy1Ja"
      },
      "source": [
        "### loaders"
      ]
    },
    {
      "cell_type": "code",
      "metadata": {
        "id": "CY2db5JRlsvM"
      },
      "source": [
        "# Function to combine the dataframes and return a single dataframe\n",
        "def combine_dataframes(df1,df2):\n",
        "  df_to_return = df1.append(df2)\n",
        "  df_to_return = df_to_return.reset_index(drop=True)\n",
        "  return df_to_return"
      ],
      "execution_count": 51,
      "outputs": []
    },
    {
      "cell_type": "code",
      "metadata": {
        "id": "yQW-xxPqov4x"
      },
      "source": [
        "#load raw data\n",
        "def load_raw_dmg():\n",
        "  df1 = pd.read_csv('esea_master_dmg_demos.part1.csv')\n",
        "  df2 = pd.read_csv('esea_master_dmg_demos.part2.csv')\n",
        "  return combine_dataframes(df1,df2)\n",
        "\n",
        "def load_raw_grenades():\n",
        "  df1 = pd.read_csv('esea_master_grenades_demos.part1.csv')\n",
        "  df2 = pd.read_csv('esea_master_grenades_demos.part2.csv')\n",
        "  return combine_dataframes(df1,df2) \n",
        "  \n",
        "def load_raw_kills():\n",
        "  df1 = pd.read_csv('esea_master_kills_demos.part1.csv')\n",
        "  df2 = pd.read_csv('esea_master_kills_demos.part2.csv')\n",
        "  return combine_dataframes(df1,df2) \n",
        "  \n",
        "def load_raw_meta():\n",
        "  df1 = pd.read_csv('esea_meta_demos.part1.csv')\n",
        "  df2 = pd.read_csv('esea_meta_demos.part2.csv')\n",
        "  return combine_dataframes(df1,df2)\n",
        "\n",
        "def load_raw_map_data():\n",
        "  return pd.read_csv('map_data.csv')\n",
        "\n",
        "def load_raw_all():\n",
        " return load_raw_dmg(), load_raw_grenades(), load_raw_kills(), load_raw_meta(), load_raw_map_data()"
      ],
      "execution_count": 52,
      "outputs": []
    },
    {
      "cell_type": "markdown",
      "metadata": {
        "id": "hi4DnwoEy4Jd"
      },
      "source": [
        "### load all data"
      ]
    },
    {
      "cell_type": "code",
      "metadata": {
        "id": "R4jYNpatrnZb"
      },
      "source": [
        "%%time\n",
        "raw_damage, raw_grenades, raw_kills, raw_meta, raw_map_data = load_raw_all()"
      ],
      "execution_count": null,
      "outputs": []
    },
    {
      "cell_type": "code",
      "metadata": {
        "id": "OryD0xKFvgY-"
      },
      "source": [
        "#print the shape of the data\n",
        "print('damage data:',raw_damage.shape)\n",
        "print('grenades data:',raw_grenades.shape)\n",
        "print('kills data:',raw_kills.shape)\n",
        "print('meta data:',raw_meta.shape)\n",
        "print('map data:',raw_map_data.shape)"
      ],
      "execution_count": null,
      "outputs": []
    },
    {
      "cell_type": "markdown",
      "metadata": {
        "id": "ZvqyFh0zujAr"
      },
      "source": [
        "### 1) Clean the raw data of corrupted data:\n",
        "\n",
        "We noticed that in some of the lines of the kaggle dataset, the attacking side (att_side) and the victim side (vic_side) don't match the attacking team (att_team) and the victim team(vic_team). This inconsistency poisons not only that line, but also the round, and the entire match as a whole. Therefore, for any matches these corrupt lines should be removed from the dataset."
      ]
    },
    {
      "cell_type": "code",
      "metadata": {
        "id": "vixJHgDaDp9F"
      },
      "source": [
        "#identify and output a list of corrupt matches for given the damage dataframe\n",
        "def find_inconsistent_games(df):\n",
        "  #removal condition #1: team mismatch when the sides match\n",
        "  mismatched_teams = raw_damage[(raw_damage.att_side == raw_damage.vic_side ) & (raw_damage.att_team != raw_damage.vic_team )]\n",
        "  #removal condition #2: side mismatch when the teams match\n",
        "  mismatched_sides = raw_damage[(raw_damage.att_side != raw_damage.vic_side ) & (raw_damage.att_team == raw_damage.vic_team )]\n",
        "\n",
        "  df = combine_dataframes(mismatched_teams,mismatched_sides)\n",
        "  strange_files = df['file'].unique()\n",
        "\n",
        "  #other erronous matches that we identified \n",
        "  strange_files = np.append(strange_files, 'esea_match_13787633.dem') \n",
        "  strange_files = np.append(strange_files, 'esea_match_13784811.dem')\n",
        "\n",
        "  strange_files = np.unique(strange_files)\n",
        "  return strange_files\n"
      ],
      "execution_count": null,
      "outputs": []
    },
    {
      "cell_type": "code",
      "metadata": {
        "id": "E-W3qMmu8Icj"
      },
      "source": [
        "#removes the matches specified in match_list from the given list of dataframes\n",
        "def remove_matches(inp_data, match_list):\n",
        "  filtered_data = []\n",
        "  for df in inp_data:\n",
        "    filtered_data.append(df[~df['file'].isin(strange_files)])\n",
        "\n",
        "  return filtered_data"
      ],
      "execution_count": null,
      "outputs": []
    },
    {
      "cell_type": "code",
      "metadata": {
        "id": "LxNcg1TkxQHo"
      },
      "source": [
        "data = [raw_damage, raw_grenades, raw_kills, raw_meta]\n",
        "strange_files = find_inconsistent_games(raw_damage)\n",
        "\n",
        "print('Percentage of matches removed:',(len(strange_files)/len(raw_meta))*100,'%')\n",
        "\n",
        "data = remove_matches(data, strange_files)\n",
        "# for df in data:\n",
        "#   df = df[~df['file'].isin(strange_files)]\n",
        "  #filtered.to_csv(f'/content/drive/Shared drives/CS_GO_Data/processed_data/filtered_{target}_demos.csv')"
      ],
      "execution_count": null,
      "outputs": []
    },
    {
      "cell_type": "code",
      "metadata": {
        "id": "51BaUsf_lpOB"
      },
      "source": [
        "print('damage data:',data[0].shape)\n",
        "print('grenades data:',data[1].shape)\n",
        "print('kills data:',data[2].shape)\n",
        "print('meta data:',data[3].shape)\n",
        "print('map data:',raw_map_data.shape)"
      ],
      "execution_count": null,
      "outputs": []
    },
    {
      "cell_type": "markdown",
      "metadata": {
        "id": "n7-74x6t5xLo"
      },
      "source": [
        "### 2) Anonymize the data: \n",
        "\n",
        "A small, but significant number of the matches record the team names of the teams. Replacing the team names with the more generic 'Team 1' and 'Team 2' Tags would maintain the anonymity of the data while removing the possibility of displaying inappropriate and confusing team names."
      ]
    },
    {
      "cell_type": "markdown",
      "metadata": {
        "id": "hI4ObRH0-XBx"
      },
      "source": [
        "There are three sources of damage in this dataset:\n",
        "\n",
        "this is represented by the variable att_side (attacker side). \n",
        "\n",
        "1) att_side = <\"Enemy team's name\"> :\n",
        "When an individual takes damage from the actions of the enemy team member)\n",
        "\n",
        "2) att_side = <\"Own team's name\"> :\n",
        "In cases of friendly fire or self damage)\n",
        "\n",
        "3) att_side = \"World\" :\n",
        "When an individual takes damage from non-player objects present in the game. Examples include fall damage and collision with moving objects (if any). "
      ]
    },
    {
      "cell_type": "code",
      "metadata": {
        "id": "Vdj78DM6leVS"
      },
      "source": [
        "def remove_other_dmg_sources(df):\n",
        "  #we need to temporarily remove the world damage to create a list of non-standard team namesdef delete_world_damage(df_esea_master_dmg_demos):\n",
        "  only_enemy_dmg = df[df.att_side != 'None']\n",
        "  \n",
        "  #remove friendly/self damage records\n",
        "  only_enemy_dmg = only_enemy_dmg[only_enemy_dmg.att_side != only_enemy_dmg.vic_side]\n",
        "  \n",
        "  #reset index\n",
        "  only_enemy_dmg = only_enemy_dmg.reset_index(drop=True)\n",
        "  return only_enemy_dmg"
      ],
      "execution_count": null,
      "outputs": []
    },
    {
      "cell_type": "code",
      "metadata": {
        "id": "ZuG8ul7lClpO"
      },
      "source": [
        "def find_rename_mask(df):\n",
        "  #get the first enemy damage instance of each match. This row has the all the data we are looking for\n",
        "  to_rename = df.groupby('file').first()\n",
        "\n",
        "  #only select the relevant columns\n",
        "  to_rename = to_rename[['att_team', 'vic_team','att_side','vic_side']] \n",
        "\n",
        "  # filter out rows(in this case, matches) where team names are the default 'Team 1' and 'Team 2' #only consider games where the team names aren't standard. Check both columns just in case\n",
        "  to_rename = to_rename[((to_rename.att_team != 'Team 1') & (to_rename.att_team != 'Team 2')) | ((to_rename.vic_team != 'Team 1') & (to_rename.vic_team != 'Team 2'))]\n",
        "\n",
        "  to_rename.reset_index(inplace=True)\n",
        "\n",
        "  #create new columns for each default team name\n",
        "  to_rename['Team 1'] = None\n",
        "  to_rename['Team 2'] = None\n",
        "\n",
        "  # the CounterTerriorist role is always given to Team 1 at round 1\n",
        "  for index,row in to_rename.iterrows():\n",
        "    if row['att_side'] == 'CounterTerrorist':\n",
        "      row['Team 1'] = row['att_team']\n",
        "      row['Team 2'] = row['vic_team']\n",
        "    else:\n",
        "      row['Team 1'] = row['vic_team']\n",
        "      row['Team 2'] = row['att_team']\n",
        "\n",
        "  to_rename.drop(columns=['att_team','vic_team','att_side','vic_side'], inplace=True) #drop the other columns #we only need file, Team1, Team2\n",
        "\n",
        "  return to_rename"
      ],
      "execution_count": null,
      "outputs": []
    },
    {
      "cell_type": "code",
      "metadata": {
        "id": "6tN3RZMqHH60"
      },
      "source": [
        "raw_meta"
      ],
      "execution_count": null,
      "outputs": []
    },
    {
      "cell_type": "code",
      "metadata": {
        "id": "jprB7IjRHgQw"
      },
      "source": [
        "def rename_team_names(df,to_rename):\n",
        "  for index,row in to_rename.iterrows():\n",
        "    mask = (df['file'] == row['file'])\n",
        "    df.loc[mask, 'att_team'] = df[mask]['att_team'].apply(lambda x: 'Team 1' if x == row['Team 1'] else 'Team 2')\n",
        "    df.loc[mask, 'vic_team'] = df[mask]['vic_team'].apply(lambda x: 'Team 1' if x == row['Team 1'] else 'Team 2')\n",
        "  return df"
      ],
      "execution_count": null,
      "outputs": []
    },
    {
      "cell_type": "code",
      "metadata": {
        "id": "r-P27fDBoOkj"
      },
      "source": [
        "only_enemy_dmg = remove_other_dmg_sources(data[0])\n",
        "to_rename = find_rename_mask(only_enemy_dmg)\n",
        "print('Number of matches that have custom team names:', len(to_rename))"
      ],
      "execution_count": null,
      "outputs": []
    },
    {
      "cell_type": "code",
      "metadata": {
        "id": "hmVOmpPzJ1-_"
      },
      "source": [
        "to_rename"
      ],
      "execution_count": null,
      "outputs": []
    },
    {
      "cell_type": "code",
      "metadata": {
        "id": "fR5kjQ2YHI-W"
      },
      "source": [
        "data[0] = rename_team_names(data[0],to_rename)\n",
        "data[1] = rename_team_names(data[1],to_rename)\n",
        "data[2] = rename_team_names(data[2],to_rename)"
      ],
      "execution_count": null,
      "outputs": []
    },
    {
      "cell_type": "code",
      "metadata": {
        "id": "C7vmYHh1MCjr"
      },
      "source": [
        "data[0]"
      ],
      "execution_count": null,
      "outputs": []
    },
    {
      "cell_type": "code",
      "metadata": {
        "id": "V27c_--VJ7ok"
      },
      "source": [
        "data[3]"
      ],
      "execution_count": null,
      "outputs": []
    },
    {
      "cell_type": "code",
      "metadata": {
        "id": "-YOuVXCOLHoe"
      },
      "source": [
        "def rename_meta_names(df,to_rename):\n",
        "  for index,row in to_rename.iterrows():\n",
        "    mask = (df['file'] == row['file'])\n",
        "    df.loc[mask, 'winner_team'] = df[mask]['winner_team'].apply(lambda x: 'Team 1' if x == row['Team 1'] else 'Team 2')\n",
        "  return df"
      ],
      "execution_count": null,
      "outputs": []
    },
    {
      "cell_type": "code",
      "metadata": {
        "id": "FH_JGxM7JaSt"
      },
      "source": [
        "data[3] = rename_meta_names(data[3],to_rename)\n"
      ],
      "execution_count": null,
      "outputs": []
    },
    {
      "cell_type": "code",
      "metadata": {
        "id": "OPPYuLUIMeHk"
      },
      "source": [
        "data[3]"
      ],
      "execution_count": null,
      "outputs": []
    },
    {
      "cell_type": "code",
      "metadata": {
        "id": "LSc6KLtnMuG9"
      },
      "source": [
        ""
      ],
      "execution_count": null,
      "outputs": []
    }
  ]
}