{
  "nbformat": 4,
  "nbformat_minor": 0,
  "metadata": {
    "colab": {
      "name": "CS_GO_filter_data.ipynb",
      "provenance": [],
      "collapsed_sections": [],
      "include_colab_link": true
    },
    "kernelspec": {
      "name": "python3",
      "display_name": "Python 3"
    }
  },
  "cells": [
    {
      "cell_type": "markdown",
      "metadata": {
        "id": "view-in-github",
        "colab_type": "text"
      },
      "source": [
        "<a href=\"https://colab.research.google.com/github/gandhimonil9823/CS_GO_Analysis/blob/main/temp1.ipynb\" target=\"_parent\"><img src=\"https://colab.research.google.com/assets/colab-badge.svg\" alt=\"Open In Colab\"/></a>"
      ]
    },
    {
      "cell_type": "code",
      "metadata": {
        "id": "XwCtK_5ZitDV"
      },
      "source": [
        "import pandas as pd\n",
        "import numpy as np\n",
        "import os"
      ],
      "execution_count": 11,
      "outputs": []
    },
    {
      "cell_type": "code",
      "metadata": {
        "id": "PWUAYaEVisXp",
        "colab": {
          "base_uri": "https://localhost:8080/"
        },
        "outputId": "7b0d612a-fc16-411f-beb3-6cdd0ad6d0d3"
      },
      "source": [
        "#mount data folder from google drive\n",
        "from google.colab import drive\n",
        "drive.mount('/content/drive')"
      ],
      "execution_count": 2,
      "outputs": [
        {
          "output_type": "stream",
          "text": [
            "Mounted at /content/drive\n"
          ],
          "name": "stdout"
        }
      ]
    },
    {
      "cell_type": "code",
      "metadata": {
        "id": "xXrHTfR4nvZg",
        "colab": {
          "base_uri": "https://localhost:8080/",
          "height": 183
        },
        "outputId": "b9fec482-608a-4a66-8089-df16f9b3f182"
      },
      "source": [
        "#navigate to the specific folder\n",
        "ls"
      ],
      "execution_count": 12,
      "outputs": [
        {
          "output_type": "error",
          "ename": "NameError",
          "evalue": "ignored",
          "traceback": [
            "\u001b[0;31m---------------------------------------------------------------------------\u001b[0m",
            "\u001b[0;31mNameError\u001b[0m                                 Traceback (most recent call last)",
            "\u001b[0;32m<ipython-input-12-ffa9c1ac6fb0>\u001b[0m in \u001b[0;36m<module>\u001b[0;34m()\u001b[0m\n\u001b[1;32m      1\u001b[0m \u001b[0;31m#navigate to the specific folder\u001b[0m\u001b[0;34m\u001b[0m\u001b[0;34m\u001b[0m\u001b[0;34m\u001b[0m\u001b[0m\n\u001b[0;32m----> 2\u001b[0;31m \u001b[0mls\u001b[0m\u001b[0;34m\u001b[0m\u001b[0;34m\u001b[0m\u001b[0m\n\u001b[0m",
            "\u001b[0;31mNameError\u001b[0m: name 'ls' is not defined"
          ]
        }
      ]
    },
    {
      "cell_type": "code",
      "metadata": {
        "id": "s3QpRkZ9pxmB"
      },
      "source": [
        "#check contents\n",
        "ls"
      ],
      "execution_count": null,
      "outputs": []
    },
    {
      "cell_type": "code",
      "metadata": {
        "id": "CY2db5JRlsvM"
      },
      "source": [
        "# Function to combine the dataframes and return a single dataframe\n",
        "def combine_dataframes(df1,df2):\n",
        "  df_to_return = df1.append(df2)\n",
        "  df_to_return = df_to_return.reset_index(drop=True)\n",
        "  return df_to_return"
      ],
      "execution_count": null,
      "outputs": []
    },
    {
      "cell_type": "code",
      "metadata": {
        "id": "yQW-xxPqov4x"
      },
      "source": [
        "#load raw data\n",
        "def load_raw_dmg():\n",
        "  df1 = pd.read_csv('esea_master_dmg_demos.part1.csv')\n",
        "  df2 = pd.read_csv('esea_master_dmg_demos.part2.csv')\n",
        "  return combine_dataframes(df1,df2)\n",
        "\n",
        "def load_raw_grenades():\n",
        "  df1 = pd.read_csv('esea_master_grenades_demos.part1.csv')\n",
        "  df2 = pd.read_csv('esea_master_grenades_demos.part2.csv')\n",
        "  return combine_dataframes(df1,df2) \n",
        "  \n",
        "def load_raw_kills():\n",
        "  df1 = pd.read_csv('esea_master_kills_demos.part1.csv')\n",
        "  df2 = pd.read_csv('esea_master_kills_demos.part2.csv')\n",
        "  return combine_dataframes(df1,df2) \n",
        "  \n",
        "def load_raw_meta():\n",
        "  df1 = pd.read_csv('esea_meta_demos.part1.csv')\n",
        "  df2 = pd.read_csv('esea_meta_demos.part2.csv')\n",
        "  return combine_dataframes(df1,df2)\n",
        "\n",
        "def load_raw_all():\n",
        " return load_raw_dmg(), load_raw_grenades(), load_raw_kills(), load_raw_meta()"
      ],
      "execution_count": null,
      "outputs": []
    },
    {
      "cell_type": "code",
      "metadata": {
        "id": "R4jYNpatrnZb"
      },
      "source": [
        "raw_damage_df, raw_grenades_df, raw_kills_df, raw_meta_df = load_raw_all()"
      ],
      "execution_count": null,
      "outputs": []
    },
    {
      "cell_type": "code",
      "metadata": {
        "id": "vixJHgDaDp9F"
      },
      "source": [
        "master_dmg1 = pd.read_csv('esea_master_dmg_demos.part1.csv')\n",
        "master_dmg2 = pd.read_csv('esea_master_dmg_demos.part2.csv')\n",
        "master_dmg = combine_dataframes(df1,df2)\n",
        "\n",
        "df1 = master_dmg[(master_dmg.att_side == master_dmg.vic_side ) & (master_dmg.att_team != master_dmg.vic_team )]\n",
        "df2 = master_dmg[(master_dmg.att_side != master_dmg.vic_side ) & (master_dmg.att_team == master_dmg.vic_team )]\n",
        "\n",
        "df = combine_dataframes(df1,df2)\n",
        "strange_files = df['file'].unique()\n",
        "\n",
        "strange_files = np.append(strange_files, 'esea_match_13787633.dem')\n",
        "strange_files = np.append(strange_files, 'esea_match_13784811.dem')\n",
        "strange_files = np.unique(strange_files)\n"
      ],
      "execution_count": null,
      "outputs": []
    },
    {
      "cell_type": "code",
      "metadata": {
        "id": "hPa09kj5mGOS"
      },
      "source": [
        "df\n"
      ],
      "execution_count": null,
      "outputs": []
    },
    {
      "cell_type": "code",
      "metadata": {
        "id": "LxNcg1TkxQHo"
      },
      "source": [
        "targets = ['master_dmg', 'master_grenades', 'master_kills', 'meta']\n",
        "\n",
        "for target in targets:\n",
        "  f1 = pd.read_csv(f'esea_{target}_demos.part1.csv')\n",
        "  f2 = pd.read_csv(f'esea_{target}_demos.part2.csv')\n",
        "  f = f1.append(f2)\n",
        "  filtered = f[~f['file'].isin(strange_files)]\n",
        "\n",
        "  #filtered.to_csv(f'/content/drive/Shared drives/CS_GO_Data/processed_data/filtered_{target}_demos.csv')"
      ],
      "execution_count": null,
      "outputs": []
    },
    {
      "cell_type": "code",
      "metadata": {
        "id": "51BaUsf_lpOB"
      },
      "source": [
        "f"
      ],
      "execution_count": null,
      "outputs": []
    },
    {
      "cell_type": "code",
      "metadata": {
        "id": "Vdj78DM6leVS"
      },
      "source": [
        "  def load_esea_meta_demos():\n",
        "  df_esea_meta_demos = pd.read_csv(\"filtered_meta_demos.csv\", index_col=[0])\n",
        "  df_esea_meta_demos = df_esea_meta_demos.reset_index(drop=True)\n",
        "  return df_esea_meta_demos\n",
        "\n"
      ],
      "execution_count": null,
      "outputs": []
    },
    {
      "cell_type": "code",
      "metadata": {
        "id": "r-P27fDBoOkj"
      },
      "source": [
        ""
      ],
      "execution_count": null,
      "outputs": []
    }
  ]
}