{
  "nbformat": 4,
  "nbformat_minor": 0,
  "metadata": {
    "colab": {
      "name": "Algorithm_Analysis.ipynb",
      "provenance": [],
      "authorship_tag": "ABX9TyMmGSNUUEITLWV3XopjCAE8",
      "include_colab_link": true
    },
    "kernelspec": {
      "name": "python3",
      "display_name": "Python 3"
    }
  },
  "cells": [
    {
      "cell_type": "markdown",
      "metadata": {
        "id": "view-in-github",
        "colab_type": "text"
      },
      "source": [
        "<a href=\"https://colab.research.google.com/github/gandhimonil9823/CS_GO_Analysis/blob/main/Algorithm_Analysis.ipynb\" target=\"_parent\"><img src=\"https://colab.research.google.com/assets/colab-badge.svg\" alt=\"Open In Colab\"/></a>"
      ]
    },
    {
      "cell_type": "code",
      "metadata": {
        "id": "YQ75uc_VmGPH"
      },
      "source": [
        "import pandas as pd\n",
        "import os\n",
        "import matplotlib.pyplot as plt\n",
        "import seaborn as sns\n",
        "plt.style.use('fivethirtyeight')\n",
        "plt_kwargs = {'figsize': (10, 4)}\n",
        "from sklearn.preprocessing import StandardScaler\n",
        "from sklearn.linear_model import LinearRegression\n",
        "from sklearn.model_selection import train_test_split\n",
        "from sklearn.metrics import accuracy_score\n",
        "from sklearn.metrics import classification_report, f1_score, confusion_matrix\n",
        "from sklearn.preprocessing import StandardScaler\n",
        "from sklearn.linear_model import LogisticRegression\n",
        "from sklearn import metrics\n",
        "from sklearn.model_selection import cross_val_score\n",
        "from sklearn.metrics import roc_auc_score\n",
        "from sklearn.metrics import roc_curve\n",
        "from sklearn import model_selection\n",
        "from sklearn import svm\n",
        "from sklearn.model_selection import train_test_split\n",
        "from sklearn.preprocessing import MinMaxScaler, StandardScaler\n",
        "from sklearn.ensemble import RandomForestClassifier, GradientBoostingClassifier\n",
        "from sklearn.model_selection import train_test_split, cross_val_score, GridSearchCV, RandomizedSearchCV\n",
        "from sklearn.neighbors import KNeighborsClassifier\n"
      ],
      "execution_count": 9,
      "outputs": []
    },
    {
      "cell_type": "code",
      "metadata": {
        "id": "PWUAYaEVisXp",
        "colab": {
          "base_uri": "https://localhost:8080/"
        },
        "outputId": "767c782a-3700-4c13-ea4b-5543376d83b8"
      },
      "source": [
        "from google.colab import drive\n",
        "drive.mount('/content/drive')\n",
        "#drive.mount(r'drive/folders/0AAxMXLC9WPNxUk9PVA')\n"
      ],
      "execution_count": 10,
      "outputs": [
        {
          "output_type": "stream",
          "text": [
            "Drive already mounted at /content/drive; to attempt to forcibly remount, call drive.mount(\"/content/drive\", force_remount=True).\n"
          ],
          "name": "stdout"
        }
      ]
    },
    {
      "cell_type": "code",
      "metadata": {
        "id": "p2Uhw8N_mnhS",
        "colab": {
          "base_uri": "https://localhost:8080/"
        },
        "outputId": "aaf6be98-4b8a-49c8-bf45-1217fd9548b6"
      },
      "source": [
        "ls"
      ],
      "execution_count": 11,
      "outputs": [
        {
          "output_type": "stream",
          "text": [
            "\u001b[0m\u001b[01;34mdrive\u001b[0m/  \u001b[01;34msample_data\u001b[0m/\n"
          ],
          "name": "stdout"
        }
      ]
    },
    {
      "cell_type": "code",
      "metadata": {
        "id": "xXrHTfR4nvZg",
        "colab": {
          "base_uri": "https://localhost:8080/"
        },
        "outputId": "ba3dabc4-7841-4604-930c-7c096b2eb17d"
      },
      "source": [
        "cd 'drive/Shared drives/CS_GO_Data/processed_data_v2'"
      ],
      "execution_count": 12,
      "outputs": [
        {
          "output_type": "stream",
          "text": [
            "/content/drive/Shared drives/CS_GO_Data/processed_data_v2\n"
          ],
          "name": "stdout"
        }
      ]
    },
    {
      "cell_type": "code",
      "metadata": {
        "id": "UlbwqAo_oHuQ",
        "colab": {
          "base_uri": "https://localhost:8080/"
        },
        "outputId": "832efc63-276b-460a-c592-e17a381028d8"
      },
      "source": [
        "ls"
      ],
      "execution_count": 13,
      "outputs": [
        {
          "output_type": "stream",
          "text": [
            "\u001b[0m\u001b[01;34maggregated_data\u001b[0m/  grenade_data.csv  Log_ROC.png   meta_data.csv\n",
            "damage_data.csv   kill_data.csv     map_data.csv\n"
          ],
          "name": "stdout"
        }
      ]
    },
    {
      "cell_type": "markdown",
      "metadata": {
        "id": "wduAfDIsm2p1"
      },
      "source": [
        "# Data Preprocess for Data Mining Algorithms\n"
      ]
    },
    {
      "cell_type": "code",
      "metadata": {
        "colab": {
          "base_uri": "https://localhost:8080/",
          "height": 204
        },
        "id": "-4hDZGPNlRse",
        "outputId": "a90c669f-2e7e-40b0-c56a-6f120f8df162"
      },
      "source": [
        "df_esea_meta_demos =  pd.read_csv(\"meta_data.csv\")\n",
        "\n",
        "df_esea_meta_demos.head()"
      ],
      "execution_count": 14,
      "outputs": [
        {
          "output_type": "execute_result",
          "data": {
            "text/html": [
              "<div>\n",
              "<style scoped>\n",
              "    .dataframe tbody tr th:only-of-type {\n",
              "        vertical-align: middle;\n",
              "    }\n",
              "\n",
              "    .dataframe tbody tr th {\n",
              "        vertical-align: top;\n",
              "    }\n",
              "\n",
              "    .dataframe thead th {\n",
              "        text-align: right;\n",
              "    }\n",
              "</style>\n",
              "<table border=\"1\" class=\"dataframe\">\n",
              "  <thead>\n",
              "    <tr style=\"text-align: right;\">\n",
              "      <th></th>\n",
              "      <th>file</th>\n",
              "      <th>map</th>\n",
              "      <th>round</th>\n",
              "      <th>start_seconds</th>\n",
              "      <th>end_seconds</th>\n",
              "      <th>winner_team</th>\n",
              "      <th>winner_side</th>\n",
              "      <th>round_type</th>\n",
              "      <th>ct_eq_val</th>\n",
              "      <th>t_eq_val</th>\n",
              "    </tr>\n",
              "  </thead>\n",
              "  <tbody>\n",
              "    <tr>\n",
              "      <th>0</th>\n",
              "      <td>esea_match_13770997.dem</td>\n",
              "      <td>de_overpass</td>\n",
              "      <td>1</td>\n",
              "      <td>94.30782</td>\n",
              "      <td>160.9591</td>\n",
              "      <td>Team 2</td>\n",
              "      <td>Terrorist</td>\n",
              "      <td>PISTOL_ROUND</td>\n",
              "      <td>4300</td>\n",
              "      <td>4250</td>\n",
              "    </tr>\n",
              "    <tr>\n",
              "      <th>1</th>\n",
              "      <td>esea_match_13770997.dem</td>\n",
              "      <td>de_overpass</td>\n",
              "      <td>2</td>\n",
              "      <td>160.95910</td>\n",
              "      <td>279.3998</td>\n",
              "      <td>Team 2</td>\n",
              "      <td>Terrorist</td>\n",
              "      <td>ECO</td>\n",
              "      <td>6300</td>\n",
              "      <td>19400</td>\n",
              "    </tr>\n",
              "    <tr>\n",
              "      <th>2</th>\n",
              "      <td>esea_match_13770997.dem</td>\n",
              "      <td>de_overpass</td>\n",
              "      <td>3</td>\n",
              "      <td>279.39980</td>\n",
              "      <td>341.0084</td>\n",
              "      <td>Team 2</td>\n",
              "      <td>Terrorist</td>\n",
              "      <td>SEMI_ECO</td>\n",
              "      <td>7650</td>\n",
              "      <td>19250</td>\n",
              "    </tr>\n",
              "    <tr>\n",
              "      <th>3</th>\n",
              "      <td>esea_match_13770997.dem</td>\n",
              "      <td>de_overpass</td>\n",
              "      <td>4</td>\n",
              "      <td>341.00840</td>\n",
              "      <td>435.4259</td>\n",
              "      <td>Team 2</td>\n",
              "      <td>Terrorist</td>\n",
              "      <td>NORMAL</td>\n",
              "      <td>24900</td>\n",
              "      <td>23400</td>\n",
              "    </tr>\n",
              "    <tr>\n",
              "      <th>4</th>\n",
              "      <td>esea_match_13770997.dem</td>\n",
              "      <td>de_overpass</td>\n",
              "      <td>5</td>\n",
              "      <td>435.42590</td>\n",
              "      <td>484.2398</td>\n",
              "      <td>Team 1</td>\n",
              "      <td>CounterTerrorist</td>\n",
              "      <td>ECO</td>\n",
              "      <td>5400</td>\n",
              "      <td>20550</td>\n",
              "    </tr>\n",
              "  </tbody>\n",
              "</table>\n",
              "</div>"
            ],
            "text/plain": [
              "                      file          map  ...  ct_eq_val  t_eq_val\n",
              "0  esea_match_13770997.dem  de_overpass  ...       4300      4250\n",
              "1  esea_match_13770997.dem  de_overpass  ...       6300     19400\n",
              "2  esea_match_13770997.dem  de_overpass  ...       7650     19250\n",
              "3  esea_match_13770997.dem  de_overpass  ...      24900     23400\n",
              "4  esea_match_13770997.dem  de_overpass  ...       5400     20550\n",
              "\n",
              "[5 rows x 10 columns]"
            ]
          },
          "metadata": {
            "tags": []
          },
          "execution_count": 14
        }
      ]
    },
    {
      "cell_type": "code",
      "metadata": {
        "id": "7X37xgRGj7Ck"
      },
      "source": [
        "def terrorist_counterT_win(series_shifted_winner_side):\n",
        "  terrorist_win = series_shifted_winner_side.apply(lambda x: 1 if x=='Terrorist' else 0)\n",
        "  terrorist_win = terrorist_win.iloc[:-1]\n",
        "  terrorist_win = terrorist_win.reset_index(drop=True)\n",
        "\n",
        "  counterterrorist_win = series_shifted_winner_side.apply(lambda x: 1 if x=='CounterTerrorist' else 0)\n",
        "  counterterrorist_win = counterterrorist_win.iloc[:-1]\n",
        "  counterterrorist_win = counterterrorist_win.reset_index(drop=True)\n",
        "\n",
        "  return terrorist_win, counterterrorist_win\n",
        "\n",
        "def preprocess_meta_demos_algo(df_esea_meta_demos):\n",
        "\n",
        "  df_original_preprocessed = df_esea_meta_demos[['round','ct_eq_val','t_eq_val']]\n",
        "\n",
        "  unique_maps = df_esea_meta_demos[\"map\"].unique()\n",
        "\n",
        "  map_dataframe = pd.DataFrame()\n",
        "\n",
        "  for map_cs_go in unique_maps:\n",
        "    map_dataframe[map_cs_go] = df_esea_meta_demos[\"map\"].apply(lambda x: 1 if x == map_cs_go else 0)\n",
        "\n",
        "  series_one_element = pd.Series([0])\n",
        "\n",
        "  binary_values_first_round = df_esea_meta_demos[\"round\"].apply(lambda x : 0 if x == 1 else 1)\n",
        "\n",
        "  binary_values_first_round = binary_values_first_round.rename(\"not_First_Round\").reset_index(drop=True)\n",
        "\n",
        "  series_shifted_winner_side = series_one_element.append(df_esea_meta_demos[\"winner_side\"])\n",
        "\n",
        "  terrorist_win, counterterrorist_win = terrorist_counterT_win(series_shifted_winner_side)\n",
        "\n",
        "  terrorist_win = (terrorist_win * binary_values_first_round).rename('terrorist_win')\n",
        "\n",
        "  counterterrorist_win = (counterterrorist_win * binary_values_first_round).rename('counterterrorist_win')\n",
        "\n",
        "  previous_win_df = pd.concat([terrorist_win, counterterrorist_win])\n",
        "\n",
        "  data_to_predict_T_CT = df_esea_meta_demos['winner_side'].apply(lambda x: 1 if x=='Terrorist' else 0)\n",
        "\n",
        "  column_names = [df_original_preprocessed, map_dataframe, terrorist_win, counterterrorist_win, data_to_predict_T_CT]\n",
        "\n",
        "  return pd.concat(column_names, axis = 'columns', join = 'inner')"
      ],
      "execution_count": 17,
      "outputs": []
    },
    {
      "cell_type": "code",
      "metadata": {
        "colab": {
          "base_uri": "https://localhost:8080/",
          "height": 419
        },
        "id": "xA1DuqlCmZM1",
        "outputId": "d9026700-1313-4eec-c090-8f3afac4acbc"
      },
      "source": [
        "df_meta_data = preprocess_meta_demos_algo(df_esea_meta_demos)\n",
        "df_meta_data"
      ],
      "execution_count": 18,
      "outputs": [
        {
          "output_type": "execute_result",
          "data": {
            "text/html": [
              "<div>\n",
              "<style scoped>\n",
              "    .dataframe tbody tr th:only-of-type {\n",
              "        vertical-align: middle;\n",
              "    }\n",
              "\n",
              "    .dataframe tbody tr th {\n",
              "        vertical-align: top;\n",
              "    }\n",
              "\n",
              "    .dataframe thead th {\n",
              "        text-align: right;\n",
              "    }\n",
              "</style>\n",
              "<table border=\"1\" class=\"dataframe\">\n",
              "  <thead>\n",
              "    <tr style=\"text-align: right;\">\n",
              "      <th></th>\n",
              "      <th>round</th>\n",
              "      <th>ct_eq_val</th>\n",
              "      <th>t_eq_val</th>\n",
              "      <th>de_overpass</th>\n",
              "      <th>de_cache</th>\n",
              "      <th>de_mirage</th>\n",
              "      <th>de_inferno</th>\n",
              "      <th>de_train</th>\n",
              "      <th>de_dust2</th>\n",
              "      <th>de_cbble</th>\n",
              "      <th>de_nuke</th>\n",
              "      <th>terrorist_win</th>\n",
              "      <th>counterterrorist_win</th>\n",
              "      <th>winner_side</th>\n",
              "    </tr>\n",
              "  </thead>\n",
              "  <tbody>\n",
              "    <tr>\n",
              "      <th>0</th>\n",
              "      <td>1</td>\n",
              "      <td>4300</td>\n",
              "      <td>4250</td>\n",
              "      <td>1</td>\n",
              "      <td>0</td>\n",
              "      <td>0</td>\n",
              "      <td>0</td>\n",
              "      <td>0</td>\n",
              "      <td>0</td>\n",
              "      <td>0</td>\n",
              "      <td>0</td>\n",
              "      <td>0</td>\n",
              "      <td>0</td>\n",
              "      <td>1</td>\n",
              "    </tr>\n",
              "    <tr>\n",
              "      <th>1</th>\n",
              "      <td>2</td>\n",
              "      <td>6300</td>\n",
              "      <td>19400</td>\n",
              "      <td>1</td>\n",
              "      <td>0</td>\n",
              "      <td>0</td>\n",
              "      <td>0</td>\n",
              "      <td>0</td>\n",
              "      <td>0</td>\n",
              "      <td>0</td>\n",
              "      <td>0</td>\n",
              "      <td>1</td>\n",
              "      <td>0</td>\n",
              "      <td>1</td>\n",
              "    </tr>\n",
              "    <tr>\n",
              "      <th>2</th>\n",
              "      <td>3</td>\n",
              "      <td>7650</td>\n",
              "      <td>19250</td>\n",
              "      <td>1</td>\n",
              "      <td>0</td>\n",
              "      <td>0</td>\n",
              "      <td>0</td>\n",
              "      <td>0</td>\n",
              "      <td>0</td>\n",
              "      <td>0</td>\n",
              "      <td>0</td>\n",
              "      <td>1</td>\n",
              "      <td>0</td>\n",
              "      <td>1</td>\n",
              "    </tr>\n",
              "    <tr>\n",
              "      <th>3</th>\n",
              "      <td>4</td>\n",
              "      <td>24900</td>\n",
              "      <td>23400</td>\n",
              "      <td>1</td>\n",
              "      <td>0</td>\n",
              "      <td>0</td>\n",
              "      <td>0</td>\n",
              "      <td>0</td>\n",
              "      <td>0</td>\n",
              "      <td>0</td>\n",
              "      <td>0</td>\n",
              "      <td>1</td>\n",
              "      <td>0</td>\n",
              "      <td>1</td>\n",
              "    </tr>\n",
              "    <tr>\n",
              "      <th>4</th>\n",
              "      <td>5</td>\n",
              "      <td>5400</td>\n",
              "      <td>20550</td>\n",
              "      <td>1</td>\n",
              "      <td>0</td>\n",
              "      <td>0</td>\n",
              "      <td>0</td>\n",
              "      <td>0</td>\n",
              "      <td>0</td>\n",
              "      <td>0</td>\n",
              "      <td>0</td>\n",
              "      <td>1</td>\n",
              "      <td>0</td>\n",
              "      <td>0</td>\n",
              "    </tr>\n",
              "    <tr>\n",
              "      <th>...</th>\n",
              "      <td>...</td>\n",
              "      <td>...</td>\n",
              "      <td>...</td>\n",
              "      <td>...</td>\n",
              "      <td>...</td>\n",
              "      <td>...</td>\n",
              "      <td>...</td>\n",
              "      <td>...</td>\n",
              "      <td>...</td>\n",
              "      <td>...</td>\n",
              "      <td>...</td>\n",
              "      <td>...</td>\n",
              "      <td>...</td>\n",
              "      <td>...</td>\n",
              "    </tr>\n",
              "    <tr>\n",
              "      <th>340328</th>\n",
              "      <td>18</td>\n",
              "      <td>4500</td>\n",
              "      <td>21950</td>\n",
              "      <td>0</td>\n",
              "      <td>0</td>\n",
              "      <td>1</td>\n",
              "      <td>0</td>\n",
              "      <td>0</td>\n",
              "      <td>0</td>\n",
              "      <td>0</td>\n",
              "      <td>0</td>\n",
              "      <td>1</td>\n",
              "      <td>0</td>\n",
              "      <td>1</td>\n",
              "    </tr>\n",
              "    <tr>\n",
              "      <th>340329</th>\n",
              "      <td>19</td>\n",
              "      <td>16400</td>\n",
              "      <td>26100</td>\n",
              "      <td>0</td>\n",
              "      <td>0</td>\n",
              "      <td>1</td>\n",
              "      <td>0</td>\n",
              "      <td>0</td>\n",
              "      <td>0</td>\n",
              "      <td>0</td>\n",
              "      <td>0</td>\n",
              "      <td>1</td>\n",
              "      <td>0</td>\n",
              "      <td>1</td>\n",
              "    </tr>\n",
              "    <tr>\n",
              "      <th>340330</th>\n",
              "      <td>20</td>\n",
              "      <td>15100</td>\n",
              "      <td>26000</td>\n",
              "      <td>0</td>\n",
              "      <td>0</td>\n",
              "      <td>1</td>\n",
              "      <td>0</td>\n",
              "      <td>0</td>\n",
              "      <td>0</td>\n",
              "      <td>0</td>\n",
              "      <td>0</td>\n",
              "      <td>1</td>\n",
              "      <td>0</td>\n",
              "      <td>1</td>\n",
              "    </tr>\n",
              "    <tr>\n",
              "      <th>340331</th>\n",
              "      <td>21</td>\n",
              "      <td>17550</td>\n",
              "      <td>25500</td>\n",
              "      <td>0</td>\n",
              "      <td>0</td>\n",
              "      <td>1</td>\n",
              "      <td>0</td>\n",
              "      <td>0</td>\n",
              "      <td>0</td>\n",
              "      <td>0</td>\n",
              "      <td>0</td>\n",
              "      <td>1</td>\n",
              "      <td>0</td>\n",
              "      <td>1</td>\n",
              "    </tr>\n",
              "    <tr>\n",
              "      <th>340332</th>\n",
              "      <td>22</td>\n",
              "      <td>21150</td>\n",
              "      <td>26550</td>\n",
              "      <td>0</td>\n",
              "      <td>0</td>\n",
              "      <td>1</td>\n",
              "      <td>0</td>\n",
              "      <td>0</td>\n",
              "      <td>0</td>\n",
              "      <td>0</td>\n",
              "      <td>0</td>\n",
              "      <td>1</td>\n",
              "      <td>0</td>\n",
              "      <td>1</td>\n",
              "    </tr>\n",
              "  </tbody>\n",
              "</table>\n",
              "<p>340333 rows × 14 columns</p>\n",
              "</div>"
            ],
            "text/plain": [
              "        round  ct_eq_val  ...  counterterrorist_win  winner_side\n",
              "0           1       4300  ...                     0            1\n",
              "1           2       6300  ...                     0            1\n",
              "2           3       7650  ...                     0            1\n",
              "3           4      24900  ...                     0            1\n",
              "4           5       5400  ...                     0            0\n",
              "...       ...        ...  ...                   ...          ...\n",
              "340328     18       4500  ...                     0            1\n",
              "340329     19      16400  ...                     0            1\n",
              "340330     20      15100  ...                     0            1\n",
              "340331     21      17550  ...                     0            1\n",
              "340332     22      21150  ...                     0            1\n",
              "\n",
              "[340333 rows x 14 columns]"
            ]
          },
          "metadata": {
            "tags": []
          },
          "execution_count": 18
        }
      ]
    },
    {
      "cell_type": "markdown",
      "metadata": {
        "id": "CwK618CNmo6Z"
      },
      "source": [
        "# Data Mining Algorithms"
      ]
    },
    {
      "cell_type": "code",
      "metadata": {
        "id": "JuqweNQEo0_B"
      },
      "source": [
        "X = df_meta_data.drop('winner_side', axis = 1)[:10000]\n",
        "\n",
        "y = df_meta_data['winner_side'][:10000]\n",
        "\n",
        "# using train_test_split for splitting the data into four different sets with 20% for the test data set\n",
        "X_train, X_test, Y_train, Y_test = train_test_split(X, y, test_size=0.20, random_state=1)\n",
        "\n",
        "# scale the data\n",
        "standard_scalar = StandardScaler()\n",
        "\n",
        "X_train = standard_scalar.fit_transform(X_train)\n",
        "\n",
        "X_test = standard_scalar.fit_transform(X_test)"
      ],
      "execution_count": 19,
      "outputs": []
    },
    {
      "cell_type": "code",
      "metadata": {
        "id": "cywPH5kRmtax"
      },
      "source": [
        "def run_models(X_train, X_test, Y_train, Y_test):\n",
        "  models = [\n",
        "            ('LogReg', LogisticRegression()), \n",
        "            ('RF', RandomForestClassifier(max_depth=2, random_state=0)),\n",
        "            ('KNN', KNeighborsClassifier(n_neighbors=10)),\n",
        "            ('SVM', svm.SVC(kernel='linear'))\n",
        "  ]\n",
        "\n",
        "  scoring = ['accuracy', 'precision_weighted', 'recall_weighted', 'f1_weighted', 'roc_auc']\n",
        "  dfs = []  \n",
        "  results = []\n",
        "  names = []\n",
        "  for name, model in models:\n",
        "    kfold = model_selection.KFold(n_splits=6, shuffle=True, random_state=90210)\n",
        "    cv_results = model_selection.cross_validate(model, X_train, Y_train, cv=kfold, scoring=scoring)\n",
        "    clf = model.fit(X_train, Y_train)\n",
        "    y_pred = clf.predict(X_test)\n",
        "    print(name)\n",
        "    print(classification_report(Y_test, y_pred))\n",
        "    results.append(cv_results)\n",
        "    this_df = pd.DataFrame(cv_results)\n",
        "    this_df['model'] = name\n",
        "    dfs.append(this_df)\n",
        "  final = pd.concat(dfs, ignore_index=True)\n",
        "  return final"
      ],
      "execution_count": 20,
      "outputs": []
    },
    {
      "cell_type": "code",
      "metadata": {
        "colab": {
          "base_uri": "https://localhost:8080/",
          "height": 884
        },
        "id": "N2TfT7WSqC22",
        "outputId": "544574ac-ba5a-4648-c7ed-1638f7d5b46e"
      },
      "source": [
        "df_kfold_results = run_models(X_train, X_test, Y_train, Y_test)\n",
        "\n",
        "df_kfold_results_average_values = df_kfold_results.groupby('model').mean()\n",
        "\n",
        "df_kfold_results_average_values.columns = [str(col) + '_average' for col in df_kfold_results_average_values.columns]\n",
        "\n",
        "df_kfold_results_average_values\n"
      ],
      "execution_count": 25,
      "outputs": [
        {
          "output_type": "stream",
          "text": [
            "LogReg\n",
            "              precision    recall  f1-score   support\n",
            "\n",
            "           0       0.64      0.68      0.66       993\n",
            "           1       0.66      0.62      0.64      1007\n",
            "\n",
            "    accuracy                           0.65      2000\n",
            "   macro avg       0.65      0.65      0.65      2000\n",
            "weighted avg       0.65      0.65      0.65      2000\n",
            "\n",
            "RF\n",
            "              precision    recall  f1-score   support\n",
            "\n",
            "           0       0.64      0.67      0.66       993\n",
            "           1       0.66      0.63      0.65      1007\n",
            "\n",
            "    accuracy                           0.65      2000\n",
            "   macro avg       0.65      0.65      0.65      2000\n",
            "weighted avg       0.65      0.65      0.65      2000\n",
            "\n",
            "KNN\n",
            "              precision    recall  f1-score   support\n",
            "\n",
            "           0       0.61      0.72      0.66       993\n",
            "           1       0.66      0.54      0.59      1007\n",
            "\n",
            "    accuracy                           0.63      2000\n",
            "   macro avg       0.63      0.63      0.63      2000\n",
            "weighted avg       0.63      0.63      0.63      2000\n",
            "\n",
            "SVM\n",
            "              precision    recall  f1-score   support\n",
            "\n",
            "           0       0.64      0.67      0.66       993\n",
            "           1       0.66      0.63      0.64      1007\n",
            "\n",
            "    accuracy                           0.65      2000\n",
            "   macro avg       0.65      0.65      0.65      2000\n",
            "weighted avg       0.65      0.65      0.65      2000\n",
            "\n"
          ],
          "name": "stdout"
        },
        {
          "output_type": "execute_result",
          "data": {
            "text/html": [
              "<div>\n",
              "<style scoped>\n",
              "    .dataframe tbody tr th:only-of-type {\n",
              "        vertical-align: middle;\n",
              "    }\n",
              "\n",
              "    .dataframe tbody tr th {\n",
              "        vertical-align: top;\n",
              "    }\n",
              "\n",
              "    .dataframe thead th {\n",
              "        text-align: right;\n",
              "    }\n",
              "</style>\n",
              "<table border=\"1\" class=\"dataframe\">\n",
              "  <thead>\n",
              "    <tr style=\"text-align: right;\">\n",
              "      <th></th>\n",
              "      <th>fit_time_average</th>\n",
              "      <th>score_time_average</th>\n",
              "      <th>test_accuracy_average</th>\n",
              "      <th>test_precision_weighted_average</th>\n",
              "      <th>test_recall_weighted_average</th>\n",
              "      <th>test_f1_weighted_average</th>\n",
              "      <th>test_roc_auc_average</th>\n",
              "    </tr>\n",
              "    <tr>\n",
              "      <th>model</th>\n",
              "      <th></th>\n",
              "      <th></th>\n",
              "      <th></th>\n",
              "      <th></th>\n",
              "      <th></th>\n",
              "      <th></th>\n",
              "      <th></th>\n",
              "    </tr>\n",
              "  </thead>\n",
              "  <tbody>\n",
              "    <tr>\n",
              "      <th>KNN</th>\n",
              "      <td>0.054202</td>\n",
              "      <td>0.385949</td>\n",
              "      <td>0.635001</td>\n",
              "      <td>0.638693</td>\n",
              "      <td>0.635001</td>\n",
              "      <td>0.633450</td>\n",
              "      <td>0.689385</td>\n",
              "    </tr>\n",
              "    <tr>\n",
              "      <th>LogReg</th>\n",
              "      <td>0.026633</td>\n",
              "      <td>0.009013</td>\n",
              "      <td>0.664874</td>\n",
              "      <td>0.666321</td>\n",
              "      <td>0.664874</td>\n",
              "      <td>0.664736</td>\n",
              "      <td>0.736772</td>\n",
              "    </tr>\n",
              "    <tr>\n",
              "      <th>RF</th>\n",
              "      <td>0.263374</td>\n",
              "      <td>0.036497</td>\n",
              "      <td>0.655874</td>\n",
              "      <td>0.656155</td>\n",
              "      <td>0.655874</td>\n",
              "      <td>0.655866</td>\n",
              "      <td>0.730368</td>\n",
              "    </tr>\n",
              "    <tr>\n",
              "      <th>SVM</th>\n",
              "      <td>1.043792</td>\n",
              "      <td>0.188591</td>\n",
              "      <td>0.653874</td>\n",
              "      <td>0.654347</td>\n",
              "      <td>0.653874</td>\n",
              "      <td>0.653899</td>\n",
              "      <td>0.684386</td>\n",
              "    </tr>\n",
              "  </tbody>\n",
              "</table>\n",
              "</div>"
            ],
            "text/plain": [
              "        fit_time_average  ...  test_roc_auc_average\n",
              "model                     ...                      \n",
              "KNN             0.054202  ...              0.689385\n",
              "LogReg          0.026633  ...              0.736772\n",
              "RF              0.263374  ...              0.730368\n",
              "SVM             1.043792  ...              0.684386\n",
              "\n",
              "[4 rows x 7 columns]"
            ]
          },
          "metadata": {
            "tags": []
          },
          "execution_count": 25
        }
      ]
    },
    {
      "cell_type": "code",
      "metadata": {
        "id": "4Hli-_JhU-Ci"
      },
      "source": [
        ""
      ],
      "execution_count": null,
      "outputs": []
    }
  ]
}