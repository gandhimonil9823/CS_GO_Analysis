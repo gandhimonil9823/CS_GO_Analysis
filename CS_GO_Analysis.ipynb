{
  "nbformat": 4,
  "nbformat_minor": 0,
  "metadata": {
    "colab": {
      "name": "CS_GO_Analysis.ipynb",
      "provenance": [],
      "collapsed_sections": [],
      "toc_visible": true,
      "include_colab_link": true
    },
    "kernelspec": {
      "name": "python3",
      "display_name": "Python 3"
    }
  },
  "cells": [
    {
      "cell_type": "markdown",
      "metadata": {
        "id": "view-in-github",
        "colab_type": "text"
      },
      "source": [
        "<a href=\"https://colab.research.google.com/github/gandhimonil9823/CS_GO_Analysis/blob/main/CS_GO_Analysis.ipynb\" target=\"_parent\"><img src=\"https://colab.research.google.com/assets/colab-badge.svg\" alt=\"Open In Colab\"/></a>"
      ]
    },
    {
      "cell_type": "code",
      "metadata": {
        "id": "XwCtK_5ZitDV"
      },
      "source": [
        "import pandas as pd\n",
        "import os"
      ],
      "execution_count": 16,
      "outputs": []
    },
    {
      "cell_type": "code",
      "metadata": {
        "id": "PWUAYaEVisXp",
        "outputId": "5006d4b2-de92-4022-a074-15bfb575acb1",
        "colab": {
          "base_uri": "https://localhost:8080/"
        }
      },
      "source": [
        "from google.colab import drive\n",
        "drive.mount('/content/drive')\n",
        "#drive.mount(r'drive/folders/0AAxMXLC9WPNxUk9PVA')\n"
      ],
      "execution_count": 17,
      "outputs": [
        {
          "output_type": "stream",
          "text": [
            "Drive already mounted at /content/drive; to attempt to forcibly remount, call drive.mount(\"/content/drive\", force_remount=True).\n"
          ],
          "name": "stdout"
        }
      ]
    },
    {
      "cell_type": "code",
      "metadata": {
        "id": "xXrHTfR4nvZg",
        "outputId": "8d976483-a9b4-40e3-e321-7c540c43e8c3",
        "colab": {
          "base_uri": "https://localhost:8080/"
        }
      },
      "source": [
        "cd 'drive/Shared drives/CS_GO_Data'"
      ],
      "execution_count": 18,
      "outputs": [
        {
          "output_type": "stream",
          "text": [
            "[Errno 2] No such file or directory: 'drive/Shared drives/CS_GO_Data'\n",
            "/content/drive/Shared drives/CS_GO_Data\n"
          ],
          "name": "stdout"
        }
      ]
    },
    {
      "cell_type": "code",
      "metadata": {
        "id": "UlbwqAo_oHuQ",
        "outputId": "a052849b-1604-4911-bcbe-6ff5161a8880",
        "colab": {
          "base_uri": "https://localhost:8080/"
        }
      },
      "source": [
        "ls"
      ],
      "execution_count": 19,
      "outputs": [
        {
          "output_type": "stream",
          "text": [
            " cs_cruise.png             de_santorini.png\n",
            "'data preprocessing.txt'   de_season.png\n",
            " de_cache.png              de_train.png\n",
            " de_cbble.png              de_tulip.png\n",
            " de_coast.png              \u001b[0m\u001b[01;34mdont_use\u001b[0m/\n",
            " de_dust2.png              esea_master_dmg_demos.part1.csv\n",
            " de_empire.png             esea_master_dmg_demos.part2.csv\n",
            " de_inferno.png            esea_master_grenades_demos.part1.csv\n",
            " de_mikla.png              esea_master_grenades_demos.part2.csv\n",
            " de_mirage.png             esea_master_kills_demos.part1.csv\n",
            " de_new_nuke.png           esea_master_kills_demos.part2.csv\n",
            " de_nuke.png               esea_meta_demos.part1.csv\n",
            " de_overpass.png           esea_meta_demos.part2.csv\n",
            " de_royal.png              map_data.csv\n"
          ],
          "name": "stdout"
        }
      ]
    },
    {
      "cell_type": "markdown",
      "metadata": {
        "id": "j5dDR1Ml2M_t"
      },
      "source": [
        "### only use the ESEA csv files, map data and the map pngs"
      ]
    },
    {
      "cell_type": "code",
      "metadata": {
        "id": "U70s8DQejz2P"
      },
      "source": [
        "esea_meta_demos1 = pd.read_csv('esea_meta_demos.part1.csv', index_col=0)\n",
        "esea_meta_demos2 = pd.read_csv('esea_meta_demos.part2.csv', index_col=0)"
      ],
      "execution_count": 23,
      "outputs": []
    },
    {
      "cell_type": "code",
      "metadata": {
        "id": "iAu8K8rQj8XJ",
        "outputId": "529cfd72-f18d-4516-d870-027cf36b686d",
        "colab": {
          "base_uri": "https://localhost:8080/",
          "height": 446
        }
      },
      "source": [
        "esea_meta_demos1"
      ],
      "execution_count": 24,
      "outputs": [
        {
          "output_type": "execute_result",
          "data": {
            "text/html": [
              "<div>\n",
              "<style scoped>\n",
              "    .dataframe tbody tr th:only-of-type {\n",
              "        vertical-align: middle;\n",
              "    }\n",
              "\n",
              "    .dataframe tbody tr th {\n",
              "        vertical-align: top;\n",
              "    }\n",
              "\n",
              "    .dataframe thead th {\n",
              "        text-align: right;\n",
              "    }\n",
              "</style>\n",
              "<table border=\"1\" class=\"dataframe\">\n",
              "  <thead>\n",
              "    <tr style=\"text-align: right;\">\n",
              "      <th></th>\n",
              "      <th>map</th>\n",
              "      <th>round</th>\n",
              "      <th>start_seconds</th>\n",
              "      <th>end_seconds</th>\n",
              "      <th>winner_team</th>\n",
              "      <th>winner_side</th>\n",
              "      <th>round_type</th>\n",
              "      <th>ct_eq_val</th>\n",
              "      <th>t_eq_val</th>\n",
              "    </tr>\n",
              "    <tr>\n",
              "      <th>file</th>\n",
              "      <th></th>\n",
              "      <th></th>\n",
              "      <th></th>\n",
              "      <th></th>\n",
              "      <th></th>\n",
              "      <th></th>\n",
              "      <th></th>\n",
              "      <th></th>\n",
              "      <th></th>\n",
              "    </tr>\n",
              "  </thead>\n",
              "  <tbody>\n",
              "    <tr>\n",
              "      <th>esea_match_13770997.dem</th>\n",
              "      <td>de_overpass</td>\n",
              "      <td>1</td>\n",
              "      <td>94.30782</td>\n",
              "      <td>160.9591</td>\n",
              "      <td>Hentai Hooligans</td>\n",
              "      <td>Terrorist</td>\n",
              "      <td>PISTOL_ROUND</td>\n",
              "      <td>4300</td>\n",
              "      <td>4250</td>\n",
              "    </tr>\n",
              "    <tr>\n",
              "      <th>esea_match_13770997.dem</th>\n",
              "      <td>de_overpass</td>\n",
              "      <td>2</td>\n",
              "      <td>160.95910</td>\n",
              "      <td>279.3998</td>\n",
              "      <td>Hentai Hooligans</td>\n",
              "      <td>Terrorist</td>\n",
              "      <td>ECO</td>\n",
              "      <td>6300</td>\n",
              "      <td>19400</td>\n",
              "    </tr>\n",
              "    <tr>\n",
              "      <th>esea_match_13770997.dem</th>\n",
              "      <td>de_overpass</td>\n",
              "      <td>3</td>\n",
              "      <td>279.39980</td>\n",
              "      <td>341.0084</td>\n",
              "      <td>Hentai Hooligans</td>\n",
              "      <td>Terrorist</td>\n",
              "      <td>SEMI_ECO</td>\n",
              "      <td>7650</td>\n",
              "      <td>19250</td>\n",
              "    </tr>\n",
              "    <tr>\n",
              "      <th>esea_match_13770997.dem</th>\n",
              "      <td>de_overpass</td>\n",
              "      <td>4</td>\n",
              "      <td>341.00840</td>\n",
              "      <td>435.4259</td>\n",
              "      <td>Hentai Hooligans</td>\n",
              "      <td>Terrorist</td>\n",
              "      <td>NORMAL</td>\n",
              "      <td>24900</td>\n",
              "      <td>23400</td>\n",
              "    </tr>\n",
              "    <tr>\n",
              "      <th>esea_match_13770997.dem</th>\n",
              "      <td>de_overpass</td>\n",
              "      <td>5</td>\n",
              "      <td>435.42590</td>\n",
              "      <td>484.2398</td>\n",
              "      <td>Animal Style</td>\n",
              "      <td>CounterTerrorist</td>\n",
              "      <td>ECO</td>\n",
              "      <td>5400</td>\n",
              "      <td>20550</td>\n",
              "    </tr>\n",
              "    <tr>\n",
              "      <th>...</th>\n",
              "      <td>...</td>\n",
              "      <td>...</td>\n",
              "      <td>...</td>\n",
              "      <td>...</td>\n",
              "      <td>...</td>\n",
              "      <td>...</td>\n",
              "      <td>...</td>\n",
              "      <td>...</td>\n",
              "      <td>...</td>\n",
              "    </tr>\n",
              "    <tr>\n",
              "      <th>esea_match_13793043.dem</th>\n",
              "      <td>de_cache</td>\n",
              "      <td>14</td>\n",
              "      <td>1062.96100</td>\n",
              "      <td>1129.0460</td>\n",
              "      <td>Team 2</td>\n",
              "      <td>Terrorist</td>\n",
              "      <td>NORMAL</td>\n",
              "      <td>28400</td>\n",
              "      <td>25800</td>\n",
              "    </tr>\n",
              "    <tr>\n",
              "      <th>esea_match_13793043.dem</th>\n",
              "      <td>de_cache</td>\n",
              "      <td>15</td>\n",
              "      <td>1129.04600</td>\n",
              "      <td>1185.9160</td>\n",
              "      <td>Team 1</td>\n",
              "      <td>CounterTerrorist</td>\n",
              "      <td>FORCE_BUY</td>\n",
              "      <td>13150</td>\n",
              "      <td>25550</td>\n",
              "    </tr>\n",
              "    <tr>\n",
              "      <th>esea_match_13793043.dem</th>\n",
              "      <td>de_cache</td>\n",
              "      <td>16</td>\n",
              "      <td>1221.13300</td>\n",
              "      <td>1288.4690</td>\n",
              "      <td>Team 2</td>\n",
              "      <td>CounterTerrorist</td>\n",
              "      <td>PISTOL_ROUND</td>\n",
              "      <td>4200</td>\n",
              "      <td>4250</td>\n",
              "    </tr>\n",
              "    <tr>\n",
              "      <th>esea_match_13793043.dem</th>\n",
              "      <td>de_cache</td>\n",
              "      <td>17</td>\n",
              "      <td>1288.46900</td>\n",
              "      <td>1342.4450</td>\n",
              "      <td>Team 2</td>\n",
              "      <td>CounterTerrorist</td>\n",
              "      <td>SEMI_ECO</td>\n",
              "      <td>18300</td>\n",
              "      <td>8200</td>\n",
              "    </tr>\n",
              "    <tr>\n",
              "      <th>esea_match_13793043.dem</th>\n",
              "      <td>de_cache</td>\n",
              "      <td>18</td>\n",
              "      <td>1342.44500</td>\n",
              "      <td>1412.6290</td>\n",
              "      <td>Team 2</td>\n",
              "      <td>CounterTerrorist</td>\n",
              "      <td>SEMI_ECO</td>\n",
              "      <td>24400</td>\n",
              "      <td>9950</td>\n",
              "    </tr>\n",
              "  </tbody>\n",
              "</table>\n",
              "<p>215919 rows × 9 columns</p>\n",
              "</div>"
            ],
            "text/plain": [
              "                                 map  round  ...  ct_eq_val  t_eq_val\n",
              "file                                         ...                     \n",
              "esea_match_13770997.dem  de_overpass      1  ...       4300      4250\n",
              "esea_match_13770997.dem  de_overpass      2  ...       6300     19400\n",
              "esea_match_13770997.dem  de_overpass      3  ...       7650     19250\n",
              "esea_match_13770997.dem  de_overpass      4  ...      24900     23400\n",
              "esea_match_13770997.dem  de_overpass      5  ...       5400     20550\n",
              "...                              ...    ...  ...        ...       ...\n",
              "esea_match_13793043.dem     de_cache     14  ...      28400     25800\n",
              "esea_match_13793043.dem     de_cache     15  ...      13150     25550\n",
              "esea_match_13793043.dem     de_cache     16  ...       4200      4250\n",
              "esea_match_13793043.dem     de_cache     17  ...      18300      8200\n",
              "esea_match_13793043.dem     de_cache     18  ...      24400      9950\n",
              "\n",
              "[215919 rows x 9 columns]"
            ]
          },
          "metadata": {
            "tags": []
          },
          "execution_count": 24
        }
      ]
    },
    {
      "cell_type": "code",
      "metadata": {
        "id": "fue76WJqxtMm",
        "outputId": "90e730e1-b5a8-4856-93f3-529f9a0345e7",
        "colab": {
          "base_uri": "https://localhost:8080/"
        }
      },
      "source": [
        "print('test')"
      ],
      "execution_count": 22,
      "outputs": [
        {
          "output_type": "stream",
          "text": [
            "test\n"
          ],
          "name": "stdout"
        }
      ]
    },
    {
      "cell_type": "code",
      "metadata": {
        "id": "io5a1d4TxuY-"
      },
      "source": [
        ""
      ],
      "execution_count": 22,
      "outputs": []
    }
  ]
}