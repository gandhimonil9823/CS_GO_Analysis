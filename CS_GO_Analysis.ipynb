{
  "nbformat": 4,
  "nbformat_minor": 0,
  "metadata": {
    "colab": {
      "name": "CS_GO_Analysis.ipynb",
      "provenance": [],
      "collapsed_sections": [],
      "include_colab_link": true
    },
    "kernelspec": {
      "name": "python3",
      "display_name": "Python 3"
    }
  },
  "cells": [
    {
      "cell_type": "markdown",
      "metadata": {
        "id": "view-in-github",
        "colab_type": "text"
      },
      "source": [
        "<a href=\"https://colab.research.google.com/github/gandhimonil9823/CS_GO_Analysis/blob/main/CS_GO_Analysis.ipynb\" target=\"_parent\"><img src=\"https://colab.research.google.com/assets/colab-badge.svg\" alt=\"Open In Colab\"/></a>"
      ]
    },
    {
      "cell_type": "code",
      "metadata": {
        "id": "XwCtK_5ZitDV"
      },
      "source": [
        "import pandas as pd\n",
        "import os"
      ],
      "execution_count": 3,
      "outputs": []
    },
    {
      "cell_type": "code",
      "metadata": {
        "id": "PWUAYaEVisXp",
        "outputId": "2ac78404-795d-4f80-f82c-211f29a8cb1f",
        "colab": {
          "base_uri": "https://localhost:8080/"
        }
      },
      "source": [
        "from google.colab import drive\n",
        "drive.mount('/content/drive')\n",
        "#drive.mount(r'drive/folders/0AAxMXLC9WPNxUk9PVA')\n"
      ],
      "execution_count": 4,
      "outputs": [
        {
          "output_type": "stream",
          "text": [
            "Drive already mounted at /content/drive; to attempt to forcibly remount, call drive.mount(\"/content/drive\", force_remount=True).\n"
          ],
          "name": "stdout"
        }
      ]
    },
    {
      "cell_type": "code",
      "metadata": {
        "id": "xXrHTfR4nvZg",
        "outputId": "32ab7ec9-0a15-4a7b-cbc5-5a32186fe09e",
        "colab": {
          "base_uri": "https://localhost:8080/"
        }
      },
      "source": [
        "cd 'drive/Shared drives/CS_GO_Data/processed_data'"
      ],
      "execution_count": 5,
      "outputs": [
        {
          "output_type": "stream",
          "text": [
            "/content/drive/Shared drives/CS_GO_Data/processed_data\n"
          ],
          "name": "stdout"
        }
      ]
    },
    {
      "cell_type": "code",
      "metadata": {
        "id": "UlbwqAo_oHuQ",
        "outputId": "c29c2e25-a58e-46bb-f6f6-8964a4cf8b7a",
        "colab": {
          "base_uri": "https://localhost:8080/"
        }
      },
      "source": [
        "ls"
      ],
      "execution_count": 6,
      "outputs": [
        {
          "output_type": "stream",
          "text": [
            "filtered_master_dmg_demos.csv       filtered_master_kills_demos.csv\n",
            "filtered_master_grenades_demos.csv  filtered_meta_demos.csv\n"
          ],
          "name": "stdout"
        }
      ]
    },
    {
      "cell_type": "code",
      "metadata": {
        "id": "k8pfMLk14TQc"
      },
      "source": [
        "# Function to combine the dataframes and return a single dataframe\n",
        "def combine_dataframes(df1,df2):\n",
        "  df_to_return = df1.append(df2)\n",
        "  df_to_return = df_to_return.reset_index(drop=True)\n",
        "  return df_to_return"
      ],
      "execution_count": 7,
      "outputs": []
    },
    {
      "cell_type": "markdown",
      "metadata": {
        "id": "j5dDR1Ml2M_t"
      },
      "source": [
        "# Code for Preprocessing the esea_meta_demos dataset"
      ]
    },
    {
      "cell_type": "code",
      "metadata": {
        "id": "U70s8DQejz2P"
      },
      "source": [
        "def load_esea_meta_demos():\n",
        "  df_esea_meta_demos = pd.read_csv(\"filtered_meta_demos.csv\", index_col=[0])\n",
        "  df_esea_meta_demos = df_esea_meta_demos.reset_index(drop=True)\n",
        "  return df_esea_meta_demos\n",
        "\n",
        "# Function to preprocess the combined esea_meta_demos dataset\n",
        "def preprocess_esea_meta_demos():\n",
        "  \n",
        "  # load the esea_meta_demos_filtered file\n",
        "  df_esea_meta_demos = load_esea_meta_demos()\n",
        "\n",
        "  return df_esea_meta_demos"
      ],
      "execution_count": 8,
      "outputs": []
    },
    {
      "cell_type": "code",
      "metadata": {
        "id": "5Xr-pWedJpMf",
        "outputId": "92cf230b-9e53-4c49-d560-c35876a870f0",
        "colab": {
          "base_uri": "https://localhost:8080/",
          "height": 204
        }
      },
      "source": [
        "# function call to load and preprocess the esea_meta_demos\n",
        "df_esea_meta_demos = preprocess_esea_meta_demos()\n",
        "\n",
        "df_esea_meta_demos.head()"
      ],
      "execution_count": 9,
      "outputs": [
        {
          "output_type": "execute_result",
          "data": {
            "text/html": [
              "<div>\n",
              "<style scoped>\n",
              "    .dataframe tbody tr th:only-of-type {\n",
              "        vertical-align: middle;\n",
              "    }\n",
              "\n",
              "    .dataframe tbody tr th {\n",
              "        vertical-align: top;\n",
              "    }\n",
              "\n",
              "    .dataframe thead th {\n",
              "        text-align: right;\n",
              "    }\n",
              "</style>\n",
              "<table border=\"1\" class=\"dataframe\">\n",
              "  <thead>\n",
              "    <tr style=\"text-align: right;\">\n",
              "      <th></th>\n",
              "      <th>file</th>\n",
              "      <th>map</th>\n",
              "      <th>round</th>\n",
              "      <th>start_seconds</th>\n",
              "      <th>end_seconds</th>\n",
              "      <th>winner_team</th>\n",
              "      <th>winner_side</th>\n",
              "      <th>round_type</th>\n",
              "      <th>ct_eq_val</th>\n",
              "      <th>t_eq_val</th>\n",
              "    </tr>\n",
              "  </thead>\n",
              "  <tbody>\n",
              "    <tr>\n",
              "      <th>0</th>\n",
              "      <td>esea_match_13770997.dem</td>\n",
              "      <td>de_overpass</td>\n",
              "      <td>1</td>\n",
              "      <td>94.30782</td>\n",
              "      <td>160.9591</td>\n",
              "      <td>Hentai Hooligans</td>\n",
              "      <td>Terrorist</td>\n",
              "      <td>PISTOL_ROUND</td>\n",
              "      <td>4300</td>\n",
              "      <td>4250</td>\n",
              "    </tr>\n",
              "    <tr>\n",
              "      <th>1</th>\n",
              "      <td>esea_match_13770997.dem</td>\n",
              "      <td>de_overpass</td>\n",
              "      <td>2</td>\n",
              "      <td>160.95910</td>\n",
              "      <td>279.3998</td>\n",
              "      <td>Hentai Hooligans</td>\n",
              "      <td>Terrorist</td>\n",
              "      <td>ECO</td>\n",
              "      <td>6300</td>\n",
              "      <td>19400</td>\n",
              "    </tr>\n",
              "    <tr>\n",
              "      <th>2</th>\n",
              "      <td>esea_match_13770997.dem</td>\n",
              "      <td>de_overpass</td>\n",
              "      <td>3</td>\n",
              "      <td>279.39980</td>\n",
              "      <td>341.0084</td>\n",
              "      <td>Hentai Hooligans</td>\n",
              "      <td>Terrorist</td>\n",
              "      <td>SEMI_ECO</td>\n",
              "      <td>7650</td>\n",
              "      <td>19250</td>\n",
              "    </tr>\n",
              "    <tr>\n",
              "      <th>3</th>\n",
              "      <td>esea_match_13770997.dem</td>\n",
              "      <td>de_overpass</td>\n",
              "      <td>4</td>\n",
              "      <td>341.00840</td>\n",
              "      <td>435.4259</td>\n",
              "      <td>Hentai Hooligans</td>\n",
              "      <td>Terrorist</td>\n",
              "      <td>NORMAL</td>\n",
              "      <td>24900</td>\n",
              "      <td>23400</td>\n",
              "    </tr>\n",
              "    <tr>\n",
              "      <th>4</th>\n",
              "      <td>esea_match_13770997.dem</td>\n",
              "      <td>de_overpass</td>\n",
              "      <td>5</td>\n",
              "      <td>435.42590</td>\n",
              "      <td>484.2398</td>\n",
              "      <td>Animal Style</td>\n",
              "      <td>CounterTerrorist</td>\n",
              "      <td>ECO</td>\n",
              "      <td>5400</td>\n",
              "      <td>20550</td>\n",
              "    </tr>\n",
              "  </tbody>\n",
              "</table>\n",
              "</div>"
            ],
            "text/plain": [
              "                      file          map  ...  ct_eq_val  t_eq_val\n",
              "0  esea_match_13770997.dem  de_overpass  ...       4300      4250\n",
              "1  esea_match_13770997.dem  de_overpass  ...       6300     19400\n",
              "2  esea_match_13770997.dem  de_overpass  ...       7650     19250\n",
              "3  esea_match_13770997.dem  de_overpass  ...      24900     23400\n",
              "4  esea_match_13770997.dem  de_overpass  ...       5400     20550\n",
              "\n",
              "[5 rows x 10 columns]"
            ]
          },
          "metadata": {
            "tags": []
          },
          "execution_count": 9
        }
      ]
    },
    {
      "cell_type": "markdown",
      "metadata": {
        "id": "8BLxCH2jJ9U4"
      },
      "source": [
        "# Code for Preprocessing the esea_master_dmg_demos dataset"
      ]
    },
    {
      "cell_type": "code",
      "metadata": {
        "id": "uKvw-u7HKXqe"
      },
      "source": [
        "def load_esea_master_dmg_demos():\n",
        "  df_esea_master_dmg_demos = pd.read_csv(\"filtered_master_dmg_demos.csv\")\n",
        "  df_esea_master_dmg_demos.drop('Unnamed: 0', axis=1, inplace=True)\n",
        "  df_esea_master_dmg_demos = df_esea_master_dmg_demos.reset_index(drop=True)\n",
        "  return df_esea_master_dmg_demos\n",
        "\n",
        "def delete_world_damage(df_esea_master_dmg_demos):\n",
        "  df_esea_master_dmg_demos_cleanedup = df_esea_master_dmg_demos[df_esea_master_dmg_demos.att_side != 'None']\n",
        "  df_esea_master_dmg_demos_cleanedup = df_esea_master_dmg_demos_cleanedup[df_esea_master_dmg_demos_cleanedup.att_side != df_esea_master_dmg_demos_cleanedup.vic_side]\n",
        "  df_esea_master_dmg_demos_cleanedup = df_esea_master_dmg_demos_cleanedup.reset_index(drop=True)\n",
        "  return df_esea_master_dmg_demos_cleanedup\n",
        "\n",
        "# Function to preprocess the combined esea_meta_demos dataset\n",
        "def preprocess_esea_master_dmg_demos():\n",
        "\n",
        "  # load the esea_meta_demos_filtered file\n",
        "  df_esea_master_dmg_demos = load_esea_master_dmg_demos()\n",
        "\n",
        "  #delete world damage (non player damage sustained)\n",
        "  df_esea_master_dmg_demos = delete_world_damage(df_esea_master_dmg_demos)\n",
        "\n",
        "  return df_esea_master_dmg_demos"
      ],
      "execution_count": 16,
      "outputs": []
    },
    {
      "cell_type": "code",
      "metadata": {
        "id": "dsDdnreTLuKY",
        "outputId": "b119ac81-3d9b-469f-bd00-362c1752a4dc",
        "colab": {
          "base_uri": "https://localhost:8080/",
          "height": 309
        }
      },
      "source": [
        "df_esea_master_dmg_demos = preprocess_esea_master_dmg_demos()\n",
        "\n",
        "df_esea_master_dmg_demos.head()"
      ],
      "execution_count": 17,
      "outputs": [
        {
          "output_type": "execute_result",
          "data": {
            "text/html": [
              "<div>\n",
              "<style scoped>\n",
              "    .dataframe tbody tr th:only-of-type {\n",
              "        vertical-align: middle;\n",
              "    }\n",
              "\n",
              "    .dataframe tbody tr th {\n",
              "        vertical-align: top;\n",
              "    }\n",
              "\n",
              "    .dataframe thead th {\n",
              "        text-align: right;\n",
              "    }\n",
              "</style>\n",
              "<table border=\"1\" class=\"dataframe\">\n",
              "  <thead>\n",
              "    <tr style=\"text-align: right;\">\n",
              "      <th></th>\n",
              "      <th>file</th>\n",
              "      <th>round</th>\n",
              "      <th>tick</th>\n",
              "      <th>seconds</th>\n",
              "      <th>att_team</th>\n",
              "      <th>vic_team</th>\n",
              "      <th>att_side</th>\n",
              "      <th>vic_side</th>\n",
              "      <th>hp_dmg</th>\n",
              "      <th>arm_dmg</th>\n",
              "      <th>is_bomb_planted</th>\n",
              "      <th>bomb_site</th>\n",
              "      <th>hitbox</th>\n",
              "      <th>wp</th>\n",
              "      <th>wp_type</th>\n",
              "      <th>att_id</th>\n",
              "      <th>att_rank</th>\n",
              "      <th>vic_id</th>\n",
              "      <th>vic_rank</th>\n",
              "      <th>att_pos_x</th>\n",
              "      <th>att_pos_y</th>\n",
              "      <th>vic_pos_x</th>\n",
              "      <th>vic_pos_y</th>\n",
              "    </tr>\n",
              "  </thead>\n",
              "  <tbody>\n",
              "    <tr>\n",
              "      <th>0</th>\n",
              "      <td>esea_match_13770997.dem</td>\n",
              "      <td>1</td>\n",
              "      <td>15972</td>\n",
              "      <td>124.3761</td>\n",
              "      <td>Animal Style</td>\n",
              "      <td>Hentai Hooligans</td>\n",
              "      <td>CounterTerrorist</td>\n",
              "      <td>Terrorist</td>\n",
              "      <td>18</td>\n",
              "      <td>9</td>\n",
              "      <td>False</td>\n",
              "      <td>NaN</td>\n",
              "      <td>Stomach</td>\n",
              "      <td>USP</td>\n",
              "      <td>Pistol</td>\n",
              "      <td>76561198048742997</td>\n",
              "      <td>0</td>\n",
              "      <td>76561198082200410</td>\n",
              "      <td>0</td>\n",
              "      <td>-1499.6900</td>\n",
              "      <td>63.33829</td>\n",
              "      <td>-669.5558</td>\n",
              "      <td>-79.769570</td>\n",
              "    </tr>\n",
              "    <tr>\n",
              "      <th>1</th>\n",
              "      <td>esea_match_13770997.dem</td>\n",
              "      <td>1</td>\n",
              "      <td>16058</td>\n",
              "      <td>125.0495</td>\n",
              "      <td>Animal Style</td>\n",
              "      <td>Hentai Hooligans</td>\n",
              "      <td>CounterTerrorist</td>\n",
              "      <td>Terrorist</td>\n",
              "      <td>100</td>\n",
              "      <td>0</td>\n",
              "      <td>False</td>\n",
              "      <td>NaN</td>\n",
              "      <td>Head</td>\n",
              "      <td>USP</td>\n",
              "      <td>Pistol</td>\n",
              "      <td>76561198055054795</td>\n",
              "      <td>0</td>\n",
              "      <td>76561197961009213</td>\n",
              "      <td>0</td>\n",
              "      <td>-1066.8740</td>\n",
              "      <td>3.44563</td>\n",
              "      <td>-614.1868</td>\n",
              "      <td>-91.707770</td>\n",
              "    </tr>\n",
              "    <tr>\n",
              "      <th>2</th>\n",
              "      <td>esea_match_13770997.dem</td>\n",
              "      <td>1</td>\n",
              "      <td>16066</td>\n",
              "      <td>125.1121</td>\n",
              "      <td>Hentai Hooligans</td>\n",
              "      <td>Animal Style</td>\n",
              "      <td>Terrorist</td>\n",
              "      <td>CounterTerrorist</td>\n",
              "      <td>12</td>\n",
              "      <td>7</td>\n",
              "      <td>False</td>\n",
              "      <td>NaN</td>\n",
              "      <td>RightArm</td>\n",
              "      <td>Glock</td>\n",
              "      <td>Pistol</td>\n",
              "      <td>76561198082200410</td>\n",
              "      <td>0</td>\n",
              "      <td>76561198055054795</td>\n",
              "      <td>0</td>\n",
              "      <td>-747.3146</td>\n",
              "      <td>-49.32681</td>\n",
              "      <td>-1065.5560</td>\n",
              "      <td>9.381622</td>\n",
              "    </tr>\n",
              "    <tr>\n",
              "      <th>3</th>\n",
              "      <td>esea_match_13770997.dem</td>\n",
              "      <td>1</td>\n",
              "      <td>16108</td>\n",
              "      <td>125.4410</td>\n",
              "      <td>Animal Style</td>\n",
              "      <td>Hentai Hooligans</td>\n",
              "      <td>CounterTerrorist</td>\n",
              "      <td>Terrorist</td>\n",
              "      <td>15</td>\n",
              "      <td>7</td>\n",
              "      <td>False</td>\n",
              "      <td>NaN</td>\n",
              "      <td>Chest</td>\n",
              "      <td>USP</td>\n",
              "      <td>Pistol</td>\n",
              "      <td>76561198048742997</td>\n",
              "      <td>0</td>\n",
              "      <td>76561198082200410</td>\n",
              "      <td>0</td>\n",
              "      <td>-1501.8610</td>\n",
              "      <td>49.19798</td>\n",
              "      <td>-748.4188</td>\n",
              "      <td>-53.469220</td>\n",
              "    </tr>\n",
              "    <tr>\n",
              "      <th>4</th>\n",
              "      <td>esea_match_13770997.dem</td>\n",
              "      <td>1</td>\n",
              "      <td>16188</td>\n",
              "      <td>126.0674</td>\n",
              "      <td>Hentai Hooligans</td>\n",
              "      <td>Animal Style</td>\n",
              "      <td>Terrorist</td>\n",
              "      <td>CounterTerrorist</td>\n",
              "      <td>94</td>\n",
              "      <td>0</td>\n",
              "      <td>False</td>\n",
              "      <td>NaN</td>\n",
              "      <td>Head</td>\n",
              "      <td>Glock</td>\n",
              "      <td>Pistol</td>\n",
              "      <td>76561198082200410</td>\n",
              "      <td>0</td>\n",
              "      <td>76561198048742997</td>\n",
              "      <td>0</td>\n",
              "      <td>-756.2186</td>\n",
              "      <td>-80.94859</td>\n",
              "      <td>-1500.0780</td>\n",
              "      <td>60.658150</td>\n",
              "    </tr>\n",
              "  </tbody>\n",
              "</table>\n",
              "</div>"
            ],
            "text/plain": [
              "                      file  round   tick  ...  att_pos_y  vic_pos_x  vic_pos_y\n",
              "0  esea_match_13770997.dem      1  15972  ...   63.33829  -669.5558 -79.769570\n",
              "1  esea_match_13770997.dem      1  16058  ...    3.44563  -614.1868 -91.707770\n",
              "2  esea_match_13770997.dem      1  16066  ...  -49.32681 -1065.5560   9.381622\n",
              "3  esea_match_13770997.dem      1  16108  ...   49.19798  -748.4188 -53.469220\n",
              "4  esea_match_13770997.dem      1  16188  ...  -80.94859 -1500.0780  60.658150\n",
              "\n",
              "[5 rows x 23 columns]"
            ]
          },
          "metadata": {
            "tags": []
          },
          "execution_count": 17
        }
      ]
    }
  ]
}