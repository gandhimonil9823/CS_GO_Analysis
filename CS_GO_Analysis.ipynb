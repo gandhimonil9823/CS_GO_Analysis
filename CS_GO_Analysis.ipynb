{
  "nbformat": 4,
  "nbformat_minor": 0,
  "metadata": {
    "colab": {
      "name": "CS_GO_Analysis.ipynb",
      "provenance": [],
      "collapsed_sections": [],
      "include_colab_link": true
    },
    "kernelspec": {
      "name": "python3",
      "display_name": "Python 3"
    }
  },
  "cells": [
    {
      "cell_type": "markdown",
      "metadata": {
        "id": "view-in-github",
        "colab_type": "text"
      },
      "source": [
        "<a href=\"https://colab.research.google.com/github/gandhimonil9823/CS_GO_Analysis/blob/main/CS_GO_Analysis.ipynb\" target=\"_parent\"><img src=\"https://colab.research.google.com/assets/colab-badge.svg\" alt=\"Open In Colab\"/></a>"
      ]
    },
    {
      "cell_type": "code",
      "metadata": {
        "id": "XwCtK_5ZitDV"
      },
      "source": [
        "import pandas as pd"
      ],
      "execution_count": null,
      "outputs": []
    },
    {
      "cell_type": "code",
      "metadata": {
        "id": "U70s8DQejz2P"
      },
      "source": [
        "test_df = pd.read_csv('map_data.csv', index_col=0).reset_index(drop=True)"
      ],
      "execution_count": null,
      "outputs": []
    },
    {
      "cell_type": "code",
      "metadata": {
        "id": "iAu8K8rQj8XJ",
        "outputId": "f8f3f3ca-0073-4451-a599-f68098b066d9",
        "colab": {
          "base_uri": "https://localhost:8080/",
          "height": 263
        }
      },
      "source": [
        "test_df"
      ],
      "execution_count": null,
      "outputs": [
        {
          "output_type": "execute_result",
          "data": {
            "text/html": [
              "<div>\n",
              "<style scoped>\n",
              "    .dataframe tbody tr th:only-of-type {\n",
              "        vertical-align: middle;\n",
              "    }\n",
              "\n",
              "    .dataframe tbody tr th {\n",
              "        vertical-align: top;\n",
              "    }\n",
              "\n",
              "    .dataframe thead th {\n",
              "        text-align: right;\n",
              "    }\n",
              "</style>\n",
              "<table border=\"1\" class=\"dataframe\">\n",
              "  <thead>\n",
              "    <tr style=\"text-align: right;\">\n",
              "      <th></th>\n",
              "      <th>EndX</th>\n",
              "      <th>EndY</th>\n",
              "      <th>ResX</th>\n",
              "      <th>ResY</th>\n",
              "      <th>StartX</th>\n",
              "      <th>StartY</th>\n",
              "    </tr>\n",
              "  </thead>\n",
              "  <tbody>\n",
              "    <tr>\n",
              "      <th>0</th>\n",
              "      <td>3752</td>\n",
              "      <td>3187</td>\n",
              "      <td>1024</td>\n",
              "      <td>1024</td>\n",
              "      <td>-2031</td>\n",
              "      <td>-2240</td>\n",
              "    </tr>\n",
              "    <tr>\n",
              "      <th>1</th>\n",
              "      <td>2282</td>\n",
              "      <td>3032</td>\n",
              "      <td>1024</td>\n",
              "      <td>1024</td>\n",
              "      <td>-3819</td>\n",
              "      <td>-3073</td>\n",
              "    </tr>\n",
              "    <tr>\n",
              "      <th>2</th>\n",
              "      <td>2127</td>\n",
              "      <td>3455</td>\n",
              "      <td>1024</td>\n",
              "      <td>1024</td>\n",
              "      <td>-2486</td>\n",
              "      <td>-1150</td>\n",
              "    </tr>\n",
              "    <tr>\n",
              "      <th>3</th>\n",
              "      <td>2797</td>\n",
              "      <td>3800</td>\n",
              "      <td>1024</td>\n",
              "      <td>1024</td>\n",
              "      <td>-1960</td>\n",
              "      <td>-1062</td>\n",
              "    </tr>\n",
              "    <tr>\n",
              "      <th>4</th>\n",
              "      <td>1912</td>\n",
              "      <td>1682</td>\n",
              "      <td>1024</td>\n",
              "      <td>1024</td>\n",
              "      <td>-3217</td>\n",
              "      <td>-3401</td>\n",
              "    </tr>\n",
              "    <tr>\n",
              "      <th>5</th>\n",
              "      <td>503</td>\n",
              "      <td>1740</td>\n",
              "      <td>1024</td>\n",
              "      <td>1024</td>\n",
              "      <td>-4820</td>\n",
              "      <td>-3591</td>\n",
              "    </tr>\n",
              "    <tr>\n",
              "      <th>6</th>\n",
              "      <td>2262</td>\n",
              "      <td>2447</td>\n",
              "      <td>1024</td>\n",
              "      <td>1024</td>\n",
              "      <td>-2436</td>\n",
              "      <td>-2469</td>\n",
              "    </tr>\n",
              "  </tbody>\n",
              "</table>\n",
              "</div>"
            ],
            "text/plain": [
              "   EndX  EndY  ResX  ResY  StartX  StartY\n",
              "0  3752  3187  1024  1024   -2031   -2240\n",
              "1  2282  3032  1024  1024   -3819   -3073\n",
              "2  2127  3455  1024  1024   -2486   -1150\n",
              "3  2797  3800  1024  1024   -1960   -1062\n",
              "4  1912  1682  1024  1024   -3217   -3401\n",
              "5   503  1740  1024  1024   -4820   -3591\n",
              "6  2262  2447  1024  1024   -2436   -2469"
            ]
          },
          "metadata": {
            "tags": []
          },
          "execution_count": 3
        }
      ]
    },
    {
      "cell_type": "code",
      "metadata": {
        "id": "Nr9DuviDj9QD"
      },
      "source": [
        ""
      ],
      "execution_count": null,
      "outputs": []
    }
  ]
}