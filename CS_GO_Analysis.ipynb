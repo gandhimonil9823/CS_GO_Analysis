{
  "nbformat": 4,
  "nbformat_minor": 0,
  "metadata": {
    "colab": {
      "name": "CS_GO_Analysis.ipynb",
      "provenance": [],
      "collapsed_sections": [],
      "toc_visible": true,
      "include_colab_link": true
    },
    "kernelspec": {
      "name": "python3",
      "display_name": "Python 3"
    }
  },
  "cells": [
    {
      "cell_type": "markdown",
      "metadata": {
        "id": "view-in-github",
        "colab_type": "text"
      },
      "source": [
        "<a href=\"https://colab.research.google.com/github/gandhimonil9823/CS_GO_Analysis/blob/main/CS_GO_Analysis.ipynb\" target=\"_parent\"><img src=\"https://colab.research.google.com/assets/colab-badge.svg\" alt=\"Open In Colab\"/></a>"
      ]
    },
    {
      "cell_type": "code",
      "metadata": {
        "id": "XwCtK_5ZitDV"
      },
      "source": [
        "import pandas as pd\n",
        "import os"
      ],
      "execution_count": null,
      "outputs": []
    },
    {
      "cell_type": "code",
      "metadata": {
        "id": "PWUAYaEVisXp",
        "outputId": "3a51901c-8340-49e6-a59e-141c479b8cc8",
        "colab": {
          "base_uri": "https://localhost:8080/"
        }
      },
      "source": [
        "from google.colab import drive\n",
        "drive.mount('/content/drive')\n",
        "#drive.mount(r'drive/folders/0AAxMXLC9WPNxUk9PVA')\n"
      ],
      "execution_count": null,
      "outputs": [
        {
          "output_type": "stream",
          "text": [
            "Drive already mounted at /content/drive; to attempt to forcibly remount, call drive.mount(\"/content/drive\", force_remount=True).\n"
          ],
          "name": "stdout"
        }
      ]
    },
    {
      "cell_type": "code",
      "metadata": {
        "id": "xXrHTfR4nvZg",
        "outputId": "f4ad9f38-6a94-4f23-f15a-7aaf23e236d8",
        "colab": {
          "base_uri": "https://localhost:8080/"
        }
      },
      "source": [
        "cd 'drive/Shared drives/CS_GO_Data'"
      ],
      "execution_count": null,
      "outputs": [
        {
          "output_type": "stream",
          "text": [
            "[Errno 2] No such file or directory: 'drive/Shared drives/CS_GO_Data'\n",
            "/content/drive/Shared drives/CS_GO_Data\n"
          ],
          "name": "stdout"
        }
      ]
    },
    {
      "cell_type": "code",
      "metadata": {
        "id": "UlbwqAo_oHuQ",
        "outputId": "cf96e095-adc5-41fb-c871-220987a31b8b",
        "colab": {
          "base_uri": "https://localhost:8080/"
        }
      },
      "source": [
        "ls"
      ],
      "execution_count": null,
      "outputs": [
        {
          "output_type": "stream",
          "text": [
            " cs_cruise.png             de_santorini.png\n",
            "'data preprocessing.txt'   de_season.png\n",
            " de_cache.png              de_train.png\n",
            " de_cbble.png              de_tulip.png\n",
            " de_coast.png              esea_master_dmg_demos.part1.csv\n",
            " de_dust2.png              esea_master_grenades_demos.part1.csv\n",
            " de_empire.png             esea_master_grenades_demos.part2.csv\n",
            " de_inferno.png            esea_master_kills_demos.part1.csv\n",
            " de_mikla.png              esea_master_kills_demos.part2.csv\n",
            " de_mirage.png             esea_meta_demos.part1.csv\n",
            " de_new_nuke.png           esea_meta_demos.part2.csv\n",
            " de_nuke.png               map_data.csv\n",
            " de_overpass.png           mm_master_demos.csv\n",
            " de_royal.png\n"
          ],
          "name": "stdout"
        }
      ]
    },
    {
      "cell_type": "code",
      "metadata": {
        "id": "U70s8DQejz2P"
      },
      "source": [
        "esea_meta_demos = pd.read_csv('esea_meta_demos.part1.csv', index_col=0).reset_index(drop=True)"
      ],
      "execution_count": null,
      "outputs": []
    },
    {
      "cell_type": "code",
      "metadata": {
        "id": "iAu8K8rQj8XJ",
        "outputId": "1e3f4d90-813f-4e5e-b420-f2af569da0f8",
        "colab": {
          "base_uri": "https://localhost:8080/",
          "height": 507
        }
      },
      "source": [
        "esea_meta_demos"
      ],
      "execution_count": null,
      "outputs": [
        {
          "output_type": "execute_result",
          "data": {
            "text/html": [
              "<div>\n",
              "<style scoped>\n",
              "    .dataframe tbody tr th:only-of-type {\n",
              "        vertical-align: middle;\n",
              "    }\n",
              "\n",
              "    .dataframe tbody tr th {\n",
              "        vertical-align: top;\n",
              "    }\n",
              "\n",
              "    .dataframe thead th {\n",
              "        text-align: right;\n",
              "    }\n",
              "</style>\n",
              "<table border=\"1\" class=\"dataframe\">\n",
              "  <thead>\n",
              "    <tr style=\"text-align: right;\">\n",
              "      <th></th>\n",
              "      <th>map</th>\n",
              "      <th>round</th>\n",
              "      <th>start_seconds</th>\n",
              "      <th>end_seconds</th>\n",
              "      <th>winner_team</th>\n",
              "      <th>winner_side</th>\n",
              "      <th>round_type</th>\n",
              "      <th>ct_eq_val</th>\n",
              "      <th>t_eq_val</th>\n",
              "    </tr>\n",
              "  </thead>\n",
              "  <tbody>\n",
              "    <tr>\n",
              "      <th>0</th>\n",
              "      <td>de_overpass</td>\n",
              "      <td>1</td>\n",
              "      <td>94.30782</td>\n",
              "      <td>160.9591</td>\n",
              "      <td>Hentai Hooligans</td>\n",
              "      <td>Terrorist</td>\n",
              "      <td>PISTOL_ROUND</td>\n",
              "      <td>4300</td>\n",
              "      <td>4250</td>\n",
              "    </tr>\n",
              "    <tr>\n",
              "      <th>1</th>\n",
              "      <td>de_overpass</td>\n",
              "      <td>2</td>\n",
              "      <td>160.95910</td>\n",
              "      <td>279.3998</td>\n",
              "      <td>Hentai Hooligans</td>\n",
              "      <td>Terrorist</td>\n",
              "      <td>ECO</td>\n",
              "      <td>6300</td>\n",
              "      <td>19400</td>\n",
              "    </tr>\n",
              "    <tr>\n",
              "      <th>2</th>\n",
              "      <td>de_overpass</td>\n",
              "      <td>3</td>\n",
              "      <td>279.39980</td>\n",
              "      <td>341.0084</td>\n",
              "      <td>Hentai Hooligans</td>\n",
              "      <td>Terrorist</td>\n",
              "      <td>SEMI_ECO</td>\n",
              "      <td>7650</td>\n",
              "      <td>19250</td>\n",
              "    </tr>\n",
              "    <tr>\n",
              "      <th>3</th>\n",
              "      <td>de_overpass</td>\n",
              "      <td>4</td>\n",
              "      <td>341.00840</td>\n",
              "      <td>435.4259</td>\n",
              "      <td>Hentai Hooligans</td>\n",
              "      <td>Terrorist</td>\n",
              "      <td>NORMAL</td>\n",
              "      <td>24900</td>\n",
              "      <td>23400</td>\n",
              "    </tr>\n",
              "    <tr>\n",
              "      <th>4</th>\n",
              "      <td>de_overpass</td>\n",
              "      <td>5</td>\n",
              "      <td>435.42590</td>\n",
              "      <td>484.2398</td>\n",
              "      <td>Animal Style</td>\n",
              "      <td>CounterTerrorist</td>\n",
              "      <td>ECO</td>\n",
              "      <td>5400</td>\n",
              "      <td>20550</td>\n",
              "    </tr>\n",
              "    <tr>\n",
              "      <th>...</th>\n",
              "      <td>...</td>\n",
              "      <td>...</td>\n",
              "      <td>...</td>\n",
              "      <td>...</td>\n",
              "      <td>...</td>\n",
              "      <td>...</td>\n",
              "      <td>...</td>\n",
              "      <td>...</td>\n",
              "      <td>...</td>\n",
              "    </tr>\n",
              "    <tr>\n",
              "      <th>215914</th>\n",
              "      <td>de_cache</td>\n",
              "      <td>14</td>\n",
              "      <td>1062.96100</td>\n",
              "      <td>1129.0460</td>\n",
              "      <td>Team 2</td>\n",
              "      <td>Terrorist</td>\n",
              "      <td>NORMAL</td>\n",
              "      <td>28400</td>\n",
              "      <td>25800</td>\n",
              "    </tr>\n",
              "    <tr>\n",
              "      <th>215915</th>\n",
              "      <td>de_cache</td>\n",
              "      <td>15</td>\n",
              "      <td>1129.04600</td>\n",
              "      <td>1185.9160</td>\n",
              "      <td>Team 1</td>\n",
              "      <td>CounterTerrorist</td>\n",
              "      <td>FORCE_BUY</td>\n",
              "      <td>13150</td>\n",
              "      <td>25550</td>\n",
              "    </tr>\n",
              "    <tr>\n",
              "      <th>215916</th>\n",
              "      <td>de_cache</td>\n",
              "      <td>16</td>\n",
              "      <td>1221.13300</td>\n",
              "      <td>1288.4690</td>\n",
              "      <td>Team 2</td>\n",
              "      <td>CounterTerrorist</td>\n",
              "      <td>PISTOL_ROUND</td>\n",
              "      <td>4200</td>\n",
              "      <td>4250</td>\n",
              "    </tr>\n",
              "    <tr>\n",
              "      <th>215917</th>\n",
              "      <td>de_cache</td>\n",
              "      <td>17</td>\n",
              "      <td>1288.46900</td>\n",
              "      <td>1342.4450</td>\n",
              "      <td>Team 2</td>\n",
              "      <td>CounterTerrorist</td>\n",
              "      <td>SEMI_ECO</td>\n",
              "      <td>18300</td>\n",
              "      <td>8200</td>\n",
              "    </tr>\n",
              "    <tr>\n",
              "      <th>215918</th>\n",
              "      <td>de_cache</td>\n",
              "      <td>18</td>\n",
              "      <td>1342.44500</td>\n",
              "      <td>1412.6290</td>\n",
              "      <td>Team 2</td>\n",
              "      <td>CounterTerrorist</td>\n",
              "      <td>SEMI_ECO</td>\n",
              "      <td>24400</td>\n",
              "      <td>9950</td>\n",
              "    </tr>\n",
              "  </tbody>\n",
              "</table>\n",
              "<p>215919 rows × 9 columns</p>\n",
              "</div>"
            ],
            "text/plain": [
              "                map  round  start_seconds  ...    round_type ct_eq_val t_eq_val\n",
              "0       de_overpass      1       94.30782  ...  PISTOL_ROUND      4300     4250\n",
              "1       de_overpass      2      160.95910  ...           ECO      6300    19400\n",
              "2       de_overpass      3      279.39980  ...      SEMI_ECO      7650    19250\n",
              "3       de_overpass      4      341.00840  ...        NORMAL     24900    23400\n",
              "4       de_overpass      5      435.42590  ...           ECO      5400    20550\n",
              "...             ...    ...            ...  ...           ...       ...      ...\n",
              "215914     de_cache     14     1062.96100  ...        NORMAL     28400    25800\n",
              "215915     de_cache     15     1129.04600  ...     FORCE_BUY     13150    25550\n",
              "215916     de_cache     16     1221.13300  ...  PISTOL_ROUND      4200     4250\n",
              "215917     de_cache     17     1288.46900  ...      SEMI_ECO     18300     8200\n",
              "215918     de_cache     18     1342.44500  ...      SEMI_ECO     24400     9950\n",
              "\n",
              "[215919 rows x 9 columns]"
            ]
          },
          "metadata": {
            "tags": []
          },
          "execution_count": 24
        }
      ]
    }
  ]
}