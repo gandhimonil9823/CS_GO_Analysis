{
  "nbformat": 4,
  "nbformat_minor": 0,
  "metadata": {
    "colab": {
      "name": "CS_GO_filter_data.ipynb",
      "provenance": [],
      "collapsed_sections": [],
      "include_colab_link": true
    },
    "kernelspec": {
      "name": "python3",
      "display_name": "Python 3"
    }
  },
  "cells": [
    {
      "cell_type": "markdown",
      "metadata": {
        "id": "view-in-github",
        "colab_type": "text"
      },
      "source": [
        "<a href=\"https://colab.research.google.com/github/gandhimonil9823/CS_GO_Analysis/blob/main/temp2ipynb\" target=\"_parent\"><img src=\"https://colab.research.google.com/assets/colab-badge.svg\" alt=\"Open In Colab\"/></a>"
      ]
    },
    {
      "cell_type": "code",
      "metadata": {
        "id": "XwCtK_5ZitDV"
      },
      "source": [
        "import pandas as pd\n",
        "import numpy as np\n",
        "import os"
      ],
      "execution_count": 1,
      "outputs": []
    },
    {
      "cell_type": "markdown",
      "metadata": {
        "id": "yFTcyP0Ny-Oj"
      },
      "source": [
        "### Mount data from Google Drive"
      ]
    },
    {
      "cell_type": "code",
      "metadata": {
        "id": "PWUAYaEVisXp",
        "colab": {
          "base_uri": "https://localhost:8080/"
        },
        "outputId": "cf39cbd2-3f84-4f53-86d2-11d8874c0283"
      },
      "source": [
        "#mount data folder from google drive\n",
        "from google.colab import drive\n",
        "drive.mount('/content/drive')"
      ],
      "execution_count": 2,
      "outputs": [
        {
          "output_type": "stream",
          "text": [
            "Drive already mounted at /content/drive; to attempt to forcibly remount, call drive.mount(\"/content/drive\", force_remount=True).\n"
          ],
          "name": "stdout"
        }
      ]
    },
    {
      "cell_type": "markdown",
      "metadata": {
        "id": "K--JKyXbt8kZ"
      },
      "source": [
        "change dir and check contents"
      ]
    },
    {
      "cell_type": "code",
      "metadata": {
        "id": "xXrHTfR4nvZg",
        "colab": {
          "base_uri": "https://localhost:8080/"
        },
        "outputId": "3d5bc719-865d-4dc5-bb3a-0c459eb752af"
      },
      "source": [
        "cd '/content/drive/Shared drives/CS_GO_Data'\n"
      ],
      "execution_count": 3,
      "outputs": [
        {
          "output_type": "stream",
          "text": [
            "/content/drive/Shared drives/CS_GO_Data\n"
          ],
          "name": "stdout"
        }
      ]
    },
    {
      "cell_type": "code",
      "metadata": {
        "colab": {
          "base_uri": "https://localhost:8080/"
        },
        "id": "s3QpRkZ9pxmB",
        "outputId": "06ab084d-de1e-4343-bc67-8232d4407569"
      },
      "source": [
        "ls"
      ],
      "execution_count": 4,
      "outputs": [
        {
          "output_type": "stream",
          "text": [
            "'Application Alogrithm.gdoc'   de_train.png\n",
            " cs_cruise.png                 de_tulip.png\n",
            "'data preprocessing.txt'       \u001b[0m\u001b[01;34mdont_use\u001b[0m/\n",
            " de_cache.png                  esea_master_dmg_demos.part1.csv\n",
            " de_cbble.png                  esea_master_dmg_demos.part2.csv\n",
            " de_coast.png                  esea_master_grenades_demos.part1.csv\n",
            " de_dust2.png                  esea_master_grenades_demos.part2.csv\n",
            " de_empire.png                 esea_master_kills_demos.part1.csv\n",
            " de_inferno.png                esea_master_kills_demos.part2.csv\n",
            " de_mikla.png                  esea_meta_demos.part1.csv\n",
            " de_mirage.png                 esea_meta_demos.part2.csv\n",
            " de_new_nuke.png              \u001b[01;34m'final_processed data'\u001b[0m/\n",
            " de_nuke.png                   map_data.csv\n",
            " de_overpass.png               \u001b[01;34mmaps\u001b[0m/\n",
            " de_royal.png                  \u001b[01;34mprocessed_data\u001b[0m/\n",
            " de_santorini.png              Updated_CS_GO_Analysis.ipynb\n",
            " de_season.png\n"
          ],
          "name": "stdout"
        }
      ]
    },
    {
      "cell_type": "markdown",
      "metadata": {
        "id": "howQKq4sy1Ja"
      },
      "source": [
        "### loaders"
      ]
    },
    {
      "cell_type": "code",
      "metadata": {
        "id": "CY2db5JRlsvM"
      },
      "source": [
        "# Function to combine the dataframes and return a single dataframe\n",
        "def combine_dataframes(df1,df2):\n",
        "  df_to_return = df1.append(df2)\n",
        "  df_to_return = df_to_return.reset_index(drop=True)\n",
        "  return df_to_return"
      ],
      "execution_count": 5,
      "outputs": []
    },
    {
      "cell_type": "code",
      "metadata": {
        "id": "yQW-xxPqov4x"
      },
      "source": [
        "#load raw data\n",
        "def load_raw_dmg():\n",
        "  df1 = pd.read_csv('esea_master_dmg_demos.part1.csv')\n",
        "  df2 = pd.read_csv('esea_master_dmg_demos.part2.csv')\n",
        "  return combine_dataframes(df1,df2)\n",
        "\n",
        "def load_raw_grenades():\n",
        "  df1 = pd.read_csv('esea_master_grenades_demos.part1.csv')\n",
        "  df2 = pd.read_csv('esea_master_grenades_demos.part2.csv')\n",
        "  return combine_dataframes(df1,df2) \n",
        "  \n",
        "def load_raw_kills():\n",
        "  df1 = pd.read_csv('esea_master_kills_demos.part1.csv')\n",
        "  df2 = pd.read_csv('esea_master_kills_demos.part2.csv')\n",
        "  return combine_dataframes(df1,df2) \n",
        "  \n",
        "def load_raw_meta():\n",
        "  df1 = pd.read_csv('esea_meta_demos.part1.csv')\n",
        "  df2 = pd.read_csv('esea_meta_demos.part2.csv')\n",
        "  return combine_dataframes(df1,df2)\n",
        "\n",
        "def load_raw_map_data():\n",
        "  return pd.read_csv('map_data.csv')\n",
        "\n",
        "def load_raw_all():\n",
        " return load_raw_dmg(), load_raw_grenades(), load_raw_kills(), load_raw_meta(), load_raw_map_data()"
      ],
      "execution_count": 6,
      "outputs": []
    },
    {
      "cell_type": "markdown",
      "metadata": {
        "id": "hi4DnwoEy4Jd"
      },
      "source": [
        "### load all data"
      ]
    },
    {
      "cell_type": "code",
      "metadata": {
        "colab": {
          "base_uri": "https://localhost:8080/"
        },
        "id": "R4jYNpatrnZb",
        "outputId": "b2252fd0-ea12-4d62-cf81-3e0e14387eca"
      },
      "source": [
        "%%time\n",
        "raw_damage, raw_grenades, raw_kills, raw_meta, raw_map_data = load_raw_all()"
      ],
      "execution_count": 7,
      "outputs": [
        {
          "output_type": "stream",
          "text": [
            "CPU times: user 52.6 s, sys: 6.9 s, total: 59.5 s\n",
            "Wall time: 1min 16s\n"
          ],
          "name": "stdout"
        }
      ]
    },
    {
      "cell_type": "code",
      "metadata": {
        "id": "OryD0xKFvgY-",
        "outputId": "b5f01759-0c64-491b-f031-57d0ebe44fc4",
        "colab": {
          "base_uri": "https://localhost:8080/"
        }
      },
      "source": [
        "#print the shape of the data\n",
        "print('damage data:',raw_damage.shape)\n",
        "print('grenades data:',raw_grenades.shape)\n",
        "print('kills data:',raw_kills.shape)\n",
        "print('meta data:',raw_meta.shape)\n",
        "print('map data:',raw_map_data.shape)"
      ],
      "execution_count": 8,
      "outputs": [
        {
          "output_type": "stream",
          "text": [
            "damage data: (10538182, 23)\n",
            "grenades data: (5246458, 23)\n",
            "kills data: (2742646, 13)\n",
            "meta data: (377629, 10)\n",
            "map data: (7, 7)\n"
          ],
          "name": "stdout"
        }
      ]
    },
    {
      "cell_type": "markdown",
      "metadata": {
        "id": "ZvqyFh0zujAr"
      },
      "source": [
        "### 1) Clean the raw data of corrupted data:\n",
        "\n",
        "We noticed that in some of the lines of the kaggle dataset, the attacking side (att_side) and the victim side (vic_side) don't match the attacking team (att_team) and the victim team(vic_team). This inconsistency poisons not only that line, but also the round, and the entire match as a whole. Therefore, for any matches these corrupt lines should be removed from the dataset."
      ]
    },
    {
      "cell_type": "code",
      "metadata": {
        "id": "vixJHgDaDp9F"
      },
      "source": [
        "#identify and output a list of corrupt matches for given the damage dataframe\n",
        "def find_inconsistent_games(df):\n",
        "  #removal condition #1: team mismatch when the sides match\n",
        "  mismatched_teams = raw_damage[(raw_damage.att_side == raw_damage.vic_side ) & (raw_damage.att_team != raw_damage.vic_team )]\n",
        "  #removal condition #2: side mismatch when the teams match\n",
        "  mismatched_sides = raw_damage[(raw_damage.att_side != raw_damage.vic_side ) & (raw_damage.att_team == raw_damage.vic_team )]\n",
        "\n",
        "  df = combine_dataframes(mismatched_teams,mismatched_sides)\n",
        "  strange_files = df['file'].unique()\n",
        "\n",
        "  #other erronous matches that we identified \n",
        "  strange_files = np.append(strange_files, 'esea_match_13787633.dem') \n",
        "  strange_files = np.append(strange_files, 'esea_match_13784811.dem')\n",
        "\n",
        "  strange_files = np.unique(strange_files)\n",
        "  return strange_files\n"
      ],
      "execution_count": 9,
      "outputs": []
    },
    {
      "cell_type": "code",
      "metadata": {
        "id": "E-W3qMmu8Icj"
      },
      "source": [
        "#removes the matches specified in match_list from the given list of dataframes\n",
        "def remove_matches(inp_data, match_list):\n",
        "  filtered_data = []\n",
        "  for df in inp_data:\n",
        "    filtered_data.append(df[~df['file'].isin(strange_files)])\n",
        "\n",
        "  return filtered_data"
      ],
      "execution_count": 13,
      "outputs": []
    },
    {
      "cell_type": "code",
      "metadata": {
        "id": "LxNcg1TkxQHo",
        "colab": {
          "base_uri": "https://localhost:8080/"
        },
        "outputId": "e4699a44-98de-48fe-d748-9627022c1df8"
      },
      "source": [
        "data = [raw_damage, raw_grenades, raw_kills, raw_meta]\n",
        "strange_files = find_inconsistent_games(raw_damage)\n",
        "\n",
        "print('Percentage of matches removed:',(len(strange_files)/len(raw_meta))*100,'%')\n",
        "\n",
        "data = remove_matches(data, strange_files)\n",
        "# for df in data:\n",
        "#   df = df[~df['file'].isin(strange_files)]\n",
        "  #filtered.to_csv(f'/content/drive/Shared drives/CS_GO_Data/processed_data/filtered_{target}_demos.csv')"
      ],
      "execution_count": 14,
      "outputs": [
        {
          "output_type": "stream",
          "text": [
            "Percentage of matches removed: 0.3868876595812292 %\n"
          ],
          "name": "stdout"
        }
      ]
    },
    {
      "cell_type": "code",
      "metadata": {
        "colab": {
          "base_uri": "https://localhost:8080/"
        },
        "id": "51BaUsf_lpOB",
        "outputId": "7f90579b-9cc5-4c76-c8df-d48141166fdd"
      },
      "source": [
        "print('damage data:',data[0].shape)\n",
        "print('grenades data:',data[1].shape)\n",
        "print('kills data:',data[2].shape)\n",
        "print('meta data:',data[3].shape)\n",
        "print('map data:',raw_map_data.shape)"
      ],
      "execution_count": 15,
      "outputs": [
        {
          "output_type": "stream",
          "text": [
            "damage data: (9505465, 23)\n",
            "grenades data: (4722314, 23)\n",
            "kills data: (2477355, 13)\n",
            "meta data: (340333, 10)\n",
            "map data: (7, 7)\n"
          ],
          "name": "stdout"
        }
      ]
    },
    {
      "cell_type": "markdown",
      "metadata": {
        "id": "n7-74x6t5xLo"
      },
      "source": [
        "### 2) Anonymize the data: \n",
        "\n",
        "A small, but significant number of the matches record the team names of the teams. Replacing the team names with the more generic 'Team 1' and 'Team 2' Tags would maintain the anonymity of the data while removing the possibility of displaying inappropriate and confusing team names."
      ]
    },
    {
      "cell_type": "markdown",
      "metadata": {
        "id": "hI4ObRH0-XBx"
      },
      "source": [
        "There are three sources of damage in this dataset:\n",
        "\n",
        "this is represented by the variable att_side (attacker side). \n",
        "\n",
        "1) att_side = <\"Enemy team's name\"> :\n",
        "When an individual takes damage from the actions of the enemy team member)\n",
        "\n",
        "2) att_side = <\"Own team's name\"> :\n",
        "In cases of friendly fire or self damage)\n",
        "\n",
        "3) att_side = \"World\" :\n",
        "When an individual takes damage from non-player objects present in the game. Examples include fall damage and collision with moving objects (if any). "
      ]
    },
    {
      "cell_type": "code",
      "metadata": {
        "id": "Vdj78DM6leVS"
      },
      "source": [
        "def remove_other_dmg_sources(df):\n",
        "  #we need to temporarily remove the world damage to create a list of non-standard team namesdef delete_world_damage(df_esea_master_dmg_demos):\n",
        "  only_enemy_dmg = df[df.att_side != 'None']\n",
        "  \n",
        "  #remove friendly/self damage records\n",
        "  only_enemy_dmg = only_enemy_dmg[only_enemy_dmg.att_side != only_enemy_dmg.vic_side]\n",
        "  \n",
        "  #reset index\n",
        "  only_enemy_dmg = only_enemy_dmg.reset_index(drop=True)\n",
        "  return only_enemy_dmg"
      ],
      "execution_count": 17,
      "outputs": []
    },
    {
      "cell_type": "code",
      "metadata": {
        "id": "-7rnOlC-BLrN",
        "outputId": "a3378f3b-8958-4091-ec13-b11599bd7462",
        "colab": {
          "base_uri": "https://localhost:8080/",
          "height": 506
        }
      },
      "source": [
        "data[0]"
      ],
      "execution_count": 20,
      "outputs": [
        {
          "output_type": "execute_result",
          "data": {
            "text/html": [
              "<div>\n",
              "<style scoped>\n",
              "    .dataframe tbody tr th:only-of-type {\n",
              "        vertical-align: middle;\n",
              "    }\n",
              "\n",
              "    .dataframe tbody tr th {\n",
              "        vertical-align: top;\n",
              "    }\n",
              "\n",
              "    .dataframe thead th {\n",
              "        text-align: right;\n",
              "    }\n",
              "</style>\n",
              "<table border=\"1\" class=\"dataframe\">\n",
              "  <thead>\n",
              "    <tr style=\"text-align: right;\">\n",
              "      <th></th>\n",
              "      <th>file</th>\n",
              "      <th>round</th>\n",
              "      <th>tick</th>\n",
              "      <th>seconds</th>\n",
              "      <th>att_team</th>\n",
              "      <th>vic_team</th>\n",
              "      <th>att_side</th>\n",
              "      <th>vic_side</th>\n",
              "      <th>hp_dmg</th>\n",
              "      <th>arm_dmg</th>\n",
              "      <th>is_bomb_planted</th>\n",
              "      <th>bomb_site</th>\n",
              "      <th>hitbox</th>\n",
              "      <th>wp</th>\n",
              "      <th>wp_type</th>\n",
              "      <th>att_id</th>\n",
              "      <th>att_rank</th>\n",
              "      <th>vic_id</th>\n",
              "      <th>vic_rank</th>\n",
              "      <th>att_pos_x</th>\n",
              "      <th>att_pos_y</th>\n",
              "      <th>vic_pos_x</th>\n",
              "      <th>vic_pos_y</th>\n",
              "    </tr>\n",
              "  </thead>\n",
              "  <tbody>\n",
              "    <tr>\n",
              "      <th>0</th>\n",
              "      <td>esea_match_13770997.dem</td>\n",
              "      <td>1</td>\n",
              "      <td>14372</td>\n",
              "      <td>111.8476</td>\n",
              "      <td>World</td>\n",
              "      <td>Animal Style</td>\n",
              "      <td>None</td>\n",
              "      <td>CounterTerrorist</td>\n",
              "      <td>1</td>\n",
              "      <td>0</td>\n",
              "      <td>False</td>\n",
              "      <td>NaN</td>\n",
              "      <td>Generic</td>\n",
              "      <td>Unknown</td>\n",
              "      <td>Unkown</td>\n",
              "      <td>0</td>\n",
              "      <td>0</td>\n",
              "      <td>76561198055054795</td>\n",
              "      <td>0</td>\n",
              "      <td>0.0000</td>\n",
              "      <td>0.00000</td>\n",
              "      <td>0.0000</td>\n",
              "      <td>0.000000</td>\n",
              "    </tr>\n",
              "    <tr>\n",
              "      <th>1</th>\n",
              "      <td>esea_match_13770997.dem</td>\n",
              "      <td>1</td>\n",
              "      <td>15972</td>\n",
              "      <td>124.3761</td>\n",
              "      <td>Animal Style</td>\n",
              "      <td>Hentai Hooligans</td>\n",
              "      <td>CounterTerrorist</td>\n",
              "      <td>Terrorist</td>\n",
              "      <td>18</td>\n",
              "      <td>9</td>\n",
              "      <td>False</td>\n",
              "      <td>NaN</td>\n",
              "      <td>Stomach</td>\n",
              "      <td>USP</td>\n",
              "      <td>Pistol</td>\n",
              "      <td>76561198048742997</td>\n",
              "      <td>0</td>\n",
              "      <td>76561198082200410</td>\n",
              "      <td>0</td>\n",
              "      <td>-1499.6900</td>\n",
              "      <td>63.33829</td>\n",
              "      <td>-669.5558</td>\n",
              "      <td>-79.769570</td>\n",
              "    </tr>\n",
              "    <tr>\n",
              "      <th>2</th>\n",
              "      <td>esea_match_13770997.dem</td>\n",
              "      <td>1</td>\n",
              "      <td>16058</td>\n",
              "      <td>125.0495</td>\n",
              "      <td>Animal Style</td>\n",
              "      <td>Hentai Hooligans</td>\n",
              "      <td>CounterTerrorist</td>\n",
              "      <td>Terrorist</td>\n",
              "      <td>100</td>\n",
              "      <td>0</td>\n",
              "      <td>False</td>\n",
              "      <td>NaN</td>\n",
              "      <td>Head</td>\n",
              "      <td>USP</td>\n",
              "      <td>Pistol</td>\n",
              "      <td>76561198055054795</td>\n",
              "      <td>0</td>\n",
              "      <td>76561197961009213</td>\n",
              "      <td>0</td>\n",
              "      <td>-1066.8740</td>\n",
              "      <td>3.44563</td>\n",
              "      <td>-614.1868</td>\n",
              "      <td>-91.707770</td>\n",
              "    </tr>\n",
              "    <tr>\n",
              "      <th>3</th>\n",
              "      <td>esea_match_13770997.dem</td>\n",
              "      <td>1</td>\n",
              "      <td>16066</td>\n",
              "      <td>125.1121</td>\n",
              "      <td>Hentai Hooligans</td>\n",
              "      <td>Animal Style</td>\n",
              "      <td>Terrorist</td>\n",
              "      <td>CounterTerrorist</td>\n",
              "      <td>12</td>\n",
              "      <td>7</td>\n",
              "      <td>False</td>\n",
              "      <td>NaN</td>\n",
              "      <td>RightArm</td>\n",
              "      <td>Glock</td>\n",
              "      <td>Pistol</td>\n",
              "      <td>76561198082200410</td>\n",
              "      <td>0</td>\n",
              "      <td>76561198055054795</td>\n",
              "      <td>0</td>\n",
              "      <td>-747.3146</td>\n",
              "      <td>-49.32681</td>\n",
              "      <td>-1065.5560</td>\n",
              "      <td>9.381622</td>\n",
              "    </tr>\n",
              "    <tr>\n",
              "      <th>4</th>\n",
              "      <td>esea_match_13770997.dem</td>\n",
              "      <td>1</td>\n",
              "      <td>16108</td>\n",
              "      <td>125.4410</td>\n",
              "      <td>Animal Style</td>\n",
              "      <td>Hentai Hooligans</td>\n",
              "      <td>CounterTerrorist</td>\n",
              "      <td>Terrorist</td>\n",
              "      <td>15</td>\n",
              "      <td>7</td>\n",
              "      <td>False</td>\n",
              "      <td>NaN</td>\n",
              "      <td>Chest</td>\n",
              "      <td>USP</td>\n",
              "      <td>Pistol</td>\n",
              "      <td>76561198048742997</td>\n",
              "      <td>0</td>\n",
              "      <td>76561198082200410</td>\n",
              "      <td>0</td>\n",
              "      <td>-1501.8610</td>\n",
              "      <td>49.19798</td>\n",
              "      <td>-748.4188</td>\n",
              "      <td>-53.469220</td>\n",
              "    </tr>\n",
              "    <tr>\n",
              "      <th>...</th>\n",
              "      <td>...</td>\n",
              "      <td>...</td>\n",
              "      <td>...</td>\n",
              "      <td>...</td>\n",
              "      <td>...</td>\n",
              "      <td>...</td>\n",
              "      <td>...</td>\n",
              "      <td>...</td>\n",
              "      <td>...</td>\n",
              "      <td>...</td>\n",
              "      <td>...</td>\n",
              "      <td>...</td>\n",
              "      <td>...</td>\n",
              "      <td>...</td>\n",
              "      <td>...</td>\n",
              "      <td>...</td>\n",
              "      <td>...</td>\n",
              "      <td>...</td>\n",
              "      <td>...</td>\n",
              "      <td>...</td>\n",
              "      <td>...</td>\n",
              "      <td>...</td>\n",
              "      <td>...</td>\n",
              "    </tr>\n",
              "    <tr>\n",
              "      <th>10538177</th>\n",
              "      <td>esea_match_13829173.dem</td>\n",
              "      <td>22</td>\n",
              "      <td>243361</td>\n",
              "      <td>1901.4210</td>\n",
              "      <td>Team 1</td>\n",
              "      <td>Team 2</td>\n",
              "      <td>Terrorist</td>\n",
              "      <td>CounterTerrorist</td>\n",
              "      <td>20</td>\n",
              "      <td>2</td>\n",
              "      <td>False</td>\n",
              "      <td>NaN</td>\n",
              "      <td>Stomach</td>\n",
              "      <td>AK47</td>\n",
              "      <td>Rifle</td>\n",
              "      <td>76561197986109746</td>\n",
              "      <td>0</td>\n",
              "      <td>76561198047370175</td>\n",
              "      <td>0</td>\n",
              "      <td>-1132.0250</td>\n",
              "      <td>-191.14730</td>\n",
              "      <td>-1220.2790</td>\n",
              "      <td>-1279.492000</td>\n",
              "    </tr>\n",
              "    <tr>\n",
              "      <th>10538178</th>\n",
              "      <td>esea_match_13829173.dem</td>\n",
              "      <td>22</td>\n",
              "      <td>243373</td>\n",
              "      <td>1901.5150</td>\n",
              "      <td>Team 1</td>\n",
              "      <td>Team 2</td>\n",
              "      <td>Terrorist</td>\n",
              "      <td>CounterTerrorist</td>\n",
              "      <td>26</td>\n",
              "      <td>3</td>\n",
              "      <td>False</td>\n",
              "      <td>NaN</td>\n",
              "      <td>Chest</td>\n",
              "      <td>AK47</td>\n",
              "      <td>Rifle</td>\n",
              "      <td>76561197986109746</td>\n",
              "      <td>0</td>\n",
              "      <td>76561198047370175</td>\n",
              "      <td>0</td>\n",
              "      <td>-1132.0250</td>\n",
              "      <td>-191.14730</td>\n",
              "      <td>-1218.2490</td>\n",
              "      <td>-1275.254000</td>\n",
              "    </tr>\n",
              "    <tr>\n",
              "      <th>10538179</th>\n",
              "      <td>esea_match_13829173.dem</td>\n",
              "      <td>22</td>\n",
              "      <td>243405</td>\n",
              "      <td>1901.7650</td>\n",
              "      <td>Team 2</td>\n",
              "      <td>Team 1</td>\n",
              "      <td>CounterTerrorist</td>\n",
              "      <td>Terrorist</td>\n",
              "      <td>100</td>\n",
              "      <td>15</td>\n",
              "      <td>False</td>\n",
              "      <td>NaN</td>\n",
              "      <td>Head</td>\n",
              "      <td>AK47</td>\n",
              "      <td>Rifle</td>\n",
              "      <td>76561198047370175</td>\n",
              "      <td>0</td>\n",
              "      <td>76561197986109746</td>\n",
              "      <td>0</td>\n",
              "      <td>-1205.9710</td>\n",
              "      <td>-1271.50400</td>\n",
              "      <td>-1132.0250</td>\n",
              "      <td>-191.147300</td>\n",
              "    </tr>\n",
              "    <tr>\n",
              "      <th>10538180</th>\n",
              "      <td>esea_match_13829173.dem</td>\n",
              "      <td>22</td>\n",
              "      <td>243719</td>\n",
              "      <td>1904.2230</td>\n",
              "      <td>Team 2</td>\n",
              "      <td>Team 1</td>\n",
              "      <td>CounterTerrorist</td>\n",
              "      <td>Terrorist</td>\n",
              "      <td>27</td>\n",
              "      <td>4</td>\n",
              "      <td>False</td>\n",
              "      <td>NaN</td>\n",
              "      <td>Chest</td>\n",
              "      <td>AK47</td>\n",
              "      <td>Rifle</td>\n",
              "      <td>76561198047370175</td>\n",
              "      <td>0</td>\n",
              "      <td>76561198103856560</td>\n",
              "      <td>0</td>\n",
              "      <td>-1217.5950</td>\n",
              "      <td>-1091.54300</td>\n",
              "      <td>-1373.8790</td>\n",
              "      <td>-931.702600</td>\n",
              "    </tr>\n",
              "    <tr>\n",
              "      <th>10538181</th>\n",
              "      <td>esea_match_13829173.dem</td>\n",
              "      <td>22</td>\n",
              "      <td>243755</td>\n",
              "      <td>1904.5050</td>\n",
              "      <td>Team 1</td>\n",
              "      <td>Team 2</td>\n",
              "      <td>Terrorist</td>\n",
              "      <td>CounterTerrorist</td>\n",
              "      <td>54</td>\n",
              "      <td>16</td>\n",
              "      <td>False</td>\n",
              "      <td>NaN</td>\n",
              "      <td>Head</td>\n",
              "      <td>AK47</td>\n",
              "      <td>Rifle</td>\n",
              "      <td>76561198103856560</td>\n",
              "      <td>0</td>\n",
              "      <td>76561198047370175</td>\n",
              "      <td>0</td>\n",
              "      <td>-1378.4040</td>\n",
              "      <td>-936.34030</td>\n",
              "      <td>-1215.1200</td>\n",
              "      <td>-1089.276000</td>\n",
              "    </tr>\n",
              "  </tbody>\n",
              "</table>\n",
              "<p>9505465 rows × 23 columns</p>\n",
              "</div>"
            ],
            "text/plain": [
              "                             file  round  ...  vic_pos_x    vic_pos_y\n",
              "0         esea_match_13770997.dem      1  ...     0.0000     0.000000\n",
              "1         esea_match_13770997.dem      1  ...  -669.5558   -79.769570\n",
              "2         esea_match_13770997.dem      1  ...  -614.1868   -91.707770\n",
              "3         esea_match_13770997.dem      1  ... -1065.5560     9.381622\n",
              "4         esea_match_13770997.dem      1  ...  -748.4188   -53.469220\n",
              "...                           ...    ...  ...        ...          ...\n",
              "10538177  esea_match_13829173.dem     22  ... -1220.2790 -1279.492000\n",
              "10538178  esea_match_13829173.dem     22  ... -1218.2490 -1275.254000\n",
              "10538179  esea_match_13829173.dem     22  ... -1132.0250  -191.147300\n",
              "10538180  esea_match_13829173.dem     22  ... -1373.8790  -931.702600\n",
              "10538181  esea_match_13829173.dem     22  ... -1215.1200 -1089.276000\n",
              "\n",
              "[9505465 rows x 23 columns]"
            ]
          },
          "metadata": {
            "tags": []
          },
          "execution_count": 20
        }
      ]
    },
    {
      "cell_type": "code",
      "metadata": {
        "id": "ZuG8ul7lClpO"
      },
      "source": [
        "def find_rename_mask(df):\n",
        "  #get the first enemy damage instance of each match. This row has the all the data we are looking for\n",
        "  to_rename = df.groupby('file').first()\n",
        "\n",
        "  #only select the relevant columns\n",
        "  to_rename = to_rename[['att_team', 'vic_team','att_side','vic_side']] \n",
        "\n",
        "  # filter out rows(in this case, matches) where team names are the default 'Team 1' and 'Team 2' #only consider games where the team names aren't standard. Check both columns just in case\n",
        "  to_rename = to_rename[((to_rename.att_team != 'Team 1') & (to_rename.att_team != 'Team 2')) | ((to_rename.vic_team != 'Team 1') & (to_rename.vic_team != 'Team 2'))]\n",
        "\n",
        "  to_rename.reset_index(inplace=True)\n",
        "\n",
        "  #create new columns for each default team name\n",
        "  to_rename['Team 1'] = None\n",
        "  to_rename['Team 2'] = None\n",
        "\n",
        "  for index,row in to_rename.iterrows():\n",
        "    if row['att_side'] == 'CounterTerrorist':\n",
        "      row['Team 1'] = row['att_team']\n",
        "      row['Team 2'] = row['vic_team']\n",
        "    else:\n",
        "      row['Team 1'] = row['vic_team']\n",
        "      row['Team 2'] = row['att_team']\n",
        "\n",
        "  to_rename.drop(columns=['att_team','vic_team','att_side','vic_side'], inplace=True) #drop the other columns #we only need file, Team1, Team2\n",
        "\n",
        "  return to_rename"
      ],
      "execution_count": 22,
      "outputs": []
    },
    {
      "cell_type": "code",
      "metadata": {
        "id": "r-P27fDBoOkj"
      },
      "source": [
        "only_enemy_dmg = remove_other_dmg_sources(data[0])\n",
        "to_rename = find_rename_mask(only_enemy_dmg)\n",
        "print('number of games that have custom team names: ', len(to_rename))"
      ],
      "execution_count": null,
      "outputs": []
    },
    {
      "cell_type": "code",
      "metadata": {
        "id": "r5KNfeVkBe0k",
        "outputId": "17814871-612a-4057-9021-2fee2d0e66f1",
        "colab": {
          "base_uri": "https://localhost:8080/",
          "height": 506
        }
      },
      "source": [
        "data[0]"
      ],
      "execution_count": 21,
      "outputs": [
        {
          "output_type": "execute_result",
          "data": {
            "text/html": [
              "<div>\n",
              "<style scoped>\n",
              "    .dataframe tbody tr th:only-of-type {\n",
              "        vertical-align: middle;\n",
              "    }\n",
              "\n",
              "    .dataframe tbody tr th {\n",
              "        vertical-align: top;\n",
              "    }\n",
              "\n",
              "    .dataframe thead th {\n",
              "        text-align: right;\n",
              "    }\n",
              "</style>\n",
              "<table border=\"1\" class=\"dataframe\">\n",
              "  <thead>\n",
              "    <tr style=\"text-align: right;\">\n",
              "      <th></th>\n",
              "      <th>file</th>\n",
              "      <th>round</th>\n",
              "      <th>tick</th>\n",
              "      <th>seconds</th>\n",
              "      <th>att_team</th>\n",
              "      <th>vic_team</th>\n",
              "      <th>att_side</th>\n",
              "      <th>vic_side</th>\n",
              "      <th>hp_dmg</th>\n",
              "      <th>arm_dmg</th>\n",
              "      <th>is_bomb_planted</th>\n",
              "      <th>bomb_site</th>\n",
              "      <th>hitbox</th>\n",
              "      <th>wp</th>\n",
              "      <th>wp_type</th>\n",
              "      <th>att_id</th>\n",
              "      <th>att_rank</th>\n",
              "      <th>vic_id</th>\n",
              "      <th>vic_rank</th>\n",
              "      <th>att_pos_x</th>\n",
              "      <th>att_pos_y</th>\n",
              "      <th>vic_pos_x</th>\n",
              "      <th>vic_pos_y</th>\n",
              "    </tr>\n",
              "  </thead>\n",
              "  <tbody>\n",
              "    <tr>\n",
              "      <th>0</th>\n",
              "      <td>esea_match_13770997.dem</td>\n",
              "      <td>1</td>\n",
              "      <td>14372</td>\n",
              "      <td>111.8476</td>\n",
              "      <td>World</td>\n",
              "      <td>Animal Style</td>\n",
              "      <td>None</td>\n",
              "      <td>CounterTerrorist</td>\n",
              "      <td>1</td>\n",
              "      <td>0</td>\n",
              "      <td>False</td>\n",
              "      <td>NaN</td>\n",
              "      <td>Generic</td>\n",
              "      <td>Unknown</td>\n",
              "      <td>Unkown</td>\n",
              "      <td>0</td>\n",
              "      <td>0</td>\n",
              "      <td>76561198055054795</td>\n",
              "      <td>0</td>\n",
              "      <td>0.0000</td>\n",
              "      <td>0.00000</td>\n",
              "      <td>0.0000</td>\n",
              "      <td>0.000000</td>\n",
              "    </tr>\n",
              "    <tr>\n",
              "      <th>1</th>\n",
              "      <td>esea_match_13770997.dem</td>\n",
              "      <td>1</td>\n",
              "      <td>15972</td>\n",
              "      <td>124.3761</td>\n",
              "      <td>Animal Style</td>\n",
              "      <td>Hentai Hooligans</td>\n",
              "      <td>CounterTerrorist</td>\n",
              "      <td>Terrorist</td>\n",
              "      <td>18</td>\n",
              "      <td>9</td>\n",
              "      <td>False</td>\n",
              "      <td>NaN</td>\n",
              "      <td>Stomach</td>\n",
              "      <td>USP</td>\n",
              "      <td>Pistol</td>\n",
              "      <td>76561198048742997</td>\n",
              "      <td>0</td>\n",
              "      <td>76561198082200410</td>\n",
              "      <td>0</td>\n",
              "      <td>-1499.6900</td>\n",
              "      <td>63.33829</td>\n",
              "      <td>-669.5558</td>\n",
              "      <td>-79.769570</td>\n",
              "    </tr>\n",
              "    <tr>\n",
              "      <th>2</th>\n",
              "      <td>esea_match_13770997.dem</td>\n",
              "      <td>1</td>\n",
              "      <td>16058</td>\n",
              "      <td>125.0495</td>\n",
              "      <td>Animal Style</td>\n",
              "      <td>Hentai Hooligans</td>\n",
              "      <td>CounterTerrorist</td>\n",
              "      <td>Terrorist</td>\n",
              "      <td>100</td>\n",
              "      <td>0</td>\n",
              "      <td>False</td>\n",
              "      <td>NaN</td>\n",
              "      <td>Head</td>\n",
              "      <td>USP</td>\n",
              "      <td>Pistol</td>\n",
              "      <td>76561198055054795</td>\n",
              "      <td>0</td>\n",
              "      <td>76561197961009213</td>\n",
              "      <td>0</td>\n",
              "      <td>-1066.8740</td>\n",
              "      <td>3.44563</td>\n",
              "      <td>-614.1868</td>\n",
              "      <td>-91.707770</td>\n",
              "    </tr>\n",
              "    <tr>\n",
              "      <th>3</th>\n",
              "      <td>esea_match_13770997.dem</td>\n",
              "      <td>1</td>\n",
              "      <td>16066</td>\n",
              "      <td>125.1121</td>\n",
              "      <td>Hentai Hooligans</td>\n",
              "      <td>Animal Style</td>\n",
              "      <td>Terrorist</td>\n",
              "      <td>CounterTerrorist</td>\n",
              "      <td>12</td>\n",
              "      <td>7</td>\n",
              "      <td>False</td>\n",
              "      <td>NaN</td>\n",
              "      <td>RightArm</td>\n",
              "      <td>Glock</td>\n",
              "      <td>Pistol</td>\n",
              "      <td>76561198082200410</td>\n",
              "      <td>0</td>\n",
              "      <td>76561198055054795</td>\n",
              "      <td>0</td>\n",
              "      <td>-747.3146</td>\n",
              "      <td>-49.32681</td>\n",
              "      <td>-1065.5560</td>\n",
              "      <td>9.381622</td>\n",
              "    </tr>\n",
              "    <tr>\n",
              "      <th>4</th>\n",
              "      <td>esea_match_13770997.dem</td>\n",
              "      <td>1</td>\n",
              "      <td>16108</td>\n",
              "      <td>125.4410</td>\n",
              "      <td>Animal Style</td>\n",
              "      <td>Hentai Hooligans</td>\n",
              "      <td>CounterTerrorist</td>\n",
              "      <td>Terrorist</td>\n",
              "      <td>15</td>\n",
              "      <td>7</td>\n",
              "      <td>False</td>\n",
              "      <td>NaN</td>\n",
              "      <td>Chest</td>\n",
              "      <td>USP</td>\n",
              "      <td>Pistol</td>\n",
              "      <td>76561198048742997</td>\n",
              "      <td>0</td>\n",
              "      <td>76561198082200410</td>\n",
              "      <td>0</td>\n",
              "      <td>-1501.8610</td>\n",
              "      <td>49.19798</td>\n",
              "      <td>-748.4188</td>\n",
              "      <td>-53.469220</td>\n",
              "    </tr>\n",
              "    <tr>\n",
              "      <th>...</th>\n",
              "      <td>...</td>\n",
              "      <td>...</td>\n",
              "      <td>...</td>\n",
              "      <td>...</td>\n",
              "      <td>...</td>\n",
              "      <td>...</td>\n",
              "      <td>...</td>\n",
              "      <td>...</td>\n",
              "      <td>...</td>\n",
              "      <td>...</td>\n",
              "      <td>...</td>\n",
              "      <td>...</td>\n",
              "      <td>...</td>\n",
              "      <td>...</td>\n",
              "      <td>...</td>\n",
              "      <td>...</td>\n",
              "      <td>...</td>\n",
              "      <td>...</td>\n",
              "      <td>...</td>\n",
              "      <td>...</td>\n",
              "      <td>...</td>\n",
              "      <td>...</td>\n",
              "      <td>...</td>\n",
              "    </tr>\n",
              "    <tr>\n",
              "      <th>10538177</th>\n",
              "      <td>esea_match_13829173.dem</td>\n",
              "      <td>22</td>\n",
              "      <td>243361</td>\n",
              "      <td>1901.4210</td>\n",
              "      <td>Team 1</td>\n",
              "      <td>Team 2</td>\n",
              "      <td>Terrorist</td>\n",
              "      <td>CounterTerrorist</td>\n",
              "      <td>20</td>\n",
              "      <td>2</td>\n",
              "      <td>False</td>\n",
              "      <td>NaN</td>\n",
              "      <td>Stomach</td>\n",
              "      <td>AK47</td>\n",
              "      <td>Rifle</td>\n",
              "      <td>76561197986109746</td>\n",
              "      <td>0</td>\n",
              "      <td>76561198047370175</td>\n",
              "      <td>0</td>\n",
              "      <td>-1132.0250</td>\n",
              "      <td>-191.14730</td>\n",
              "      <td>-1220.2790</td>\n",
              "      <td>-1279.492000</td>\n",
              "    </tr>\n",
              "    <tr>\n",
              "      <th>10538178</th>\n",
              "      <td>esea_match_13829173.dem</td>\n",
              "      <td>22</td>\n",
              "      <td>243373</td>\n",
              "      <td>1901.5150</td>\n",
              "      <td>Team 1</td>\n",
              "      <td>Team 2</td>\n",
              "      <td>Terrorist</td>\n",
              "      <td>CounterTerrorist</td>\n",
              "      <td>26</td>\n",
              "      <td>3</td>\n",
              "      <td>False</td>\n",
              "      <td>NaN</td>\n",
              "      <td>Chest</td>\n",
              "      <td>AK47</td>\n",
              "      <td>Rifle</td>\n",
              "      <td>76561197986109746</td>\n",
              "      <td>0</td>\n",
              "      <td>76561198047370175</td>\n",
              "      <td>0</td>\n",
              "      <td>-1132.0250</td>\n",
              "      <td>-191.14730</td>\n",
              "      <td>-1218.2490</td>\n",
              "      <td>-1275.254000</td>\n",
              "    </tr>\n",
              "    <tr>\n",
              "      <th>10538179</th>\n",
              "      <td>esea_match_13829173.dem</td>\n",
              "      <td>22</td>\n",
              "      <td>243405</td>\n",
              "      <td>1901.7650</td>\n",
              "      <td>Team 2</td>\n",
              "      <td>Team 1</td>\n",
              "      <td>CounterTerrorist</td>\n",
              "      <td>Terrorist</td>\n",
              "      <td>100</td>\n",
              "      <td>15</td>\n",
              "      <td>False</td>\n",
              "      <td>NaN</td>\n",
              "      <td>Head</td>\n",
              "      <td>AK47</td>\n",
              "      <td>Rifle</td>\n",
              "      <td>76561198047370175</td>\n",
              "      <td>0</td>\n",
              "      <td>76561197986109746</td>\n",
              "      <td>0</td>\n",
              "      <td>-1205.9710</td>\n",
              "      <td>-1271.50400</td>\n",
              "      <td>-1132.0250</td>\n",
              "      <td>-191.147300</td>\n",
              "    </tr>\n",
              "    <tr>\n",
              "      <th>10538180</th>\n",
              "      <td>esea_match_13829173.dem</td>\n",
              "      <td>22</td>\n",
              "      <td>243719</td>\n",
              "      <td>1904.2230</td>\n",
              "      <td>Team 2</td>\n",
              "      <td>Team 1</td>\n",
              "      <td>CounterTerrorist</td>\n",
              "      <td>Terrorist</td>\n",
              "      <td>27</td>\n",
              "      <td>4</td>\n",
              "      <td>False</td>\n",
              "      <td>NaN</td>\n",
              "      <td>Chest</td>\n",
              "      <td>AK47</td>\n",
              "      <td>Rifle</td>\n",
              "      <td>76561198047370175</td>\n",
              "      <td>0</td>\n",
              "      <td>76561198103856560</td>\n",
              "      <td>0</td>\n",
              "      <td>-1217.5950</td>\n",
              "      <td>-1091.54300</td>\n",
              "      <td>-1373.8790</td>\n",
              "      <td>-931.702600</td>\n",
              "    </tr>\n",
              "    <tr>\n",
              "      <th>10538181</th>\n",
              "      <td>esea_match_13829173.dem</td>\n",
              "      <td>22</td>\n",
              "      <td>243755</td>\n",
              "      <td>1904.5050</td>\n",
              "      <td>Team 1</td>\n",
              "      <td>Team 2</td>\n",
              "      <td>Terrorist</td>\n",
              "      <td>CounterTerrorist</td>\n",
              "      <td>54</td>\n",
              "      <td>16</td>\n",
              "      <td>False</td>\n",
              "      <td>NaN</td>\n",
              "      <td>Head</td>\n",
              "      <td>AK47</td>\n",
              "      <td>Rifle</td>\n",
              "      <td>76561198103856560</td>\n",
              "      <td>0</td>\n",
              "      <td>76561198047370175</td>\n",
              "      <td>0</td>\n",
              "      <td>-1378.4040</td>\n",
              "      <td>-936.34030</td>\n",
              "      <td>-1215.1200</td>\n",
              "      <td>-1089.276000</td>\n",
              "    </tr>\n",
              "  </tbody>\n",
              "</table>\n",
              "<p>9505465 rows × 23 columns</p>\n",
              "</div>"
            ],
            "text/plain": [
              "                             file  round  ...  vic_pos_x    vic_pos_y\n",
              "0         esea_match_13770997.dem      1  ...     0.0000     0.000000\n",
              "1         esea_match_13770997.dem      1  ...  -669.5558   -79.769570\n",
              "2         esea_match_13770997.dem      1  ...  -614.1868   -91.707770\n",
              "3         esea_match_13770997.dem      1  ... -1065.5560     9.381622\n",
              "4         esea_match_13770997.dem      1  ...  -748.4188   -53.469220\n",
              "...                           ...    ...  ...        ...          ...\n",
              "10538177  esea_match_13829173.dem     22  ... -1220.2790 -1279.492000\n",
              "10538178  esea_match_13829173.dem     22  ... -1218.2490 -1275.254000\n",
              "10538179  esea_match_13829173.dem     22  ... -1132.0250  -191.147300\n",
              "10538180  esea_match_13829173.dem     22  ... -1373.8790  -931.702600\n",
              "10538181  esea_match_13829173.dem     22  ... -1215.1200 -1089.276000\n",
              "\n",
              "[9505465 rows x 23 columns]"
            ]
          },
          "metadata": {
            "tags": []
          },
          "execution_count": 21
        }
      ]
    },
    {
      "cell_type": "code",
      "metadata": {
        "id": "F-YFErAPCirN"
      },
      "source": [
        ""
      ],
      "execution_count": null,
      "outputs": []
    }
  ]
}