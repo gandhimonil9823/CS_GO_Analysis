{
  "nbformat": 4,
  "nbformat_minor": 0,
  "metadata": {
    "colab": {
      "name": "CS_GO_filter_data.ipynb",
      "provenance": [],
      "collapsed_sections": [],
      "include_colab_link": true
    },
    "kernelspec": {
      "name": "python3",
      "display_name": "Python 3"
    }
  },
  "cells": [
    {
      "cell_type": "markdown",
      "metadata": {
        "id": "view-in-github",
        "colab_type": "text"
      },
      "source": [
        "<a href=\"https://colab.research.google.com/github/gandhimonil9823/CS_GO_Analysis/blob/main/CS_GO_filter_data.ipynb\" target=\"_parent\"><img src=\"https://colab.research.google.com/assets/colab-badge.svg\" alt=\"Open In Colab\"/></a>"
      ]
    },
    {
      "cell_type": "code",
      "metadata": {
        "id": "XwCtK_5ZitDV"
      },
      "source": [
        "import pandas as pd\n",
        "import numpy as np\n",
        "import os"
      ],
      "execution_count": 4,
      "outputs": []
    },
    {
      "cell_type": "code",
      "metadata": {
        "id": "PWUAYaEVisXp",
        "outputId": "294d77d1-4c31-4d6f-8a30-2e27e83c478c",
        "colab": {
          "base_uri": "https://localhost:8080/"
        }
      },
      "source": [
        "from google.colab import drive\n",
        "drive.mount('/content/drive')\n"
      ],
      "execution_count": 5,
      "outputs": [
        {
          "output_type": "stream",
          "text": [
            "Drive already mounted at /content/drive; to attempt to forcibly remount, call drive.mount(\"/content/drive\", force_remount=True).\n"
          ],
          "name": "stdout"
        }
      ]
    },
    {
      "cell_type": "code",
      "metadata": {
        "id": "xXrHTfR4nvZg",
        "outputId": "b968d28d-7e45-4ed1-893c-5a61693faaef",
        "colab": {
          "base_uri": "https://localhost:8080/"
        }
      },
      "source": [
        "cd 'drive/Shared drives/CS_GO_Data'"
      ],
      "execution_count": 6,
      "outputs": [
        {
          "output_type": "stream",
          "text": [
            "/content/drive/Shared drives/CS_GO_Data\n"
          ],
          "name": "stdout"
        }
      ]
    },
    {
      "cell_type": "code",
      "metadata": {
        "id": "vixJHgDaDp9F"
      },
      "source": [
        "master_dmg1 = pd.read_csv('esea_master_dmg_demos.part1.csv')\n",
        "master_dmg2 = pd.read_csv('esea_master_dmg_demos.part2.csv')\n",
        "master_dmg = master_dmg1.append(master_dmg2)\n",
        "\n",
        "df1 = master_dmg[(master_dmg.att_side == master_dmg.vic_side ) & (master_dmg.att_team != master_dmg.vic_team )]\n",
        "df2 = master_dmg[(master_dmg.att_side != master_dmg.vic_side ) & (master_dmg.att_team == master_dmg.vic_team )]\n",
        "\n",
        "df = df1.append(df2)\n",
        "strange_files = df['file'].unique()\n",
        "\n",
        "strange_files = np.append(strange_files, 'esea_match_13787633.dem')\n",
        "strange_files = np.append(strange_files, 'esea_match_13784811.dem')\n",
        "strange_files = np.unique(strange_files)\n"
      ],
      "execution_count": 7,
      "outputs": []
    },
    {
      "cell_type": "code",
      "metadata": {
        "id": "LxNcg1TkxQHo"
      },
      "source": [
        "targets = ['master_dmg', 'master_grenades', 'master_kills', 'meta']\n",
        "\n",
        "for target in targets:\n",
        "  f1 = pd.read_csv(f'esea_{target}_demos.part1.csv')\n",
        "  f2 = pd.read_csv(f'esea_{target}_demos.part2.csv')\n",
        "  f = f1.append(f2)\n",
        "  filtered = f[~f['file'].isin(strange_files)]\n",
        "\n",
        "  filtered.to_csv(f'/content/drive/Shared drives/CS_GO_Data/processed_data/filtered_{target}_demos.csv')"
      ],
      "execution_count": 8,
      "outputs": []
    }
  ]
}